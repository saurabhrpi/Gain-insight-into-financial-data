{
 "cells": [
  {
   "cell_type": "markdown",
   "metadata": {},
   "source": [
    "# Financial Data Analysis"
   ]
  },
  {
   "cell_type": "markdown",
   "metadata": {},
   "source": [
    "## 1. Libraries, tuned settings and a Helper"
   ]
  },
  {
   "cell_type": "code",
   "execution_count": 615,
   "metadata": {},
   "outputs": [],
   "source": [
    "import numpy as np\n",
    "import pandas as pd\n",
    "import matplotlib.pyplot as plt\n",
    "import seaborn as sns\n",
    "import warnings\n",
    "from ggplot import ggplot, geom_line, aes\n",
    "import graphlab as gl\n",
    "import graphlab.aggregate as agg\n",
    "from sklearn.cross_validation import train_test_split\n",
    "from ggplot import *\n",
    "import matplotlib as mpl\n",
    "from sklearn import preprocessing\n",
    "from sklearn.preprocessing import OneHotEncoder\n",
    "from sklearn.decomposition import PCA\n",
    "from sklearn.mixture import GMM\n",
    "from sklearn.cluster import KMeans\n",
    "\n",
    "\n",
    "%matplotlib inline\n",
    "warnings.filterwarnings(\"ignore\")\n",
    "pd.set_option('display.max_columns', None)\n",
    "pd.options.display.max_rows = 4000\n",
    "\n",
    "def box_plot(df,label):\n",
    "    x = df[label]\n",
    "    f, (ax_box, ax_hist) = plt.subplots(2, sharex=True ,\n",
    "                                        gridspec_kw={\"height_ratios\": (.15, .85)})\n",
    "    me = np.mean(x)\n",
    "    st = x.std(); \n",
    "    sns.boxplot(x, ax=ax_box)\n",
    "    sns.distplot(x, ax=ax_hist, kde=False)\n",
    "    ax_box.set(yticks=[])\n",
    "    sns.despine(ax=ax_hist)\n",
    "    sns.despine(ax=ax_box, left=True)\n",
    "    plt.xlim([me-2*st, me+2*st])\n",
    "    plt.show()"
   ]
  },
  {
   "cell_type": "markdown",
   "metadata": {},
   "source": [
    "## 2. Dataset"
   ]
  },
  {
   "cell_type": "code",
   "execution_count": 3,
   "metadata": {},
   "outputs": [
    {
     "name": "stdout",
     "output_type": "stream",
     "text": [
      "page Names has 741 samples with 2 features each.\n",
      "page usage has 617256 samples with 4 features each.\n"
     ]
    }
   ],
   "source": [
    "try:\n",
    "    pnames = pd.read_csv(\"page_names.csv\")\n",
    "    pusage = pd.read_csv(\"page_usage.csv\")\n",
    "    print \"page Names has {} samples with {} features each.\".format(*pnames.shape)\n",
    "    print \"page usage has {} samples with {} features each.\".format(*pusage.shape)\n",
    "except:\n",
    "    print \"Dataset could not be loaded. Is the dataset missing?\""
   ]
  },
  {
   "cell_type": "markdown",
   "metadata": {},
   "source": [
    "### First Look"
   ]
  },
  {
   "cell_type": "code",
   "execution_count": 4,
   "metadata": {},
   "outputs": [
    {
     "data": {
      "text/html": [
       "<div>\n",
       "<table border=\"1\" class=\"dataframe\">\n",
       "  <thead>\n",
       "    <tr style=\"text-align: right;\">\n",
       "      <th></th>\n",
       "      <th>pageID</th>\n",
       "      <th>Name</th>\n",
       "    </tr>\n",
       "  </thead>\n",
       "  <tbody>\n",
       "    <tr>\n",
       "      <th>0</th>\n",
       "      <td>page1</td>\n",
       "      <td>CostSavingsPhaseinSchedule?load</td>\n",
       "    </tr>\n",
       "    <tr>\n",
       "      <th>1</th>\n",
       "      <td>page2</td>\n",
       "      <td>BA MS Summary</td>\n",
       "    </tr>\n",
       "    <tr>\n",
       "      <th>2</th>\n",
       "      <td>page3</td>\n",
       "      <td>Production Cost Detail</td>\n",
       "    </tr>\n",
       "    <tr>\n",
       "      <th>3</th>\n",
       "      <td>page4</td>\n",
       "      <td>BVM SNLxl Template</td>\n",
       "    </tr>\n",
       "    <tr>\n",
       "      <th>4</th>\n",
       "      <td>page5</td>\n",
       "      <td>TV Market Overview</td>\n",
       "    </tr>\n",
       "  </tbody>\n",
       "</table>\n",
       "</div>"
      ],
      "text/plain": [
       "  pageID                             Name\n",
       "0  page1  CostSavingsPhaseinSchedule?load\n",
       "1  page2                    BA MS Summary\n",
       "2  page3           Production Cost Detail\n",
       "3  page4               BVM SNLxl Template\n",
       "4  page5               TV Market Overview"
      ]
     },
     "execution_count": 4,
     "metadata": {},
     "output_type": "execute_result"
    }
   ],
   "source": [
    "pnames.head()"
   ]
  },
  {
   "cell_type": "markdown",
   "metadata": {},
   "source": [
    "**Looks like Names represent categories as there can be more than 1 for a page ID.**"
   ]
  },
  {
   "cell_type": "code",
   "execution_count": 383,
   "metadata": {},
   "outputs": [
    {
     "data": {
      "text/html": [
       "<div>\n",
       "<table border=\"1\" class=\"dataframe\">\n",
       "  <thead>\n",
       "    <tr style=\"text-align: right;\">\n",
       "      <th></th>\n",
       "      <th>pageID</th>\n",
       "    </tr>\n",
       "    <tr>\n",
       "      <th>Name</th>\n",
       "      <th></th>\n",
       "    </tr>\n",
       "  </thead>\n",
       "  <tbody>\n",
       "    <tr>\n",
       "      <th>Knowledge Base</th>\n",
       "      <td>5</td>\n",
       "    </tr>\n",
       "    <tr>\n",
       "      <th>Energy Contracts</th>\n",
       "      <td>3</td>\n",
       "    </tr>\n",
       "    <tr>\n",
       "      <th>Article</th>\n",
       "      <td>2</td>\n",
       "    </tr>\n",
       "    <tr>\n",
       "      <th>Power Plant Summary</th>\n",
       "      <td>2</td>\n",
       "    </tr>\n",
       "    <tr>\n",
       "      <th>Capacity &amp; Generation Summary</th>\n",
       "      <td>2</td>\n",
       "    </tr>\n",
       "  </tbody>\n",
       "</table>\n",
       "</div>"
      ],
      "text/plain": [
       "                               pageID\n",
       "Name                                 \n",
       "Knowledge Base                      5\n",
       "Energy Contracts                    3\n",
       "Article                             2\n",
       "Power Plant Summary                 2\n",
       "Capacity & Generation Summary       2"
      ]
     },
     "execution_count": 383,
     "metadata": {},
     "output_type": "execute_result"
    }
   ],
   "source": [
    "pnames.groupby('Name').agg('count').sort(columns='pageID', axis=0,ascending=False).head()"
   ]
  },
  {
   "cell_type": "markdown",
   "metadata": {},
   "source": [
    "**Null Check**"
   ]
  },
  {
   "cell_type": "code",
   "execution_count": 6,
   "metadata": {},
   "outputs": [
    {
     "name": "stdout",
     "output_type": "stream",
     "text": [
      "pageID    0\n",
      "Name      0\n",
      "dtype: int64\n",
      "userID    0\n",
      "pageID    0\n",
      "day       0\n",
      "time      0\n",
      "dtype: int64\n"
     ]
    }
   ],
   "source": [
    "print(pnames.isnull().sum())\n",
    "print(pusage.isnull().sum())"
   ]
  },
  {
   "cell_type": "markdown",
   "metadata": {},
   "source": [
    "**Unique counts**"
   ]
  },
  {
   "cell_type": "code",
   "execution_count": 7,
   "metadata": {},
   "outputs": [
    {
     "data": {
      "text/plain": [
       "1138"
      ]
     },
     "execution_count": 7,
     "metadata": {},
     "output_type": "execute_result"
    }
   ],
   "source": [
    "len(pusage['userID'].unique())"
   ]
  },
  {
   "cell_type": "code",
   "execution_count": 8,
   "metadata": {},
   "outputs": [
    {
     "data": {
      "text/plain": [
       "array([13, 14, 15, 18, 19, 20, 21, 22, 23,  0, 16,  5, 12, 17,  1,  8,  9,\n",
       "        2,  3,  4,  6,  7, 10, 11])"
      ]
     },
     "execution_count": 8,
     "metadata": {},
     "output_type": "execute_result"
    }
   ],
   "source": [
    "pd.to_datetime(pusage['time'],format= '%H:%M:%S' ).dt.hour.unique()"
   ]
  },
  {
   "cell_type": "markdown",
   "metadata": {},
   "source": [
    "### Combine the two given datasets"
   ]
  },
  {
   "cell_type": "code",
   "execution_count": 9,
   "metadata": {
    "collapsed": true
   },
   "outputs": [],
   "source": [
    "pcomb = pd.merge(pusage,pnames,on='pageID')"
   ]
  },
  {
   "cell_type": "markdown",
   "metadata": {},
   "source": [
    "**Number of views for each page**"
   ]
  },
  {
   "cell_type": "code",
   "execution_count": 10,
   "metadata": {},
   "outputs": [
    {
     "data": {
      "text/plain": [
       "News                                                 61258\n",
       "Editors' Picks                                       61012\n",
       "News: Most Popular                                   61006\n",
       "Features & Blogs                                     60944\n",
       "Top News                                             60854\n",
       "NewsWire                                             60394\n",
       "My Market Indexes                                    36918\n",
       "RRA Articles                                         36458\n",
       "Issues In Focus                                      24022\n",
       "Industry News                                        22378\n",
       "Article                                              10430\n",
       "Corporate Profile                                     8051\n",
       "News Archive Page                                     4626\n",
       "Financial Reports                                     4105\n",
       "SNL Kagan Features                                    3550\n",
       "Companies and Assets                                  3479\n",
       "Power Plant Profile                                   3473\n",
       "Events: Earnings Releases                             3472\n",
       "SNL Research Library                                  3158\n",
       "Universal Search Results                              2868\n",
       "Exchange Rates                                        2809\n",
       "Geographies                                           2807\n",
       "Economic Data                                         2806\n",
       "Stock Chart                                           2650\n",
       "U.S. Markets Summary                                  2550\n",
       "Document Detail                                       2521\n",
       "Rates & Yields                                        2520\n",
       "File                                                  2458\n",
       "SNL Market Movers                                     2448\n",
       "New User Signup: Step 3                               2136\n",
       "                                                     ...  \n",
       "Credit Default Swaps Curve                               1\n",
       "BVM Change Report Value                                  1\n",
       "HistoricalDealClosing?historical                         1\n",
       "Dominant Channel Number                                  1\n",
       "Weekly U. S. Coal Production By Region Historical        1\n",
       "Peer Group Edit (Advanced Search Popup)                  1\n",
       "Media and Communications Wireless & Wireline             1\n",
       "MNA History                                              1\n",
       "Package Subscribers by Operator by County                1\n",
       "Capacity Release by Replacement Shipper                  1\n",
       "Attributable Reserves & Resources                        1\n",
       "Field Chart Created                                      1\n",
       "Wireless License Demographics                            1\n",
       "BA HHI Map                                               1\n",
       "Briefing Book Station List                               1\n",
       "U.S. Life Business Overview                              1\n",
       "Tenant Exposure                                          1\n",
       "ResultsCapitalRatios?reset                               1\n",
       "Property Map Briefing Book                               1\n",
       "Claims Statistics                                        1\n",
       "Maps - Radial Analysis - Generate Report                 1\n",
       "Social Media Alerts                                      1\n",
       "Global Multichannel Operator Analysis                    1\n",
       "Select Period                                            1\n",
       "Video Release Report                                     1\n",
       "Flush Current User Cached Context                        1\n",
       "Active Late-Stage projects                               1\n",
       "Piracy Summary                                           1\n",
       "CopyWorkbookFromUserLibrary                              1\n",
       "DetailedResults?contribution_analysis                    1\n",
       "Name: Name, dtype: int64"
      ]
     },
     "execution_count": 10,
     "metadata": {},
     "output_type": "execute_result"
    }
   ],
   "source": [
    "pcomb['Name'].value_counts()"
   ]
  },
  {
   "cell_type": "markdown",
   "metadata": {},
   "source": [
    "#### Anomaly Detection for Pages:  \n",
    "\n",
    "There is an entry in one of the top most views pages \"New User Signup: Step 3\". I am not sure if it has any meaning at all in this context. I would consider this as a part of noise. So would get rid of it.  \n",
    "During my one the attempts at outlier detection, I also came across following pages, which I think can be removed too on the similar lines of reasoning:  \n",
    "Login  \n",
    "Password  \n",
    "Settings Summary  \n",
    "New User Signup: Step 4  \n",
    "Redirector  \n",
    "Excel View  \n",
    "PDF View"
   ]
  },
  {
   "cell_type": "code",
   "execution_count": 384,
   "metadata": {
    "collapsed": true
   },
   "outputs": [],
   "source": [
    "pcomb_wo = pcomb.copy()\n",
    "pcomb_wo = pcomb_wo[pcomb_wo['Name'] != 'New User Signup: Step 3']\n",
    "pcomb_wo = pcomb_wo[~pcomb_wo['Name'].isin(['Login','Password','Settings Summary','New User Signup: Step 4','Redirector','Excel View','PDF View'])]"
   ]
  },
  {
   "cell_type": "markdown",
   "metadata": {},
   "source": [
    "### Users Analysis"
   ]
  },
  {
   "cell_type": "code",
   "execution_count": 385,
   "metadata": {},
   "outputs": [
    {
     "data": {
      "text/html": [
       "<div>\n",
       "<table border=\"1\" class=\"dataframe\">\n",
       "  <thead>\n",
       "    <tr style=\"text-align: right;\">\n",
       "      <th></th>\n",
       "      <th>userID</th>\n",
       "      <th>pageID</th>\n",
       "      <th>day</th>\n",
       "      <th>count</th>\n",
       "    </tr>\n",
       "  </thead>\n",
       "  <tbody>\n",
       "    <tr>\n",
       "      <th>28779</th>\n",
       "      <td>user550</td>\n",
       "      <td>page474</td>\n",
       "      <td>69</td>\n",
       "      <td>1500</td>\n",
       "    </tr>\n",
       "    <tr>\n",
       "      <th>3602</th>\n",
       "      <td>user1072</td>\n",
       "      <td>page726</td>\n",
       "      <td>84</td>\n",
       "      <td>675</td>\n",
       "    </tr>\n",
       "    <tr>\n",
       "      <th>3550</th>\n",
       "      <td>user1072</td>\n",
       "      <td>page519</td>\n",
       "      <td>84</td>\n",
       "      <td>675</td>\n",
       "    </tr>\n",
       "    <tr>\n",
       "      <th>3468</th>\n",
       "      <td>user1072</td>\n",
       "      <td>page182</td>\n",
       "      <td>84</td>\n",
       "      <td>675</td>\n",
       "    </tr>\n",
       "    <tr>\n",
       "      <th>3523</th>\n",
       "      <td>user1072</td>\n",
       "      <td>page429</td>\n",
       "      <td>84</td>\n",
       "      <td>675</td>\n",
       "    </tr>\n",
       "  </tbody>\n",
       "</table>\n",
       "</div>"
      ],
      "text/plain": [
       "         userID   pageID  day  count\n",
       "28779   user550  page474   69   1500\n",
       "3602   user1072  page726   84    675\n",
       "3550   user1072  page519   84    675\n",
       "3468   user1072  page182   84    675\n",
       "3523   user1072  page429   84    675"
      ]
     },
     "execution_count": 385,
     "metadata": {},
     "output_type": "execute_result"
    }
   ],
   "source": [
    "pcomb_wo.groupby(['userID','pageID','day']).agg('count').reset_index().sort(columns='time',ascending=False).rename(columns={\"time\":\"count\"}).drop(['Name'],axis=1).head()"
   ]
  },
  {
   "cell_type": "markdown",
   "metadata": {},
   "source": [
    "#### Anamoly Detection for Users"
   ]
  },
  {
   "cell_type": "markdown",
   "metadata": {},
   "source": [
    "1500 hits by one user for the same page in one day seems unconvincing for me. So I would remove it."
   ]
  },
  {
   "cell_type": "code",
   "execution_count": 386,
   "metadata": {},
   "outputs": [],
   "source": [
    "pcomb_wo = pcomb_wo[~((pcomb_wo['userID']=='user550') & (pcomb_wo['pageID']=='page474') & (pcomb_wo['day']==69))]"
   ]
  },
  {
   "cell_type": "markdown",
   "metadata": {},
   "source": [
    "**Most active users**"
   ]
  },
  {
   "cell_type": "code",
   "execution_count": 418,
   "metadata": {},
   "outputs": [
    {
     "data": {
      "text/html": [
       "<div>\n",
       "<table border=\"1\" class=\"dataframe\">\n",
       "  <thead>\n",
       "    <tr style=\"text-align: right;\">\n",
       "      <th></th>\n",
       "      <th>pageID</th>\n",
       "      <th>day</th>\n",
       "      <th>time</th>\n",
       "      <th>Name</th>\n",
       "    </tr>\n",
       "    <tr>\n",
       "      <th>userID</th>\n",
       "      <th></th>\n",
       "      <th></th>\n",
       "      <th></th>\n",
       "      <th></th>\n",
       "    </tr>\n",
       "  </thead>\n",
       "  <tbody>\n",
       "    <tr>\n",
       "      <th>user480</th>\n",
       "      <td>33826</td>\n",
       "      <td>33826</td>\n",
       "      <td>33826</td>\n",
       "      <td>33826</td>\n",
       "    </tr>\n",
       "    <tr>\n",
       "      <th>user1120</th>\n",
       "      <td>33059</td>\n",
       "      <td>33059</td>\n",
       "      <td>33059</td>\n",
       "      <td>33059</td>\n",
       "    </tr>\n",
       "    <tr>\n",
       "      <th>user1129</th>\n",
       "      <td>28141</td>\n",
       "      <td>28141</td>\n",
       "      <td>28141</td>\n",
       "      <td>28141</td>\n",
       "    </tr>\n",
       "    <tr>\n",
       "      <th>user115</th>\n",
       "      <td>10994</td>\n",
       "      <td>10994</td>\n",
       "      <td>10994</td>\n",
       "      <td>10994</td>\n",
       "    </tr>\n",
       "    <tr>\n",
       "      <th>user805</th>\n",
       "      <td>10733</td>\n",
       "      <td>10733</td>\n",
       "      <td>10733</td>\n",
       "      <td>10733</td>\n",
       "    </tr>\n",
       "  </tbody>\n",
       "</table>\n",
       "</div>"
      ],
      "text/plain": [
       "          pageID    day   time   Name\n",
       "userID                               \n",
       "user480    33826  33826  33826  33826\n",
       "user1120   33059  33059  33059  33059\n",
       "user1129   28141  28141  28141  28141\n",
       "user115    10994  10994  10994  10994\n",
       "user805    10733  10733  10733  10733"
      ]
     },
     "execution_count": 418,
     "metadata": {},
     "output_type": "execute_result"
    }
   ],
   "source": [
    "pcomb_wo.groupby('userID').agg('count').sort(columns='pageID',ascending=False).head()"
   ]
  },
  {
   "cell_type": "markdown",
   "metadata": {},
   "source": [
    "**Just 15 percent of the users consitute more than 80% of the total views**"
   ]
  },
  {
   "cell_type": "code",
   "execution_count": 443,
   "metadata": {},
   "outputs": [
    {
     "data": {
      "text/plain": [
       "<matplotlib.axes._subplots.AxesSubplot at 0x137c23a10>"
      ]
     },
     "execution_count": 443,
     "metadata": {},
     "output_type": "execute_result"
    },
    {
     "data": {
      "image/png": "[encoded data removed]",
      "text/plain": [
       "<matplotlib.figure.Figure at 0x137c3da50>"
      ]
     },
     "metadata": {},
     "output_type": "display_data"
    }
   ],
   "source": [
    "udf = pcomb_wo.groupby('userID').agg('count').sort(columns='pageID',ascending=False)\n",
    "udf = udf.rename(columns={\"pageID\":\"count\"})\n",
    "udf = udf.drop(['day','time'],axis=1)\n",
    "udf['cum_perc_Views'] = (udf['count'].cumsum() / udf['count'].sum()) * 100\n",
    "udf['cum_user_count']= udf.reset_index().sort(columns='cum_perc_Views')['userID'].cumsum().index + 1\n",
    "udf['cum_perc_user'] = (udf['cum_user_count']/udf['cum_user_count'].tail(1)[0])*100 \n",
    "udf = udf.drop('cum_user_count',axis=1)\n",
    "udf.reset_index().sort(columns='cum_perc_Views').head(500).plot(x='cum_perc_user',y='cum_perc_Views',figsize=(16,12),kind='line')"
   ]
  },
  {
   "cell_type": "markdown",
   "metadata": {},
   "source": [
    "** Analyzing the viewing habits of top two most active users **"
   ]
  },
  {
   "cell_type": "code",
   "execution_count": 684,
   "metadata": {},
   "outputs": [
    {
     "data": {
      "text/plain": [
       "array(['Features & Blogs', 'News: Most Popular', \"Editors' Picks\", 'News',\n",
       "       'Top News', 'Industry News', 'Issues In Focus', 'NewsWire',\n",
       "       'Events: Company Meetings', 'Latest Filings',\n",
       "       'Updated U.S. Bank Reg Financials', 'Events: Earnings Releases',\n",
       "       'Events: Conference Calls', 'Updated Company Financials',\n",
       "       'Companies and Assets', 'Corporate Profile', 'Article',\n",
       "       'Exchange Rates', 'Economic Data', 'Geographies', 'Officers',\n",
       "       'Universal Search Results', 'Officers Bio', 'Departments',\n",
       "       'Community Banker: Loans and Assets', 'Peer Analytics Report',\n",
       "       'Document Detail', 'Financial Reports', 'Credit Ratings',\n",
       "       'Corporate Structure', 'M&A History', 'Corporate Compensation',\n",
       "       'Global Bank Branch Map',\n",
       "       'Community Banker: Deposits and Other Liabilities',\n",
       "       'Demographics Data', 'MyInteractive - Features',\n",
       "       'BVM Launch Application', 'Community Banker: Asset Quality',\n",
       "       'Currency Exchange Rates', 'Press Releases', 'Features',\n",
       "       'MergersDataProvider?active_ws_content', 'M&A Deal Overview',\n",
       "       'Professionals',\n",
       "       'MergerAnalysisWorksheetMgr?cp_base_company_palette',\n",
       "       'Peer Analytics', 'File', 'BVM Run Analysis', 'GetWorkspace',\n",
       "       'AddWorkbook', 'Rates & Yields',\n",
       "       'MergerAnalysisWorksheetMgr?cp_company_palette',\n",
       "       'UserCompanySearch', 'Country Profile', 'As Reported Report',\n",
       "       'GetUserInfo', 'BranchLocations', 'Calendar Detail', 'InitWorkspace'], dtype=object)"
      ]
     },
     "execution_count": 684,
     "metadata": {},
     "output_type": "execute_result"
    }
   ],
   "source": [
    "mau = udf.reset_index().sort(columns='cum_perc_Views')\n",
    "mau = mau[mau['cum_perc_user']<=15]\n",
    "usdf = pcomb_wo[pcomb_wo['userID'].isin(mau.userID.values)]\n",
    "temp = usdf.groupby(['userID','pageID']).agg('count').reset_index().rename(columns={\"time\":\"count\"}).drop(['Name','day'],axis=1)\n",
    "x = temp[temp['userID']=='user480'].sort('count',ascending=False)\n",
    "pd.merge(x,pcomb_wo,on=['pageID','userID']).Name.unique()"
   ]
  },
  {
   "cell_type": "code",
   "execution_count": 685,
   "metadata": {},
   "outputs": [
    {
     "data": {
      "text/plain": [
       "array(['NewsWire', 'News', 'My Market Indexes', 'News: Most Popular',\n",
       "       \"Editors' Picks\", 'Top News', 'Features & Blogs', 'RRA Articles',\n",
       "       'Article', 'Knowledge Base', 'Document Detail', 'File',\n",
       "       'Departments', 'Select Services', 'Wizard - EmailAlerts',\n",
       "       'NewsWire Popup'], dtype=object)"
      ]
     },
     "execution_count": 685,
     "metadata": {},
     "output_type": "execute_result"
    }
   ],
   "source": [
    "usdf = pcomb_wo[pcomb_wo['userID'].isin(mau.userID.values)]\n",
    "temp = usdf[usdf['userID']!='user480'].groupby(['userID','pageID']).agg('count').reset_index().rename(columns={\"time\":\"count\"}).drop(['Name','day'],axis=1).sort('count',ascending=False)\n",
    "x = temp[temp['userID']=='user1120'].sort('count',ascending=False)\n",
    "pd.merge(x,pcomb_wo,on=['pageID','userID']).Name.unique()"
   ]
  },
  {
   "cell_type": "markdown",
   "metadata": {},
   "source": [
    "### Pages Analysis"
   ]
  },
  {
   "cell_type": "code",
   "execution_count": 686,
   "metadata": {},
   "outputs": [
    {
     "data": {
      "text/html": [
       "<div>\n",
       "<table border=\"1\" class=\"dataframe\">\n",
       "  <thead>\n",
       "    <tr style=\"text-align: right;\">\n",
       "      <th></th>\n",
       "      <th>Name</th>\n",
       "      <th>Views</th>\n",
       "      <th>cum_perc_Views</th>\n",
       "    </tr>\n",
       "  </thead>\n",
       "  <tbody>\n",
       "    <tr>\n",
       "      <th>0</th>\n",
       "      <td>News</td>\n",
       "      <td>61258</td>\n",
       "      <td>10.102546</td>\n",
       "    </tr>\n",
       "    <tr>\n",
       "      <th>1</th>\n",
       "      <td>Editors' Picks</td>\n",
       "      <td>61012</td>\n",
       "      <td>20.164522</td>\n",
       "    </tr>\n",
       "    <tr>\n",
       "      <th>2</th>\n",
       "      <td>News: Most Popular</td>\n",
       "      <td>61006</td>\n",
       "      <td>30.225509</td>\n",
       "    </tr>\n",
       "    <tr>\n",
       "      <th>3</th>\n",
       "      <td>Features &amp; Blogs</td>\n",
       "      <td>60944</td>\n",
       "      <td>40.276271</td>\n",
       "    </tr>\n",
       "    <tr>\n",
       "      <th>4</th>\n",
       "      <td>Top News</td>\n",
       "      <td>60854</td>\n",
       "      <td>50.312190</td>\n",
       "    </tr>\n",
       "    <tr>\n",
       "      <th>5</th>\n",
       "      <td>NewsWire</td>\n",
       "      <td>60394</td>\n",
       "      <td>60.272247</td>\n",
       "    </tr>\n",
       "    <tr>\n",
       "      <th>6</th>\n",
       "      <td>My Market Indexes</td>\n",
       "      <td>36918</td>\n",
       "      <td>66.360689</td>\n",
       "    </tr>\n",
       "    <tr>\n",
       "      <th>7</th>\n",
       "      <td>RRA Articles</td>\n",
       "      <td>36458</td>\n",
       "      <td>72.373269</td>\n",
       "    </tr>\n",
       "    <tr>\n",
       "      <th>8</th>\n",
       "      <td>Issues In Focus</td>\n",
       "      <td>24022</td>\n",
       "      <td>76.334929</td>\n",
       "    </tr>\n",
       "    <tr>\n",
       "      <th>9</th>\n",
       "      <td>Industry News</td>\n",
       "      <td>22378</td>\n",
       "      <td>80.025463</td>\n",
       "    </tr>\n",
       "    <tr>\n",
       "      <th>10</th>\n",
       "      <td>Article</td>\n",
       "      <td>10430</td>\n",
       "      <td>81.745558</td>\n",
       "    </tr>\n",
       "    <tr>\n",
       "      <th>11</th>\n",
       "      <td>Corporate Profile</td>\n",
       "      <td>8051</td>\n",
       "      <td>83.073313</td>\n",
       "    </tr>\n",
       "    <tr>\n",
       "      <th>12</th>\n",
       "      <td>News Archive Page</td>\n",
       "      <td>4626</td>\n",
       "      <td>83.836223</td>\n",
       "    </tr>\n",
       "    <tr>\n",
       "      <th>13</th>\n",
       "      <td>SNL Kagan Features</td>\n",
       "      <td>3550</td>\n",
       "      <td>84.421682</td>\n",
       "    </tr>\n",
       "    <tr>\n",
       "      <th>14</th>\n",
       "      <td>Companies and Assets</td>\n",
       "      <td>3479</td>\n",
       "      <td>84.995432</td>\n",
       "    </tr>\n",
       "    <tr>\n",
       "      <th>15</th>\n",
       "      <td>Power Plant Profile</td>\n",
       "      <td>3473</td>\n",
       "      <td>85.568192</td>\n",
       "    </tr>\n",
       "    <tr>\n",
       "      <th>16</th>\n",
       "      <td>Events: Earnings Releases</td>\n",
       "      <td>3472</td>\n",
       "      <td>86.140787</td>\n",
       "    </tr>\n",
       "    <tr>\n",
       "      <th>17</th>\n",
       "      <td>SNL Research Library</td>\n",
       "      <td>3158</td>\n",
       "      <td>86.661598</td>\n",
       "    </tr>\n",
       "    <tr>\n",
       "      <th>18</th>\n",
       "      <td>Universal Search Results</td>\n",
       "      <td>2868</td>\n",
       "      <td>87.134583</td>\n",
       "    </tr>\n",
       "    <tr>\n",
       "      <th>19</th>\n",
       "      <td>Exchange Rates</td>\n",
       "      <td>2809</td>\n",
       "      <td>87.597838</td>\n",
       "    </tr>\n",
       "    <tr>\n",
       "      <th>20</th>\n",
       "      <td>Geographies</td>\n",
       "      <td>2807</td>\n",
       "      <td>88.060762</td>\n",
       "    </tr>\n",
       "    <tr>\n",
       "      <th>21</th>\n",
       "      <td>Economic Data</td>\n",
       "      <td>2806</td>\n",
       "      <td>88.523522</td>\n",
       "    </tr>\n",
       "    <tr>\n",
       "      <th>22</th>\n",
       "      <td>Stock Chart</td>\n",
       "      <td>2650</td>\n",
       "      <td>88.960555</td>\n",
       "    </tr>\n",
       "    <tr>\n",
       "      <th>23</th>\n",
       "      <td>Financial Reports</td>\n",
       "      <td>2605</td>\n",
       "      <td>89.390166</td>\n",
       "    </tr>\n",
       "    <tr>\n",
       "      <th>24</th>\n",
       "      <td>U.S. Markets Summary</td>\n",
       "      <td>2550</td>\n",
       "      <td>89.810707</td>\n",
       "    </tr>\n",
       "    <tr>\n",
       "      <th>25</th>\n",
       "      <td>Document Detail</td>\n",
       "      <td>2521</td>\n",
       "      <td>90.226465</td>\n",
       "    </tr>\n",
       "    <tr>\n",
       "      <th>26</th>\n",
       "      <td>Rates &amp; Yields</td>\n",
       "      <td>2520</td>\n",
       "      <td>90.642059</td>\n",
       "    </tr>\n",
       "    <tr>\n",
       "      <th>27</th>\n",
       "      <td>File</td>\n",
       "      <td>2458</td>\n",
       "      <td>91.047427</td>\n",
       "    </tr>\n",
       "    <tr>\n",
       "      <th>28</th>\n",
       "      <td>SNL Market Movers</td>\n",
       "      <td>2448</td>\n",
       "      <td>91.451146</td>\n",
       "    </tr>\n",
       "    <tr>\n",
       "      <th>29</th>\n",
       "      <td>Latest Filings</td>\n",
       "      <td>1750</td>\n",
       "      <td>91.739753</td>\n",
       "    </tr>\n",
       "    <tr>\n",
       "      <th>30</th>\n",
       "      <td>Maps - Info Tool</td>\n",
       "      <td>1723</td>\n",
       "      <td>92.023907</td>\n",
       "    </tr>\n",
       "    <tr>\n",
       "      <th>31</th>\n",
       "      <td>Briefing Book Search</td>\n",
       "      <td>1286</td>\n",
       "      <td>92.235991</td>\n",
       "    </tr>\n",
       "    <tr>\n",
       "      <th>32</th>\n",
       "      <td>Updated Company Financials</td>\n",
       "      <td>1174</td>\n",
       "      <td>92.429605</td>\n",
       "    </tr>\n",
       "    <tr>\n",
       "      <th>33</th>\n",
       "      <td>Knowledge Base</td>\n",
       "      <td>1159</td>\n",
       "      <td>92.620745</td>\n",
       "    </tr>\n",
       "    <tr>\n",
       "      <th>34</th>\n",
       "      <td>Departments</td>\n",
       "      <td>1147</td>\n",
       "      <td>92.809906</td>\n",
       "    </tr>\n",
       "    <tr>\n",
       "      <th>35</th>\n",
       "      <td>Corporate Structure</td>\n",
       "      <td>1105</td>\n",
       "      <td>92.992140</td>\n",
       "    </tr>\n",
       "    <tr>\n",
       "      <th>36</th>\n",
       "      <td>Maps - BB Map CRE</td>\n",
       "      <td>998</td>\n",
       "      <td>93.156728</td>\n",
       "    </tr>\n",
       "    <tr>\n",
       "      <th>37</th>\n",
       "      <td>Maps - BB Map CRE Street View</td>\n",
       "      <td>990</td>\n",
       "      <td>93.319997</td>\n",
       "    </tr>\n",
       "    <tr>\n",
       "      <th>38</th>\n",
       "      <td>Officers</td>\n",
       "      <td>980</td>\n",
       "      <td>93.481617</td>\n",
       "    </tr>\n",
       "    <tr>\n",
       "      <th>39</th>\n",
       "      <td>Research</td>\n",
       "      <td>973</td>\n",
       "      <td>93.642082</td>\n",
       "    </tr>\n",
       "    <tr>\n",
       "      <th>40</th>\n",
       "      <td>Updated U.S. Bank Reg Financials</td>\n",
       "      <td>966</td>\n",
       "      <td>93.801393</td>\n",
       "    </tr>\n",
       "    <tr>\n",
       "      <th>41</th>\n",
       "      <td>Documents</td>\n",
       "      <td>957</td>\n",
       "      <td>93.959219</td>\n",
       "    </tr>\n",
       "    <tr>\n",
       "      <th>42</th>\n",
       "      <td>Events: Conference Calls</td>\n",
       "      <td>951</td>\n",
       "      <td>94.116056</td>\n",
       "    </tr>\n",
       "    <tr>\n",
       "      <th>43</th>\n",
       "      <td>Events: Company Meetings</td>\n",
       "      <td>942</td>\n",
       "      <td>94.271409</td>\n",
       "    </tr>\n",
       "    <tr>\n",
       "      <th>44</th>\n",
       "      <td>MyInteractive - Features</td>\n",
       "      <td>764</td>\n",
       "      <td>94.397406</td>\n",
       "    </tr>\n",
       "    <tr>\n",
       "      <th>45</th>\n",
       "      <td>CRE Property Profile</td>\n",
       "      <td>755</td>\n",
       "      <td>94.521919</td>\n",
       "    </tr>\n",
       "    <tr>\n",
       "      <th>46</th>\n",
       "      <td>M&amp;A Deal Overview</td>\n",
       "      <td>644</td>\n",
       "      <td>94.628126</td>\n",
       "    </tr>\n",
       "    <tr>\n",
       "      <th>47</th>\n",
       "      <td>Maps - BB Map CRE Info Tool</td>\n",
       "      <td>635</td>\n",
       "      <td>94.732849</td>\n",
       "    </tr>\n",
       "    <tr>\n",
       "      <th>48</th>\n",
       "      <td>SNL News</td>\n",
       "      <td>627</td>\n",
       "      <td>94.836253</td>\n",
       "    </tr>\n",
       "    <tr>\n",
       "      <th>49</th>\n",
       "      <td>Select Services</td>\n",
       "      <td>604</td>\n",
       "      <td>94.935863</td>\n",
       "    </tr>\n",
       "    <tr>\n",
       "      <th>50</th>\n",
       "      <td>PP Units</td>\n",
       "      <td>561</td>\n",
       "      <td>95.028382</td>\n",
       "    </tr>\n",
       "    <tr>\n",
       "      <th>51</th>\n",
       "      <td>Commodity Watchlist</td>\n",
       "      <td>551</td>\n",
       "      <td>95.119252</td>\n",
       "    </tr>\n",
       "    <tr>\n",
       "      <th>52</th>\n",
       "      <td>Mapping Silo Infotool</td>\n",
       "      <td>494</td>\n",
       "      <td>95.200722</td>\n",
       "    </tr>\n",
       "    <tr>\n",
       "      <th>53</th>\n",
       "      <td>Power Plants</td>\n",
       "      <td>437</td>\n",
       "      <td>95.272791</td>\n",
       "    </tr>\n",
       "    <tr>\n",
       "      <th>54</th>\n",
       "      <td>Commodity Chart</td>\n",
       "      <td>428</td>\n",
       "      <td>95.343376</td>\n",
       "    </tr>\n",
       "  </tbody>\n",
       "</table>\n",
       "</div>"
      ],
      "text/plain": [
       "                                Name  Views  cum_perc_Views\n",
       "0                               News  61258       10.102546\n",
       "1                     Editors' Picks  61012       20.164522\n",
       "2                 News: Most Popular  61006       30.225509\n",
       "3                   Features & Blogs  60944       40.276271\n",
       "4                           Top News  60854       50.312190\n",
       "5                           NewsWire  60394       60.272247\n",
       "6                  My Market Indexes  36918       66.360689\n",
       "7                       RRA Articles  36458       72.373269\n",
       "8                    Issues In Focus  24022       76.334929\n",
       "9                      Industry News  22378       80.025463\n",
       "10                           Article  10430       81.745558\n",
       "11                 Corporate Profile   8051       83.073313\n",
       "12                 News Archive Page   4626       83.836223\n",
       "13                SNL Kagan Features   3550       84.421682\n",
       "14              Companies and Assets   3479       84.995432\n",
       "15               Power Plant Profile   3473       85.568192\n",
       "16         Events: Earnings Releases   3472       86.140787\n",
       "17              SNL Research Library   3158       86.661598\n",
       "18          Universal Search Results   2868       87.134583\n",
       "19                    Exchange Rates   2809       87.597838\n",
       "20                       Geographies   2807       88.060762\n",
       "21                     Economic Data   2806       88.523522\n",
       "22                       Stock Chart   2650       88.960555\n",
       "23                 Financial Reports   2605       89.390166\n",
       "24              U.S. Markets Summary   2550       89.810707\n",
       "25                   Document Detail   2521       90.226465\n",
       "26                    Rates & Yields   2520       90.642059\n",
       "27                              File   2458       91.047427\n",
       "28                 SNL Market Movers   2448       91.451146\n",
       "29                    Latest Filings   1750       91.739753\n",
       "30                  Maps - Info Tool   1723       92.023907\n",
       "31              Briefing Book Search   1286       92.235991\n",
       "32        Updated Company Financials   1174       92.429605\n",
       "33                    Knowledge Base   1159       92.620745\n",
       "34                       Departments   1147       92.809906\n",
       "35               Corporate Structure   1105       92.992140\n",
       "36                 Maps - BB Map CRE    998       93.156728\n",
       "37     Maps - BB Map CRE Street View    990       93.319997\n",
       "38                          Officers    980       93.481617\n",
       "39                          Research    973       93.642082\n",
       "40  Updated U.S. Bank Reg Financials    966       93.801393\n",
       "41                         Documents    957       93.959219\n",
       "42          Events: Conference Calls    951       94.116056\n",
       "43          Events: Company Meetings    942       94.271409\n",
       "44          MyInteractive - Features    764       94.397406\n",
       "45              CRE Property Profile    755       94.521919\n",
       "46                 M&A Deal Overview    644       94.628126\n",
       "47       Maps - BB Map CRE Info Tool    635       94.732849\n",
       "48                          SNL News    627       94.836253\n",
       "49                   Select Services    604       94.935863\n",
       "50                          PP Units    561       95.028382\n",
       "51               Commodity Watchlist    551       95.119252\n",
       "52             Mapping Silo Infotool    494       95.200722\n",
       "53                      Power Plants    437       95.272791\n",
       "54                   Commodity Chart    428       95.343376"
      ]
     },
     "execution_count": 686,
     "metadata": {},
     "output_type": "execute_result"
    }
   ],
   "source": [
    "pageViews = pcomb_wo['Name'].value_counts()\n",
    "d = {'Name':pageViews.index,'Views':pageViews.values}\n",
    "pageViews = pd.DataFrame(data=d)\n",
    "pageViews['cum_perc_Views'] = (pageViews['Views'].cumsum() / pageViews['Views'].sum()) * 100\n",
    "pageViews.head(55)"
   ]
  },
  {
   "cell_type": "markdown",
   "metadata": {},
   "source": [
    "**Out of a total of 720 distinct page categories, top 35 most viewed constitute more than 90% of all the views**"
   ]
  },
  {
   "cell_type": "code",
   "execution_count": 394,
   "metadata": {},
   "outputs": [
    {
     "data": {
      "text/plain": [
       "<matplotlib.axes._subplots.AxesSubplot at 0x135a7c190>"
      ]
     },
     "execution_count": 394,
     "metadata": {},
     "output_type": "execute_result"
    },
    {
     "data": {
      "image/png": "[encoded data removed]",
      "text/plain": [
       "<matplotlib.figure.Figure at 0x135a91d90>"
      ]
     },
     "metadata": {},
     "output_type": "display_data"
    }
   ],
   "source": [
    "xticks = [x for x in range(35)]\n",
    "pageViews.head(35).plot(x='Name',y='cum_perc_Views',kind='line',figsize=(16,12),xticks = xticks,rot=90,fontsize=12)"
   ]
  },
  {
   "cell_type": "markdown",
   "metadata": {},
   "source": [
    "### Breakdown of top 35 most viewed pages:\n",
    "\n",
    "A cursory inspection tells us that the pages can be categorized into one of the following: \n",
    "\n",
    "**News**  \n",
    "\n",
    "This may include all the pages related to news, opinions, blogs, articles, specifically:  \n",
    "News  \n",
    "Editors' Picks  \n",
    "News: Most Popular  \n",
    "Features & Blogs  \n",
    "Top News  \n",
    "NewsWire  \n",
    "RRA Articles  \n",
    "Issues In Focus  \n",
    "Industry News  \n",
    "Article  \n",
    "Events: Earnings Releases  \n",
    "News Archive Page  \n",
    "Latest Filings  \n",
    "US Markets Summary  \n",
    "SNL Market Movers  \n",
    "\n",
    "**Individual Portfolio**  \n",
    "\n",
    "This can include all the pages related to an end user's personalized experience on the platform, specifically:  \n",
    "My Market Indexes  \n",
    "Corporate Profile  \n",
    "Stock Chart  \n",
    "Document Detail  \n",
    "Power Plant Profile  \n",
    "\n",
    "**Research**  \n",
    "\n",
    "This can include all the pages related to search performed, any specific research done, specifically:  \n",
    "Universal Search Results  \n",
    "SNL Research Library  \n",
    "Briefing Book Search  \n",
    "Knowledge Base  \n",
    "\n",
    "**Others**  \n",
    "\n",
    "This can include the rest of the pages, specifically:  \n",
    "Financial Reports  \n",
    "SNL Kagan Features  \n",
    "Companies and Assets  \n",
    "Exchange Rates  \n",
    "Geographies  \n",
    "Economic Data  \n",
    "Rates & Yields  \n",
    "File  \n",
    "Maps - Info Tool  \n",
    "Departments  \n",
    "Updated Company Financials"
   ]
  },
  {
   "cell_type": "code",
   "execution_count": 396,
   "metadata": {},
   "outputs": [
    {
     "data": {
      "image/png": "[encoded data removed]",
      "text/plain": [
       "<matplotlib.figure.Figure at 0x13613c050>"
      ]
     },
     "metadata": {},
     "output_type": "display_data"
    }
   ],
   "source": [
    "nv = pageViews.loc[pageViews['Name'].isin(['News','Editors\\' Picks','News: Most Popular','Features & Blogs',\n",
    "                                     'Top News','NewsWire','RRA Articles','Issues In Focus','Industry News','Article',\n",
    "                                     'Events: Earnings Releases','News Archive Page','Latest Filings'\n",
    "                                      ,'US Markets Summary','SNL Market Movers']),'Views'].sum(axis=0)\n",
    "ipv = pageViews.loc[pageViews['Name'].isin(['My Market Indexes','Corporate Profile','Stock Chart','Document Detail',\n",
    "                                            'Power Plant Profile']),'Views'].sum(axis=0)\n",
    "rv = pageViews.loc[pageViews['Name'].isin(['Universal Search Results','SNL Research Library','Briefing Book Search'\n",
    "                                          ,'Knowledge Base']),'Views'].sum(axis=0)\n",
    "ov = pageViews.loc[pageViews['Name'].isin(['Financial Reports','SNL Kagan Features','Companies and Assets'\n",
    "                                          ,'Exchange Rates','Geographies','Economic Data','Rates & Yields',\n",
    "                                          'File','Maps - Info Tool','Departments','Updated Company Financials'\n",
    "                                          ]),'Views'].sum(axis=0)  \n",
    "\n",
    "# Data to plot\n",
    "\n",
    "labels = ['News','Individual Portfolio','Research','Others']\n",
    "Views = [nv, ipv, rv, ov]\n",
    "colors = ['gold', 'yellowgreen', 'lightcoral', 'lightskyblue']\n",
    "explode = (0.1, 0, 0, 0)  # explode 1st slice\n",
    " \n",
    "# Plot\n",
    "mpl.rcParams['font.size'] = 14.0\n",
    "\n",
    "patches, texts, autotexts  = plt.pie(Views, explode=explode, labels=labels, colors=colors,\n",
    "        autopct='%1.1f%%', shadow=True)\n",
    "texts[0].set_fontsize(14)\n",
    "texts[1].set_fontsize(14)\n",
    "texts[2].set_fontsize(14)\n",
    "texts[3].set_fontsize(14)\n",
    "\n",
    "plt.axis('equal')\n",
    "fig = plt.gcf()\n",
    "fig.set_size_inches(7,7) \n",
    "plt.show()"
   ]
  },
  {
   "cell_type": "markdown",
   "metadata": {},
   "source": [
    "**More than 500 page categories contribute to less than 1 percent of views**"
   ]
  },
  {
   "cell_type": "code",
   "execution_count": 397,
   "metadata": {},
   "outputs": [
    {
     "data": {
      "text/plain": [
       "(509, 3)"
      ]
     },
     "execution_count": 397,
     "metadata": {},
     "output_type": "execute_result"
    }
   ],
   "source": [
    "pageViews[pageViews.cum_perc_Views > 99].shape"
   ]
  },
  {
   "cell_type": "markdown",
   "metadata": {},
   "source": [
    "### Most viewed pages viewership based on time of the day"
   ]
  },
  {
   "cell_type": "code",
   "execution_count": 403,
   "metadata": {},
   "outputs": [
    {
     "data": {
      "image/png": "[encoded data removed]",
      "text/plain": [
       "<matplotlib.figure.Figure at 0x134de66d0>"
      ]
     },
     "metadata": {},
     "output_type": "display_data"
    },
    {
     "data": {
      "text/plain": [
       "<ggplot: (330425213)>"
      ]
     },
     "execution_count": 403,
     "metadata": {},
     "output_type": "execute_result"
    }
   ],
   "source": [
    "mvp = pageViews['Name'].head(30)\n",
    "uvdf = pd.DataFrame(pcomb_wo.loc[pcomb_wo['Name'].isin(mvp.values),['userID','time','Name']])\n",
    "uvdf = uvdf.loc[uvdf['userID'].isin(mau),:]\n",
    "uvdf['time'] = pd.to_datetime(uvdf['time'],format= '%H:%M:%S' ).dt.hour\n",
    "uvdfN = uvdf.groupby(['Name','time']).agg('count').reset_index()\n",
    "uvdfN = uvdfN.rename(columns={\"userID\":\"active_members_count\"})\n",
    "\n",
    "p = ggplot(aes(x='time', y='Name', color='active_members_count'), data=uvdfN) + \\\n",
    "    geom_point() + \\\n",
    "    scale_color_gradient(low = 'white', high = 'black')   \n",
    "\n",
    "t = theme_bw()\n",
    "#t._rcParams['figure.figsize'] = 20,20 # Legend font size\n",
    "t._rcParams['font.size'] = 20 # Legend font size\n",
    "t._rcParams['xtick.labelsize'] = 15 # xaxis tick label size\n",
    "t._rcParams['ytick.labelsize'] = 10 # yaxis tick label size\n",
    "t._rcParams['axes.labelsize'] = 15  # axis label size\n",
    "p + t    "
   ]
  },
  {
   "cell_type": "code",
   "execution_count": 404,
   "metadata": {
    "collapsed": true
   },
   "outputs": [],
   "source": [
    "del uvdf"
   ]
  },
  {
   "cell_type": "markdown",
   "metadata": {},
   "source": [
    "### Most of the views happen in PM"
   ]
  },
  {
   "cell_type": "code",
   "execution_count": 339,
   "metadata": {},
   "outputs": [
    {
     "data": {
      "text/plain": [
       "<matplotlib.axes._subplots.AxesSubplot at 0x13a6d2690>"
      ]
     },
     "execution_count": 339,
     "metadata": {},
     "output_type": "execute_result"
    },
    {
     "data": {
      "image/png": "[encoded data removed]",
      "text/plain": [
       "<matplotlib.figure.Figure at 0x13a6e6090>"
      ]
     },
     "metadata": {},
     "output_type": "display_data"
    }
   ],
   "source": [
    "p = pd.to_datetime(pcomb_wo['time'],format= '%H:%M:%S' ).dt.hour\n",
    "tsViews = p.value_counts()\n",
    "d = {'HourOfDay':tsViews.index,'Views':tsViews.values}\n",
    "tsViews = pd.DataFrame(data=d)\n",
    "tsViews['views_by_hr'] = (tsViews.sort_values('HourOfDay')['Views']/tsViews['Views'].sum())*100\n",
    "tsViews.sort_values('HourOfDay',axis=0).plot(x='HourOfDay',y='views_by_hr',kind='bar',figsize=(12,8))"
   ]
  },
  {
   "cell_type": "markdown",
   "metadata": {},
   "source": [
    "### Views by day"
   ]
  },
  {
   "cell_type": "code",
   "execution_count": 341,
   "metadata": {},
   "outputs": [
    {
     "data": {
      "text/plain": [
       "<matplotlib.axes._subplots.AxesSubplot at 0x15092c410>"
      ]
     },
     "execution_count": 341,
     "metadata": {},
     "output_type": "execute_result"
    },
    {
     "data": {
      "image/png": "[encoded data removed]",
      "text/plain": [
       "<matplotlib.figure.Figure at 0x13a6dc4d0>"
      ]
     },
     "metadata": {},
     "output_type": "display_data"
    }
   ],
   "source": [
    "ViewsByDay = pcomb_wo['day'].value_counts()\n",
    "d = {'Day':ViewsByDay.index,'Views':ViewsByDay.values}\n",
    "ViewsByDay = pd.DataFrame(data=d)\n",
    "ViewsByDay['Views_by_day'] = (ViewsByDay.sort_values('Day')['Views'] / ViewsByDay['Views'].sum()) * 100\n",
    "ViewsByDay.sort_values('Day').plot(x='Day',y='Views_by_day',kind='line',figsize=(16,12))"
   ]
  },
  {
   "cell_type": "markdown",
   "metadata": {},
   "source": [
    "The trend here is as expected. The peaks may be pointing to the middle of the week while the valleys pointing to week ends.  \n",
    "Also there is an increasing trend visible, with a \"bump\" showing up every 3 weeks or so, starting the 2nd week. "
   ]
  },
  {
   "cell_type": "markdown",
   "metadata": {},
   "source": [
    "**News page individual analysis**"
   ]
  },
  {
   "cell_type": "code",
   "execution_count": 344,
   "metadata": {},
   "outputs": [
    {
     "data": {
      "text/plain": [
       "<matplotlib.axes._subplots.AxesSubplot at 0x145b3f250>"
      ]
     },
     "execution_count": 344,
     "metadata": {},
     "output_type": "execute_result"
    },
    {
     "data": {
      "image/png": "[encoded data removed]",
      "text/plain": [
       "<matplotlib.figure.Figure at 0x145b97950>"
      ]
     },
     "metadata": {},
     "output_type": "display_data"
    }
   ],
   "source": [
    "temp = pcomb_wo.copy()\n",
    "temp['timeInHr']= pd.to_datetime(temp['time'],format='%H:%M:%S').dt.hour.astype(int)\n",
    "temp = temp.drop('time',axis=1)\n",
    "tempgr = temp.groupby(['Name','timeInHr']).agg('count')\n",
    "s = tempgr.loc['News','userID'].sort_values(ascending=False)\n",
    "d = {'count':s.values, 'timeInHr':s.index}\n",
    "NewsStats = pd.DataFrame(data=d)\n",
    "NewsStats.sort(columns='timeInHr').plot(x='timeInHr',y='count',kind='bar',figsize=(16,12))"
   ]
  },
  {
   "cell_type": "markdown",
   "metadata": {},
   "source": [
    "**Exchange Rate page individual analysis**"
   ]
  },
  {
   "cell_type": "code",
   "execution_count": 687,
   "metadata": {},
   "outputs": [
    {
     "data": {
      "text/plain": [
       "<matplotlib.axes._subplots.AxesSubplot at 0x135b06990>"
      ]
     },
     "execution_count": 687,
     "metadata": {},
     "output_type": "execute_result"
    },
    {
     "data": {
      "image/png": "[encoded data removed]",
      "text/plain": [
       "<matplotlib.figure.Figure at 0x135b39fd0>"
      ]
     },
     "metadata": {},
     "output_type": "display_data"
    }
   ],
   "source": [
    "s = tempgr.loc['Exchange Rates','userID'].sort_values(ascending=False)\n",
    "d = {'count':s.values, 'timeInHr':s.index}\n",
    "ERStats = pd.DataFrame(data=d)\n",
    "ERStats.sort(columns='timeInHr').plot(x='timeInHr',y='count',kind='bar',figsize=(16,12))"
   ]
  },
  {
   "cell_type": "markdown",
   "metadata": {},
   "source": [
    "### Finding most similar page to page 595 "
   ]
  },
  {
   "cell_type": "markdown",
   "metadata": {},
   "source": [
    "**Manual approach**"
   ]
  },
  {
   "cell_type": "markdown",
   "metadata": {},
   "source": [
    "I performed a visual analysis to find the most similar page to a given page.  \n",
    "This returned a simple popularity based model.  \n",
    "That is all the of the matches found were nothing but the most viewed in the entire dataset.   \n",
    "Following is what this analysis yielded for **page 595**  \n",
    "Page 710  \n",
    "Page 75  \n",
    "Page 49  \n",
    "Page 308  \n",
    "Page 650  \n",
    "Page 638  \n",
    "Page 133  \n",
    "Page 544  \n",
    "\n",
    "Looking at their names, these turn out to be following :  \n",
    "News  \n",
    "NewsWire  \n",
    "Top News  \n",
    "News: Most Popular  \n",
    "Features & Blogs  \n",
    "Editors' Picks  \n",
    "RRA Articles  \n",
    "My Market Indexes\n",
    "  \n",
    "As expected, all were equal in similarity  to Physical Survey "
   ]
  },
  {
   "cell_type": "code",
   "execution_count": 298,
   "metadata": {},
   "outputs": [
    {
     "data": {
      "text/plain": [
       "array(['News', 'NewsWire', 'Top News', 'News: Most Popular',\n",
       "       'Features & Blogs', \"Editors' Picks\", 'RRA Articles',\n",
       "       'My Market Indexes'], dtype=object)"
      ]
     },
     "execution_count": 298,
     "metadata": {},
     "output_type": "execute_result"
    }
   ],
   "source": [
    "pcomb.loc[pcomb['pageID'].isin(['page710','page75','page49','page308','page650','page638','page133','page544']),'Name'].unique()"
   ]
  },
  {
   "cell_type": "markdown",
   "metadata": {},
   "source": [
    "**Change of approach: Using Graphlab**\n",
    "\n",
    "Using Graphlab's unified interface for training recommender models that chooses the Item Similarity method (that ranks an item according to its similarity to other items observed for the user in question), following are the most similar pages found to page595 (Physical Survey) and in that order:  \n",
    "page505 : OTC Survey  \n",
    "page605 : Forward Coal  \n",
    "page597 : Energy Markets Coal Summary  \n",
    "page696 : SNL Coal Forecast: Price   \n",
    "page65  : MISO Capacity Markets\n"
   ]
  },
  {
   "cell_type": "code",
   "execution_count": 688,
   "metadata": {},
   "outputs": [
    {
     "data": {
      "text/html": [
       "<pre>Recsys training: model = item_similarity</pre>"
      ],
      "text/plain": [
       "Recsys training: model = item_similarity"
      ]
     },
     "metadata": {},
     "output_type": "display_data"
    },
    {
     "data": {
      "text/html": [
       "<pre>Warning: Ignoring columns day, time, Name;</pre>"
      ],
      "text/plain": [
       "Warning: Ignoring columns day, time, Name;"
      ]
     },
     "metadata": {},
     "output_type": "display_data"
    },
    {
     "data": {
      "text/html": [
       "<pre>    To use one of these as a target column, set target = <column_name></pre>"
      ],
      "text/plain": [
       "    To use one of these as a target column, set target = <column_name>"
      ]
     },
     "metadata": {},
     "output_type": "display_data"
    },
    {
     "data": {
      "text/html": [
       "<pre>    and use a method that allows the use of a target.</pre>"
      ],
      "text/plain": [
       "    and use a method that allows the use of a target."
      ]
     },
     "metadata": {},
     "output_type": "display_data"
    },
    {
     "data": {
      "text/html": [
       "<pre>Preparing data set.</pre>"
      ],
      "text/plain": [
       "Preparing data set."
      ]
     },
     "metadata": {},
     "output_type": "display_data"
    },
    {
     "data": {
      "text/html": [
       "<pre>    Data has 606362 observations with 1130 users and 733 items.</pre>"
      ],
      "text/plain": [
       "    Data has 606362 observations with 1130 users and 733 items."
      ]
     },
     "metadata": {},
     "output_type": "display_data"
    },
    {
     "data": {
      "text/html": [
       "<pre>    Data prepared in: 0.453789s</pre>"
      ],
      "text/plain": [
       "    Data prepared in: 0.453789s"
      ]
     },
     "metadata": {},
     "output_type": "display_data"
    },
    {
     "data": {
      "text/html": [
       "<pre>Training model from provided data.</pre>"
      ],
      "text/plain": [
       "Training model from provided data."
      ]
     },
     "metadata": {},
     "output_type": "display_data"
    },
    {
     "data": {
      "text/html": [
       "<pre>Gathering per-item and per-user statistics.</pre>"
      ],
      "text/plain": [
       "Gathering per-item and per-user statistics."
      ]
     },
     "metadata": {},
     "output_type": "display_data"
    },
    {
     "data": {
      "text/html": [
       "<pre>+--------------------------------+------------+</pre>"
      ],
      "text/plain": [
       "+--------------------------------+------------+"
      ]
     },
     "metadata": {},
     "output_type": "display_data"
    },
    {
     "data": {
      "text/html": [
       "<pre>| Elapsed Time (Item Statistics) | % Complete |</pre>"
      ],
      "text/plain": [
       "| Elapsed Time (Item Statistics) | % Complete |"
      ]
     },
     "metadata": {},
     "output_type": "display_data"
    },
    {
     "data": {
      "text/html": [
       "<pre>+--------------------------------+------------+</pre>"
      ],
      "text/plain": [
       "+--------------------------------+------------+"
      ]
     },
     "metadata": {},
     "output_type": "display_data"
    },
    {
     "data": {
      "text/html": [
       "<pre>| 49.397ms                       | 88.25      |</pre>"
      ],
      "text/plain": [
       "| 49.397ms                       | 88.25      |"
      ]
     },
     "metadata": {},
     "output_type": "display_data"
    },
    {
     "data": {
      "text/html": [
       "<pre>| 51.294ms                       | 100        |</pre>"
      ],
      "text/plain": [
       "| 51.294ms                       | 100        |"
      ]
     },
     "metadata": {},
     "output_type": "display_data"
    },
    {
     "data": {
      "text/html": [
       "<pre>+--------------------------------+------------+</pre>"
      ],
      "text/plain": [
       "+--------------------------------+------------+"
      ]
     },
     "metadata": {},
     "output_type": "display_data"
    },
    {
     "data": {
      "text/html": [
       "<pre>Setting up lookup tables.</pre>"
      ],
      "text/plain": [
       "Setting up lookup tables."
      ]
     },
     "metadata": {},
     "output_type": "display_data"
    },
    {
     "data": {
      "text/html": [
       "<pre>Processing data in one pass using dense lookup tables.</pre>"
      ],
      "text/plain": [
       "Processing data in one pass using dense lookup tables."
      ]
     },
     "metadata": {},
     "output_type": "display_data"
    },
    {
     "data": {
      "text/html": [
       "<pre>+-------------------------------------+------------------+-----------------+</pre>"
      ],
      "text/plain": [
       "+-------------------------------------+------------------+-----------------+"
      ]
     },
     "metadata": {},
     "output_type": "display_data"
    },
    {
     "data": {
      "text/html": [
       "<pre>| Elapsed Time (Constructing Lookups) | Total % Complete | Items Processed |</pre>"
      ],
      "text/plain": [
       "| Elapsed Time (Constructing Lookups) | Total % Complete | Items Processed |"
      ]
     },
     "metadata": {},
     "output_type": "display_data"
    },
    {
     "data": {
      "text/html": [
       "<pre>+-------------------------------------+------------------+-----------------+</pre>"
      ],
      "text/plain": [
       "+-------------------------------------+------------------+-----------------+"
      ]
     },
     "metadata": {},
     "output_type": "display_data"
    },
    {
     "data": {
      "text/html": [
       "<pre>| 57.052ms                            | 0                | 0               |</pre>"
      ],
      "text/plain": [
       "| 57.052ms                            | 0                | 0               |"
      ]
     },
     "metadata": {},
     "output_type": "display_data"
    },
    {
     "data": {
      "text/html": [
       "<pre>| 82ms                                | 100              | 733             |</pre>"
      ],
      "text/plain": [
       "| 82ms                                | 100              | 733             |"
      ]
     },
     "metadata": {},
     "output_type": "display_data"
    },
    {
     "data": {
      "text/html": [
       "<pre>+-------------------------------------+------------------+-----------------+</pre>"
      ],
      "text/plain": [
       "+-------------------------------------+------------------+-----------------+"
      ]
     },
     "metadata": {},
     "output_type": "display_data"
    },
    {
     "data": {
      "text/html": [
       "<pre>Finalizing lookup tables.</pre>"
      ],
      "text/plain": [
       "Finalizing lookup tables."
      ]
     },
     "metadata": {},
     "output_type": "display_data"
    },
    {
     "data": {
      "text/html": [
       "<pre>Generating candidate set for working with new users.</pre>"
      ],
      "text/plain": [
       "Generating candidate set for working with new users."
      ]
     },
     "metadata": {},
     "output_type": "display_data"
    },
    {
     "data": {
      "text/html": [
       "<pre>Finished training in 0.132138s</pre>"
      ],
      "text/plain": [
       "Finished training in 0.132138s"
      ]
     },
     "metadata": {},
     "output_type": "display_data"
    }
   ],
   "source": [
    "sf = gl.SFrame(pcomb_wo)\n",
    "model = gl.recommender.create(sf, user_id='userID', item_id='pageID',ranking=False)"
   ]
  },
  {
   "cell_type": "markdown",
   "metadata": {},
   "source": [
    "**Pages found**"
   ]
  },
  {
   "cell_type": "code",
   "execution_count": 689,
   "metadata": {},
   "outputs": [
    {
     "data": {
      "text/html": [
       "<div style=\"max-height:1000px;max-width:1500px;overflow:auto;\"><table frame=\"box\" rules=\"cols\">\n",
       "    <tr>\n",
       "        <th style=\"padding-left: 1em; padding-right: 1em; text-align: center\">pageID</th>\n",
       "        <th style=\"padding-left: 1em; padding-right: 1em; text-align: center\">similar</th>\n",
       "        <th style=\"padding-left: 1em; padding-right: 1em; text-align: center\">score</th>\n",
       "        <th style=\"padding-left: 1em; padding-right: 1em; text-align: center\">rank</th>\n",
       "    </tr>\n",
       "    <tr>\n",
       "        <td style=\"padding-left: 1em; padding-right: 1em; text-align: center; vertical-align: top\">page595</td>\n",
       "        <td style=\"padding-left: 1em; padding-right: 1em; text-align: center; vertical-align: top\">page505</td>\n",
       "        <td style=\"padding-left: 1em; padding-right: 1em; text-align: center; vertical-align: top\">0.625</td>\n",
       "        <td style=\"padding-left: 1em; padding-right: 1em; text-align: center; vertical-align: top\">1</td>\n",
       "    </tr>\n",
       "    <tr>\n",
       "        <td style=\"padding-left: 1em; padding-right: 1em; text-align: center; vertical-align: top\">page595</td>\n",
       "        <td style=\"padding-left: 1em; padding-right: 1em; text-align: center; vertical-align: top\">page605</td>\n",
       "        <td style=\"padding-left: 1em; padding-right: 1em; text-align: center; vertical-align: top\">0.444444417953</td>\n",
       "        <td style=\"padding-left: 1em; padding-right: 1em; text-align: center; vertical-align: top\">2</td>\n",
       "    </tr>\n",
       "    <tr>\n",
       "        <td style=\"padding-left: 1em; padding-right: 1em; text-align: center; vertical-align: top\">page595</td>\n",
       "        <td style=\"padding-left: 1em; padding-right: 1em; text-align: center; vertical-align: top\">page597</td>\n",
       "        <td style=\"padding-left: 1em; padding-right: 1em; text-align: center; vertical-align: top\">0.300000011921</td>\n",
       "        <td style=\"padding-left: 1em; padding-right: 1em; text-align: center; vertical-align: top\">3</td>\n",
       "    </tr>\n",
       "    <tr>\n",
       "        <td style=\"padding-left: 1em; padding-right: 1em; text-align: center; vertical-align: top\">page595</td>\n",
       "        <td style=\"padding-left: 1em; padding-right: 1em; text-align: center; vertical-align: top\">page696</td>\n",
       "        <td style=\"padding-left: 1em; padding-right: 1em; text-align: center; vertical-align: top\">0.25</td>\n",
       "        <td style=\"padding-left: 1em; padding-right: 1em; text-align: center; vertical-align: top\">4</td>\n",
       "    </tr>\n",
       "    <tr>\n",
       "        <td style=\"padding-left: 1em; padding-right: 1em; text-align: center; vertical-align: top\">page595</td>\n",
       "        <td style=\"padding-left: 1em; padding-right: 1em; text-align: center; vertical-align: top\">page65</td>\n",
       "        <td style=\"padding-left: 1em; padding-right: 1em; text-align: center; vertical-align: top\">0.199999988079</td>\n",
       "        <td style=\"padding-left: 1em; padding-right: 1em; text-align: center; vertical-align: top\">5</td>\n",
       "    </tr>\n",
       "</table>\n",
       "[5 rows x 4 columns]<br/>\n",
       "</div>"
      ],
      "text/plain": [
       "Columns:\n",
       "\tpageID\tstr\n",
       "\tsimilar\tstr\n",
       "\tscore\tfloat\n",
       "\trank\tint\n",
       "\n",
       "Rows: 5\n",
       "\n",
       "Data:\n",
       "+---------+---------+----------------+------+\n",
       "|  pageID | similar |     score      | rank |\n",
       "+---------+---------+----------------+------+\n",
       "| page595 | page505 |     0.625      |  1   |\n",
       "| page595 | page605 | 0.444444417953 |  2   |\n",
       "| page595 | page597 | 0.300000011921 |  3   |\n",
       "| page595 | page696 |      0.25      |  4   |\n",
       "| page595 |  page65 | 0.199999988079 |  5   |\n",
       "+---------+---------+----------------+------+\n",
       "[5 rows x 4 columns]"
      ]
     },
     "execution_count": 689,
     "metadata": {},
     "output_type": "execute_result"
    }
   ],
   "source": [
    "model.get_similar_items(['page595'],k=5)"
   ]
  },
  {
   "cell_type": "markdown",
   "metadata": {},
   "source": [
    "**Understanding the similarity**"
   ]
  },
  {
   "cell_type": "code",
   "execution_count": 690,
   "metadata": {},
   "outputs": [
    {
     "name": "stdout",
     "output_type": "stream",
     "text": [
      "['user341' 'user41' 'user428' 'user679' 'user699']\n",
      "['user341' 'user41' 'user679' 'user820']\n",
      "['user341' 'user41' 'user428' 'user679' 'user699' 'user820']\n"
     ]
    }
   ],
   "source": [
    "it1 = pcomb_wo.loc[(pcomb_wo['pageID'] == 'page595'),'userID'].unique()\n",
    "it2 = pcomb_wo.loc[(pcomb_wo['pageID'] == 'page505'),'userID'].unique()\n",
    "print(np.intersect1d(it1,it2))\n",
    "it2 = pcomb_wo.loc[(pcomb_wo['pageID'] == 'page605'),'userID'].unique()\n",
    "print(np.intersect1d(it1,it2))\n",
    "it2 = pcomb_wo.loc[(pcomb_wo['pageID'] == 'page597'),'userID'].unique()\n",
    "print(np.intersect1d(it1,it2))"
   ]
  },
  {
   "cell_type": "code",
   "execution_count": 527,
   "metadata": {},
   "outputs": [
    {
     "name": "stdout",
     "output_type": "stream",
     "text": [
      "    userID  day\n",
      "0  user341   23\n",
      "1   user41    1\n",
      "2  user428    2\n",
      "3  user679    5\n",
      "4  user699   10\n",
      "5  user820    3\n",
      "     userID  day\n",
      "0  user1121    1\n",
      "1   user341    8\n",
      "2    user41    8\n",
      "3   user428    2\n",
      "4   user634    1\n",
      "5   user679    4\n",
      "6   user699    1\n",
      "    userID  day\n",
      "0  user341    7\n",
      "1   user41    1\n",
      "2  user634    1\n",
      "3  user679    4\n",
      "4  user727    3\n",
      "5  user820    1\n",
      "6  user976    1\n",
      "    userID  day\n",
      "0   user41    1\n",
      "1  user712    1\n",
      "2  user727    2\n",
      "3  user820    6\n",
      "     userID  day\n",
      "0  user1004    9\n",
      "1   user129    3\n",
      "2   user186    3\n",
      "3   user428    1\n",
      "4   user820    2\n",
      "5   user856   10\n"
     ]
    }
   ],
   "source": [
    "print pcomb_wo.loc[(pcomb_wo['pageID']=='page595'),['userID','day']].groupby('userID').agg('count').reset_index().sort(columns='userID')\n",
    "print pcomb_wo.loc[(pcomb_wo['pageID']=='page505'),['userID','day']].groupby('userID').agg('count').reset_index().sort(columns='userID') #23\n",
    "print pcomb_wo.loc[(pcomb_wo['pageID']=='page605'),['userID','day']].groupby('userID').agg('count').reset_index().sort(columns='userID') #19\n",
    "print pcomb_wo.loc[(pcomb_wo['pageID']=='page696'),['userID','day']].groupby('userID').agg('count').reset_index().sort(columns='userID') #19\n",
    "print pcomb_wo.loc[(pcomb_wo['pageID']=='page65'),['userID','day']].groupby('userID').agg('count').reset_index().sort(columns='userID') #19"
   ]
  },
  {
   "cell_type": "code",
   "execution_count": 501,
   "metadata": {},
   "outputs": [
    {
     "data": {
      "text/html": [
       "<div>\n",
       "<table border=\"1\" class=\"dataframe\">\n",
       "  <thead>\n",
       "    <tr style=\"text-align: right;\">\n",
       "      <th></th>\n",
       "      <th>pageID</th>\n",
       "      <th>Name</th>\n",
       "    </tr>\n",
       "  </thead>\n",
       "  <tbody>\n",
       "    <tr>\n",
       "      <th>608445</th>\n",
       "      <td>page597</td>\n",
       "      <td>Energy Markets Coal Summary</td>\n",
       "    </tr>\n",
       "    <tr>\n",
       "      <th>613145</th>\n",
       "      <td>page65</td>\n",
       "      <td>MISO Capacity Markets</td>\n",
       "    </tr>\n",
       "    <tr>\n",
       "      <th>615445</th>\n",
       "      <td>page505</td>\n",
       "      <td>OTC Survey</td>\n",
       "    </tr>\n",
       "    <tr>\n",
       "      <th>615474</th>\n",
       "      <td>page605</td>\n",
       "      <td>Forward Coal</td>\n",
       "    </tr>\n",
       "    <tr>\n",
       "      <th>615929</th>\n",
       "      <td>page696</td>\n",
       "      <td>SNL Coal Forecast: Price</td>\n",
       "    </tr>\n",
       "  </tbody>\n",
       "</table>\n",
       "</div>"
      ],
      "text/plain": [
       "         pageID                         Name\n",
       "608445  page597  Energy Markets Coal Summary\n",
       "613145   page65        MISO Capacity Markets\n",
       "615445  page505                   OTC Survey\n",
       "615474  page605                 Forward Coal\n",
       "615929  page696     SNL Coal Forecast: Price"
      ]
     },
     "execution_count": 501,
     "metadata": {},
     "output_type": "execute_result"
    }
   ],
   "source": [
    "pcomb_wo.loc[pcomb_wo['pageID'].isin(['page505','page605','page597','page696','page65']),['pageID','Name']].drop_duplicates('Name')"
   ]
  },
  {
   "cell_type": "markdown",
   "metadata": {},
   "source": [
    "### To obtain users  similar to user482"
   ]
  },
  {
   "cell_type": "code",
   "execution_count": 502,
   "metadata": {},
   "outputs": [
    {
     "data": {
      "text/html": [
       "<pre>Recsys training: model = item_similarity</pre>"
      ],
      "text/plain": [
       "Recsys training: model = item_similarity"
      ]
     },
     "metadata": {},
     "output_type": "display_data"
    },
    {
     "data": {
      "text/html": [
       "<pre>Warning: Ignoring columns day, time, Name;</pre>"
      ],
      "text/plain": [
       "Warning: Ignoring columns day, time, Name;"
      ]
     },
     "metadata": {},
     "output_type": "display_data"
    },
    {
     "data": {
      "text/html": [
       "<pre>    To use one of these as a target column, set target = <column_name></pre>"
      ],
      "text/plain": [
       "    To use one of these as a target column, set target = <column_name>"
      ]
     },
     "metadata": {},
     "output_type": "display_data"
    },
    {
     "data": {
      "text/html": [
       "<pre>    and use a method that allows the use of a target.</pre>"
      ],
      "text/plain": [
       "    and use a method that allows the use of a target."
      ]
     },
     "metadata": {},
     "output_type": "display_data"
    },
    {
     "data": {
      "text/html": [
       "<pre>Preparing data set.</pre>"
      ],
      "text/plain": [
       "Preparing data set."
      ]
     },
     "metadata": {},
     "output_type": "display_data"
    },
    {
     "data": {
      "text/html": [
       "<pre>    Data has 550424 observations with 730 users and 1130 items.</pre>"
      ],
      "text/plain": [
       "    Data has 550424 observations with 730 users and 1130 items."
      ]
     },
     "metadata": {},
     "output_type": "display_data"
    },
    {
     "data": {
      "text/html": [
       "<pre>    Data prepared in: 0.416049s</pre>"
      ],
      "text/plain": [
       "    Data prepared in: 0.416049s"
      ]
     },
     "metadata": {},
     "output_type": "display_data"
    },
    {
     "data": {
      "text/html": [
       "<pre>Training model from provided data.</pre>"
      ],
      "text/plain": [
       "Training model from provided data."
      ]
     },
     "metadata": {},
     "output_type": "display_data"
    },
    {
     "data": {
      "text/html": [
       "<pre>Gathering per-item and per-user statistics.</pre>"
      ],
      "text/plain": [
       "Gathering per-item and per-user statistics."
      ]
     },
     "metadata": {},
     "output_type": "display_data"
    },
    {
     "data": {
      "text/html": [
       "<pre>+--------------------------------+------------+</pre>"
      ],
      "text/plain": [
       "+--------------------------------+------------+"
      ]
     },
     "metadata": {},
     "output_type": "display_data"
    },
    {
     "data": {
      "text/html": [
       "<pre>| Elapsed Time (Item Statistics) | % Complete |</pre>"
      ],
      "text/plain": [
       "| Elapsed Time (Item Statistics) | % Complete |"
      ]
     },
     "metadata": {},
     "output_type": "display_data"
    },
    {
     "data": {
      "text/html": [
       "<pre>+--------------------------------+------------+</pre>"
      ],
      "text/plain": [
       "+--------------------------------+------------+"
      ]
     },
     "metadata": {},
     "output_type": "display_data"
    },
    {
     "data": {
      "text/html": [
       "<pre>| 1.174ms                        | 100        |</pre>"
      ],
      "text/plain": [
       "| 1.174ms                        | 100        |"
      ]
     },
     "metadata": {},
     "output_type": "display_data"
    },
    {
     "data": {
      "text/html": [
       "<pre>+--------------------------------+------------+</pre>"
      ],
      "text/plain": [
       "+--------------------------------+------------+"
      ]
     },
     "metadata": {},
     "output_type": "display_data"
    },
    {
     "data": {
      "text/html": [
       "<pre>Setting up lookup tables.</pre>"
      ],
      "text/plain": [
       "Setting up lookup tables."
      ]
     },
     "metadata": {},
     "output_type": "display_data"
    },
    {
     "data": {
      "text/html": [
       "<pre>Processing data in one pass using dense lookup tables.</pre>"
      ],
      "text/plain": [
       "Processing data in one pass using dense lookup tables."
      ]
     },
     "metadata": {},
     "output_type": "display_data"
    },
    {
     "data": {
      "text/html": [
       "<pre>+-------------------------------------+------------------+-----------------+</pre>"
      ],
      "text/plain": [
       "+-------------------------------------+------------------+-----------------+"
      ]
     },
     "metadata": {},
     "output_type": "display_data"
    },
    {
     "data": {
      "text/html": [
       "<pre>| Elapsed Time (Constructing Lookups) | Total % Complete | Items Processed |</pre>"
      ],
      "text/plain": [
       "| Elapsed Time (Constructing Lookups) | Total % Complete | Items Processed |"
      ]
     },
     "metadata": {},
     "output_type": "display_data"
    },
    {
     "data": {
      "text/html": [
       "<pre>+-------------------------------------+------------------+-----------------+</pre>"
      ],
      "text/plain": [
       "+-------------------------------------+------------------+-----------------+"
      ]
     },
     "metadata": {},
     "output_type": "display_data"
    },
    {
     "data": {
      "text/html": [
       "<pre>| 4.775ms                             | 11.5             | 132             |</pre>"
      ],
      "text/plain": [
       "| 4.775ms                             | 11.5             | 132             |"
      ]
     },
     "metadata": {},
     "output_type": "display_data"
    },
    {
     "data": {
      "text/html": [
       "<pre>| 75.647ms                            | 100              | 1130            |</pre>"
      ],
      "text/plain": [
       "| 75.647ms                            | 100              | 1130            |"
      ]
     },
     "metadata": {},
     "output_type": "display_data"
    },
    {
     "data": {
      "text/html": [
       "<pre>+-------------------------------------+------------------+-----------------+</pre>"
      ],
      "text/plain": [
       "+-------------------------------------+------------------+-----------------+"
      ]
     },
     "metadata": {},
     "output_type": "display_data"
    },
    {
     "data": {
      "text/html": [
       "<pre>Finalizing lookup tables.</pre>"
      ],
      "text/plain": [
       "Finalizing lookup tables."
      ]
     },
     "metadata": {},
     "output_type": "display_data"
    },
    {
     "data": {
      "text/html": [
       "<pre>Generating candidate set for working with new users.</pre>"
      ],
      "text/plain": [
       "Generating candidate set for working with new users."
      ]
     },
     "metadata": {},
     "output_type": "display_data"
    },
    {
     "data": {
      "text/html": [
       "<pre>Finished training in 0.11537s</pre>"
      ],
      "text/plain": [
       "Finished training in 0.11537s"
      ]
     },
     "metadata": {},
     "output_type": "display_data"
    }
   ],
   "source": [
    "model = gl.recommender.create(trainsf, user_id='pageID', item_id='userID',ranking=False)"
   ]
  },
  {
   "cell_type": "code",
   "execution_count": 503,
   "metadata": {},
   "outputs": [
    {
     "data": {
      "text/html": [
       "<div style=\"max-height:1000px;max-width:1500px;overflow:auto;\"><table frame=\"box\" rules=\"cols\">\n",
       "    <tr>\n",
       "        <th style=\"padding-left: 1em; padding-right: 1em; text-align: center\">userID</th>\n",
       "        <th style=\"padding-left: 1em; padding-right: 1em; text-align: center\">similar</th>\n",
       "        <th style=\"padding-left: 1em; padding-right: 1em; text-align: center\">score</th>\n",
       "        <th style=\"padding-left: 1em; padding-right: 1em; text-align: center\">rank</th>\n",
       "    </tr>\n",
       "    <tr>\n",
       "        <td style=\"padding-left: 1em; padding-right: 1em; text-align: center; vertical-align: top\">user482</td>\n",
       "        <td style=\"padding-left: 1em; padding-right: 1em; text-align: center; vertical-align: top\">user1103</td>\n",
       "        <td style=\"padding-left: 1em; padding-right: 1em; text-align: center; vertical-align: top\">0.692307710648</td>\n",
       "        <td style=\"padding-left: 1em; padding-right: 1em; text-align: center; vertical-align: top\">1</td>\n",
       "    </tr>\n",
       "    <tr>\n",
       "        <td style=\"padding-left: 1em; padding-right: 1em; text-align: center; vertical-align: top\">user482</td>\n",
       "        <td style=\"padding-left: 1em; padding-right: 1em; text-align: center; vertical-align: top\">user716</td>\n",
       "        <td style=\"padding-left: 1em; padding-right: 1em; text-align: center; vertical-align: top\">0.642857134342</td>\n",
       "        <td style=\"padding-left: 1em; padding-right: 1em; text-align: center; vertical-align: top\">2</td>\n",
       "    </tr>\n",
       "    <tr>\n",
       "        <td style=\"padding-left: 1em; padding-right: 1em; text-align: center; vertical-align: top\">user482</td>\n",
       "        <td style=\"padding-left: 1em; padding-right: 1em; text-align: center; vertical-align: top\">user898</td>\n",
       "        <td style=\"padding-left: 1em; padding-right: 1em; text-align: center; vertical-align: top\">0.642857134342</td>\n",
       "        <td style=\"padding-left: 1em; padding-right: 1em; text-align: center; vertical-align: top\">3</td>\n",
       "    </tr>\n",
       "    <tr>\n",
       "        <td style=\"padding-left: 1em; padding-right: 1em; text-align: center; vertical-align: top\">user482</td>\n",
       "        <td style=\"padding-left: 1em; padding-right: 1em; text-align: center; vertical-align: top\">user231</td>\n",
       "        <td style=\"padding-left: 1em; padding-right: 1em; text-align: center; vertical-align: top\">0.615384638309</td>\n",
       "        <td style=\"padding-left: 1em; padding-right: 1em; text-align: center; vertical-align: top\">4</td>\n",
       "    </tr>\n",
       "    <tr>\n",
       "        <td style=\"padding-left: 1em; padding-right: 1em; text-align: center; vertical-align: top\">user482</td>\n",
       "        <td style=\"padding-left: 1em; padding-right: 1em; text-align: center; vertical-align: top\">user37</td>\n",
       "        <td style=\"padding-left: 1em; padding-right: 1em; text-align: center; vertical-align: top\">0.615384638309</td>\n",
       "        <td style=\"padding-left: 1em; padding-right: 1em; text-align: center; vertical-align: top\">5</td>\n",
       "    </tr>\n",
       "</table>\n",
       "[5 rows x 4 columns]<br/>\n",
       "</div>"
      ],
      "text/plain": [
       "Columns:\n",
       "\tuserID\tstr\n",
       "\tsimilar\tstr\n",
       "\tscore\tfloat\n",
       "\trank\tint\n",
       "\n",
       "Rows: 5\n",
       "\n",
       "Data:\n",
       "+---------+----------+----------------+------+\n",
       "|  userID | similar  |     score      | rank |\n",
       "+---------+----------+----------------+------+\n",
       "| user482 | user1103 | 0.692307710648 |  1   |\n",
       "| user482 | user716  | 0.642857134342 |  2   |\n",
       "| user482 | user898  | 0.642857134342 |  3   |\n",
       "| user482 | user231  | 0.615384638309 |  4   |\n",
       "| user482 |  user37  | 0.615384638309 |  5   |\n",
       "+---------+----------+----------------+------+\n",
       "[5 rows x 4 columns]"
      ]
     },
     "execution_count": 503,
     "metadata": {},
     "output_type": "execute_result"
    }
   ],
   "source": [
    "model.get_similar_items(['user482'],k=5)"
   ]
  },
  {
   "cell_type": "markdown",
   "metadata": {},
   "source": [
    "**Understanding similarity**"
   ]
  },
  {
   "cell_type": "code",
   "execution_count": 530,
   "metadata": {},
   "outputs": [
    {
     "name": "stdout",
     "output_type": "stream",
     "text": [
      "10\n",
      "10\n",
      "10\n",
      "9\n",
      "9\n"
     ]
    }
   ],
   "source": [
    "it1 = pcomb_wo.loc[(pcomb_wo['userID'] == 'user482'),'pageID'].unique()\n",
    "it2 = pcomb_wo.loc[(pcomb_wo['userID'] == 'user1103'),'pageID'].unique()\n",
    "print len(np.intersect1d(it1,it2))\n",
    "it2 = pcomb_wo.loc[(pcomb_wo['userID'] == 'user716'),'pageID'].unique()\n",
    "print len(np.intersect1d(it1,it2))\n",
    "com = np.intersect1d(it1,it2)\n",
    "it2 = pcomb_wo.loc[(pcomb_wo['userID'] == 'user898'),'pageID'].unique()\n",
    "com2 = np.intersect1d(it1,it2)\n",
    "print len(com2)\n",
    "it2 = pcomb_wo.loc[(pcomb_wo['userID'] == 'user231'),'pageID'].unique()\n",
    "com2 = np.intersect1d(it1,it2)\n",
    "print len(com2)\n",
    "it2 = pcomb_wo.loc[(pcomb_wo['userID'] == 'user37'),'pageID'].unique()    \n",
    "com2 = np.intersect1d(it1,it2)\n",
    "print len(com2)"
   ]
  },
  {
   "cell_type": "markdown",
   "metadata": {},
   "source": [
    "## End of Project"
   ]
  },
  {
   "cell_type": "markdown",
   "metadata": {},
   "source": [
    "**********************************************************"
   ]
  },
  {
   "cell_type": "markdown",
   "metadata": {},
   "source": [
    "**Rough Section. Can be ignored**"
   ]
  },
  {
   "cell_type": "code",
   "execution_count": 683,
   "metadata": {
    "collapsed": true
   },
   "outputs": [],
   "source": [
    "#pusage_dt = pusage.copy()\n",
    "#pusage_dt['timeTS'] = pd.to_datetime(pusage['time'],format= '%H:%M:%S' ).dt.time\n",
    "#pusage_dt = pusage_dt.drop('time',axis=1)\n",
    "#mo = pcomb_wo.groupby(['userID','pageID','day']).agg('count').reset_index().sort(columns='time',ascending=False).rename(columns={\"time\":\"count\"}).drop(['Name'],axis=1)\n",
    "#common = pd.merge(pcomb_wo,upo,on=['pageID','userID','day'])\n",
    "#df1.loc[~df1.set_index(list(df1.columns)).index.isin(df2.set_index(list(df2.columns)).index)]\n",
    "#pcomb_wo = pcomb_wo.loc[~pcomb_wo.set_index(list(pcomb_wo.columns)).index.isin(common.set_index(list(common.columns)).index)]\n",
    "#pcomb_wo[pcomb_wo['pageID']=='page135'] #Weekly U. S. Coal Production By Region\n",
    "#pcomb_wo[pcomb_wo['pageID']=='page65'] #MISO Capacity Markets\n",
    "#usdfN = usdf.groupby(['day','userID']).agg('count').reset_index().sort(columns='time',ascending=False).rename(columns={\"time\":\"count\"}).drop(['Name','pageID'],axis=1)\n",
    "#usdfN = usdfN.sort(columns='day')\n",
    "#usdfN.head()\n",
    "#.reset_index().sort(columns='time',ascending=False).rename(columns={\"time\":\"count\"}).drop(['Name'],axis=1)\n",
    "\n",
    "#onehot = pd.get_dummies(temp['userID'])\n",
    "#temp = temp.drop(['userID'],axis=1)\n",
    "#temp = temp.join(onehot)\n",
    "#onehot = pd.get_dummies(temp['pageID'])\n",
    "#temp = temp.drop(['pageID'],axis=1)\n",
    "#temp = temp.join(onehot)\n",
    "#pca = PCA(n_components=2)\n",
    "#pca.fit(temp)\n",
    "#redtemp = pca.transform(temp)\n",
    "#redtemp = pd.DataFrame(redtemp,columns=['Dimension 1', 'Dimension 2']) \n",
    "#pca.explained_variance_ratio_\n",
    "#clusterer = GMM(n_components=2)\n",
    "#clusterer.fit(redtemp)\n",
    "#preds = clusterer.predict(redtemp)\n",
    "#centers = clusterer.means_\n",
    "#true_centers = pca.inverse_transform(centers)\n",
    "#true_centers = pd.DataFrame(np.round(true_centers), columns = temp.keys())\n",
    "#true_centers.index = segments\n",
    "#model = gl.kmeans.create(tsf, num_clusters=3)\n",
    "#clusterer = GMM(n_components=3)\n",
    "#clusterer.fit(temp)\n",
    "#preds = clusterer.predict(temp)\n",
    "#centers = clusterer.means_\n",
    "#kclusterer = KMeans(n_clusters=3)\n",
    "#preds = kclusterer.fit_predict(temp)\n",
    "#centers = kclusterer.cluster_centers_\n",
    "#centers\n",
    "#print pcomb_wo.loc[pcomb_wo['pageID']=='page322','Name'].unique()\n",
    "#print pcomb_wo.loc[pcomb_wo['pageID']=='page95','Name'].unique()\n",
    "#print pcomb_wo.loc[pcomb_wo['pageID']=='page499','Name'].unique()\n",
    "\n",
    "#\n",
    "#uvdf = uvdf.loc[uvdf['userID'].isin(mau),:]\n",
    "#uvdf['time'] = pd.to_datetime(uvdf['time'],format= '%H:%M:%S' ).dt.hour\n",
    "#uvdfN = uvdf.groupby(['Name','time']).agg('count').reset_index()\n",
    "#uvdfN = uvdfN.rename(columns={\"userID\":\"active_members_count\"})\n",
    "#uvdfN.head()\n",
    "#p = ggplot(aes(x='time', y='Name', color='active_members_count'), data=uvdfN) + \\\n",
    "#    geom_point() + \\\n",
    "#    scale_color_gradient(low = 'white', high = 'black')   \n",
    "\n",
    "#t = theme_bw()\n",
    "#t._rcParams['figure.figsize'] = 20,20 # Legend font size\n",
    "#t._rcParams['font.size'] = 20 # Legend font size\n",
    "#t._rcParams['xtick.labelsize'] = 15 # xaxis tick label size\n",
    "#t._rcParams['ytick.labelsize'] = 10 # yaxis tick label size\n",
    "#t._rcParams['axes.labelsize'] = 15  # axis label size\n",
    "#p + t    \n",
    "\n",
    "#df_time = pcomb_wo.copy()\n",
    "#df_time['timeInHr'] = pd.to_datetime(pusage['time'],format= '%H:%M:%S' ).dt.hour\n",
    "#df_time = df_time.drop('time',axis=1)\n",
    "#sf_time = gl.SFrame(df_time.head(100))\n",
    "#m = gl.toolkits.anomaly_detection.create(sf_time,verbose=False)\n",
    "#m['scores']\n",
    "\n",
    "#ple = preprocessing.LabelEncoder()\n",
    "#ple.fit(list(temp['pageID'].values))\n",
    "#temp['pageID'] = ple.transform(list(temp['pageID'].values))\n",
    "#ule = preprocessing.LabelEncoder()\n",
    "#ule.fit(list(temp['userID'].values))\n",
    "#temp['userID'] = ule.transform(list(temp['userID'].values))\n",
    "#print temp.shape"
   ]
  }
 ],
 "metadata": {
  "kernelspec": {
   "display_name": "Python 2",
   "language": "python",
   "name": "python2"
  },
  "language_info": {
   "codemirror_mode": {
    "name": "ipython",
    "version": 2
   },
   "file_extension": ".py",
   "mimetype": "text/x-python",
   "name": "python",
   "nbconvert_exporter": "python",
   "pygments_lexer": "ipython2",
   "version": "2.7.13"
  }
 },
 "nbformat": 4,
 "nbformat_minor": 2
}
