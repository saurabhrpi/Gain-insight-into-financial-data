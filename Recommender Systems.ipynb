{
 "cells": [
  {
   "cell_type": "markdown",
   "metadata": {},
   "source": [
    "# Gain Insights into Financial Data"
   ]
  },
  {
   "cell_type": "markdown",
   "metadata": {},
   "source": [
    "## 1. Libraries, tuned settings and a Helper"
   ]
  },
  {
   "cell_type": "code",
   "execution_count": 1,
   "metadata": {},
   "outputs": [
    {
     "name": "stdout",
     "output_type": "stream",
     "text": [
      "This non-commercial license of GraphLab Create for academic use is assigned to saurabhsvits@gmail.com and will expire on December 08, 2018.\n"
     ]
    },
    {
     "name": "stderr",
     "output_type": "stream",
     "text": [
      "[INFO] graphlab.cython.cy_server: GraphLab Create v2.1 started. Logging: /tmp/graphlab_server_1513724206.log\n"
     ]
    }
   ],
   "source": [
    "import numpy as np\n",
    "import pandas as pd\n",
    "import matplotlib.pyplot as plt\n",
    "import seaborn as sns\n",
    "import warnings\n",
    "from ggplot import ggplot, geom_line, aes\n",
    "import graphlab as gl\n",
    "import graphlab.aggregate as agg\n",
    "from sklearn.cross_validation import train_test_split\n",
    "from ggplot import *\n",
    "import matplotlib as mpl\n",
    "from sklearn import preprocessing\n",
    "from sklearn.preprocessing import OneHotEncoder\n",
    "from sklearn.decomposition import PCA\n",
    "from sklearn.mixture import GMM\n",
    "from sklearn.cluster import KMeans\n",
    "\n",
    "\n",
    "%matplotlib inline\n",
    "warnings.filterwarnings(\"ignore\")\n",
    "pd.set_option('display.max_columns', None)\n",
    "pd.options.display.max_rows = 4000\n",
    "\n",
    "def box_plot(df,label):\n",
    "    x = df[label]\n",
    "    f, (ax_box, ax_hist) = plt.subplots(2, sharex=True ,\n",
    "                                        gridspec_kw={\"height_ratios\": (.15, .85)})\n",
    "    me = np.mean(x)\n",
    "    st = x.std(); \n",
    "    sns.boxplot(x, ax=ax_box)\n",
    "    sns.distplot(x, ax=ax_hist, kde=False)\n",
    "    ax_box.set(yticks=[])\n",
    "    sns.despine(ax=ax_hist)\n",
    "    sns.despine(ax=ax_box, left=True)\n",
    "    plt.xlim([me-2*st, me+2*st])\n",
    "    plt.show()"
   ]
  },
  {
   "cell_type": "markdown",
   "metadata": {},
   "source": [
    "## 2. Dataset"
   ]
  },
  {
   "cell_type": "code",
   "execution_count": 2,
   "metadata": {},
   "outputs": [
    {
     "name": "stdout",
     "output_type": "stream",
     "text": [
      "page Names has 741 samples with 2 features each.\n",
      "page usage has 617256 samples with 4 features each.\n"
     ]
    }
   ],
   "source": [
    "try:\n",
    "    pnames = pd.read_csv(\"page_names.csv\")\n",
    "    pusage = pd.read_csv(\"page_usage.csv\")\n",
    "    print \"page Names has {} samples with {} features each.\".format(*pnames.shape)\n",
    "    print \"page usage has {} samples with {} features each.\".format(*pusage.shape)\n",
    "except:\n",
    "    print \"Dataset could not be loaded. Is the dataset missing?\""
   ]
  },
  {
   "cell_type": "markdown",
   "metadata": {},
   "source": [
    "### First Look"
   ]
  },
  {
   "cell_type": "code",
   "execution_count": 3,
   "metadata": {},
   "outputs": [
    {
     "data": {
      "text/html": [
       "<div>\n",
       "<table border=\"1\" class=\"dataframe\">\n",
       "  <thead>\n",
       "    <tr style=\"text-align: right;\">\n",
       "      <th></th>\n",
       "      <th>pageID</th>\n",
       "      <th>Name</th>\n",
       "    </tr>\n",
       "  </thead>\n",
       "  <tbody>\n",
       "    <tr>\n",
       "      <th>0</th>\n",
       "      <td>page1</td>\n",
       "      <td>CostSavingsPhaseinSchedule?load</td>\n",
       "    </tr>\n",
       "    <tr>\n",
       "      <th>1</th>\n",
       "      <td>page2</td>\n",
       "      <td>BA MS Summary</td>\n",
       "    </tr>\n",
       "    <tr>\n",
       "      <th>2</th>\n",
       "      <td>page3</td>\n",
       "      <td>Production Cost Detail</td>\n",
       "    </tr>\n",
       "    <tr>\n",
       "      <th>3</th>\n",
       "      <td>page4</td>\n",
       "      <td>BVM SNLxl Template</td>\n",
       "    </tr>\n",
       "    <tr>\n",
       "      <th>4</th>\n",
       "      <td>page5</td>\n",
       "      <td>TV Market Overview</td>\n",
       "    </tr>\n",
       "  </tbody>\n",
       "</table>\n",
       "</div>"
      ],
      "text/plain": [
       "  pageID                             Name\n",
       "0  page1  CostSavingsPhaseinSchedule?load\n",
       "1  page2                    BA MS Summary\n",
       "2  page3           Production Cost Detail\n",
       "3  page4               BVM SNLxl Template\n",
       "4  page5               TV Market Overview"
      ]
     },
     "execution_count": 3,
     "metadata": {},
     "output_type": "execute_result"
    }
   ],
   "source": [
    "pnames.head()"
   ]
  },
  {
   "cell_type": "markdown",
   "metadata": {},
   "source": [
    "**Looks like Names represent categories as there can be more than 1 for a page ID.**"
   ]
  },
  {
   "cell_type": "code",
   "execution_count": 4,
   "metadata": {},
   "outputs": [
    {
     "data": {
      "text/html": [
       "<div>\n",
       "<table border=\"1\" class=\"dataframe\">\n",
       "  <thead>\n",
       "    <tr style=\"text-align: right;\">\n",
       "      <th></th>\n",
       "      <th>pageID</th>\n",
       "    </tr>\n",
       "    <tr>\n",
       "      <th>Name</th>\n",
       "      <th></th>\n",
       "    </tr>\n",
       "  </thead>\n",
       "  <tbody>\n",
       "    <tr>\n",
       "      <th>Knowledge Base</th>\n",
       "      <td>5</td>\n",
       "    </tr>\n",
       "    <tr>\n",
       "      <th>Energy Contracts</th>\n",
       "      <td>3</td>\n",
       "    </tr>\n",
       "    <tr>\n",
       "      <th>Article</th>\n",
       "      <td>2</td>\n",
       "    </tr>\n",
       "    <tr>\n",
       "      <th>Power Plant Summary</th>\n",
       "      <td>2</td>\n",
       "    </tr>\n",
       "    <tr>\n",
       "      <th>Capacity &amp; Generation Summary</th>\n",
       "      <td>2</td>\n",
       "    </tr>\n",
       "  </tbody>\n",
       "</table>\n",
       "</div>"
      ],
      "text/plain": [
       "                               pageID\n",
       "Name                                 \n",
       "Knowledge Base                      5\n",
       "Energy Contracts                    3\n",
       "Article                             2\n",
       "Power Plant Summary                 2\n",
       "Capacity & Generation Summary       2"
      ]
     },
     "execution_count": 4,
     "metadata": {},
     "output_type": "execute_result"
    }
   ],
   "source": [
    "pnames.groupby('Name').agg('count').sort(columns='pageID', axis=0,ascending=False).head()"
   ]
  },
  {
   "cell_type": "markdown",
   "metadata": {},
   "source": [
    "**Null Check**"
   ]
  },
  {
   "cell_type": "code",
   "execution_count": 5,
   "metadata": {},
   "outputs": [
    {
     "name": "stdout",
     "output_type": "stream",
     "text": [
      "pageID    0\n",
      "Name      0\n",
      "dtype: int64\n",
      "userID    0\n",
      "pageID    0\n",
      "day       0\n",
      "time      0\n",
      "dtype: int64\n"
     ]
    }
   ],
   "source": [
    "print(pnames.isnull().sum())\n",
    "print(pusage.isnull().sum())"
   ]
  },
  {
   "cell_type": "markdown",
   "metadata": {},
   "source": [
    "**Unique counts**"
   ]
  },
  {
   "cell_type": "code",
   "execution_count": 6,
   "metadata": {},
   "outputs": [
    {
     "data": {
      "text/plain": [
       "1138"
      ]
     },
     "execution_count": 6,
     "metadata": {},
     "output_type": "execute_result"
    }
   ],
   "source": [
    "len(pusage['userID'].unique())"
   ]
  },
  {
   "cell_type": "code",
   "execution_count": 7,
   "metadata": {},
   "outputs": [
    {
     "data": {
      "text/plain": [
       "array([13, 14, 15, 18, 19, 20, 21, 22, 23,  0, 16,  5, 12, 17,  1,  8,  9,\n",
       "        2,  3,  4,  6,  7, 10, 11])"
      ]
     },
     "execution_count": 7,
     "metadata": {},
     "output_type": "execute_result"
    }
   ],
   "source": [
    "pd.to_datetime(pusage['time'],format= '%H:%M:%S' ).dt.hour.unique()"
   ]
  },
  {
   "cell_type": "markdown",
   "metadata": {},
   "source": [
    "### Combine the two given datasets"
   ]
  },
  {
   "cell_type": "code",
   "execution_count": 8,
   "metadata": {
    "collapsed": true
   },
   "outputs": [],
   "source": [
    "pcomb = pd.merge(pusage,pnames,on='pageID')"
   ]
  },
  {
   "cell_type": "markdown",
   "metadata": {},
   "source": [
    "**Number of views for each page**"
   ]
  },
  {
   "cell_type": "code",
   "execution_count": 9,
   "metadata": {},
   "outputs": [
    {
     "data": {
      "text/plain": [
       "News                                                  61258\n",
       "Editors' Picks                                        61012\n",
       "News: Most Popular                                    61006\n",
       "Features & Blogs                                      60944\n",
       "Top News                                              60854\n",
       "NewsWire                                              60394\n",
       "My Market Indexes                                     36918\n",
       "RRA Articles                                          36458\n",
       "Issues In Focus                                       24022\n",
       "Industry News                                         22378\n",
       "Article                                               10430\n",
       "Corporate Profile                                      8051\n",
       "News Archive Page                                      4626\n",
       "Financial Reports                                      4105\n",
       "SNL Kagan Features                                     3550\n",
       "Companies and Assets                                   3479\n",
       "Power Plant Profile                                    3473\n",
       "Events: Earnings Releases                              3472\n",
       "SNL Research Library                                   3158\n",
       "Universal Search Results                               2868\n",
       "Exchange Rates                                         2809\n",
       "Geographies                                            2807\n",
       "Economic Data                                          2806\n",
       "Stock Chart                                            2650\n",
       "U.S. Markets Summary                                   2550\n",
       "Document Detail                                        2521\n",
       "Rates & Yields                                         2520\n",
       "File                                                   2458\n",
       "SNL Market Movers                                      2448\n",
       "New User Signup: Step 3                                2136\n",
       "Latest Filings                                         1750\n",
       "Maps - Info Tool                                       1723\n",
       "Login                                                  1541\n",
       "New User Signup: Step 4                                1348\n",
       "Briefing Book Search                                   1286\n",
       "Settings Summary                                       1250\n",
       "Updated Company Financials                             1174\n",
       "Knowledge Base                                         1159\n",
       "Departments                                            1147\n",
       "Password                                               1106\n",
       "Corporate Structure                                    1105\n",
       "Maps - BB Map CRE                                       998\n",
       "Maps - BB Map CRE Street View                           990\n",
       "Officers                                                980\n",
       "Research                                                973\n",
       "Updated U.S. Bank Reg Financials                        966\n",
       "Documents                                               957\n",
       "Events: Conference Calls                                951\n",
       "Events: Company Meetings                                942\n",
       "Redirector                                              845\n",
       "MyInteractive - Features                                764\n",
       "CRE Property Profile                                    755\n",
       "M&A Deal Overview                                       644\n",
       "Maps - BB Map CRE Info Tool                             635\n",
       "SNL News                                                627\n",
       "Select Services                                         604\n",
       "PDF View                                                586\n",
       "Excel View                                              582\n",
       "PP Units                                                561\n",
       "Commodity Watchlist                                     551\n",
       "Mapping Silo Infotool                                   494\n",
       "Power Plants                                            437\n",
       "Commodity Chart                                         428\n",
       "Generation Chart                                        422\n",
       "M&A History                                             418\n",
       "Report Builder - Report Complete                        405\n",
       "Template Browser                                        377\n",
       "Energy Markets Summary                                  374\n",
       "Custom Report Builder - Report Selection                367\n",
       "Mapping Silo                                            357\n",
       "Officers Bio                                            345\n",
       "Forward Power                                           329\n",
       "Mine Profile                                            304\n",
       "Energy Markets Gas Summary                              302\n",
       "Canned Report View Definition                           301\n",
       "Energy Commodity Prices                                 300\n",
       "Global Bank Branch Map                                  294\n",
       "Peer Analytics Report                                   289\n",
       "Generation Supply Curve                                 288\n",
       "Forward Gas                                             283\n",
       "Custom Report Builder - Options Selection               272\n",
       "Credit Ratings                                          271\n",
       "As Reported Report                                      268\n",
       "Peer Analytics                                          256\n",
       "CRE Related Properties                                  254\n",
       "CEMS Unit Graph                                         254\n",
       "Calendar Detail                                         251\n",
       "Add to Library Popup                                    248\n",
       "Ranking Report                                          233\n",
       "Power Plant by Type                                     228\n",
       "Online Newsletters Page                                 228\n",
       "Maps - Maps - Add Layers - Standard                     226\n",
       "Maps - Map App - Layer Styles                           224\n",
       "Corporate Compensation                                  220\n",
       "Network Profile                                         215\n",
       "Ratio Dissection                                        215\n",
       "CRE Owners And Tenants                                  210\n",
       "Portfolio Summary                                       210\n",
       "Maps - Data Grid - Selection                            210\n",
       "Regional News                                           208\n",
       "Feedback                                                194\n",
       "Maps - Map App - Data Grid                              194\n",
       "Coal Mines Owned                                        193\n",
       "SNLxl Download Area                                     188\n",
       "Community Banker: Loans and Assets                      187\n",
       "Features                                                185\n",
       "Market Share                                            185\n",
       "Day Ahead                                               184\n",
       "PA Run Analysis                                         179\n",
       "Maps - Layer Styles - Apply                             173\n",
       "Power Plant Summary                                     168\n",
       "Investor Presentations                                  167\n",
       "M&A Entity Financials                                   165\n",
       "Community Banker: Asset Quality                         163\n",
       "Briefing Book Plant Map                                 159\n",
       "Press Releases                                          159\n",
       "Institutional Ownership                                 158\n",
       "Maps - Search - Company                                 156\n",
       "SNL Power Forecast: Price                               153\n",
       "Articles Library                                        153\n",
       "M&A League Tables                                       151\n",
       "Energy Contracts                                        149\n",
       "Financial Highlights and Ratio Analysis                 148\n",
       "TV Network Summary                                      144\n",
       "PA Company Added Or Deleted                             144\n",
       "M&A Statistics                                          144\n",
       "MyInteractive - Top News                                144\n",
       "Power Projects                                          143\n",
       "European Branch List                                    139\n",
       "Professionals                                           131\n",
       "Transcripts                                             129\n",
       "Plant Fuels                                             127\n",
       "Spot Gas                                                127\n",
       "Production Cost Detail                                  127\n",
       "Unit Monthly Operations                                 120\n",
       "Community Banker: Capital Management                    117\n",
       "Cached File                                             115\n",
       "Community Banker: Deposits and Other Liabilities        112\n",
       "Maps - Data Grid - Sort                                 112\n",
       "Real Time                                               111\n",
       "M&A News                                                111\n",
       "U.S. Multichannel System Ownership                      111\n",
       "Markets And Deals                                       109\n",
       "Recent Deals                                            109\n",
       "M&A Documents                                           109\n",
       "Non Interest Expense                                    107\n",
       "Net Interest Margin                                     106\n",
       "Power Market BriefingBooks                              105\n",
       "Rate Specials                                           105\n",
       "ISO New England Capacity Markets                        101\n",
       "PA Report Fields Changed                                100\n",
       "Recent Private Equity Investments                        98\n",
       "Event Calendar                                           95\n",
       "Non Interest Income                                      95\n",
       "Capacity Auction Summary                                 95\n",
       "CEMS Unit Values                                         94\n",
       "Select-A-Page                                            94\n",
       "Maps - BB Map Branch                                     93\n",
       "Analyst Detail                                           93\n",
       "Portfolio Stocks Summary                                 92\n",
       "Market Commentary                                        92\n",
       "Estimated Financial Highlights                           91\n",
       "Custom Report Builder - Generation Confirmation          91\n",
       "Power Plant Briefing Book Search                         91\n",
       "Error                                                    88\n",
       "PP News                                                  87\n",
       "NYISO Capacity Markets                                   86\n",
       "Rate Cases                                               84\n",
       "PCA Historical Values                                    84\n",
       "Day Ahead Prices                                         84\n",
       "Demographic Profile                                      83\n",
       "Country Profile                                          83\n",
       "SNL Power Forecast Summary                               82\n",
       "Commodities Intermediate Page                            81\n",
       "Detailed Rates Report                                    80\n",
       "Operational Capacity by Point                            80\n",
       "Pipeline Summary                                         80\n",
       "Plant Emissions and Byproducts                           79\n",
       "Energy Regulatory Filings                                77\n",
       "Demographics Data                                        76\n",
       "Data Center - Index Values                               75\n",
       "Capacity & Generation Summary                            75\n",
       "Report Pop-Up Chart                                      73\n",
       "PJM Capacity Markets                                     73\n",
       "Maps - All instances of Street View in infotool          72\n",
       "Deposit Summary                                          70\n",
       "Network Economics                                        70\n",
       "Industry Stats                                           69\n",
       "Project Details                                          68\n",
       "BA Market Share                                          68\n",
       "Deposit Market Share Summary                             66\n",
       "Energy Markets Coal Summary                              65\n",
       "Estimates Summary                                        65\n",
       "Custom Report Builder - Preview Reports                  63\n",
       "BA MS Detail                                             62\n",
       "TV Network Industry Benchmarks                           60\n",
       "Capital Offerings                                        58\n",
       "Transmission Projects                                    57\n",
       "Depository Rates by Region                               57\n",
       "Maps - Layers - Remove                                   57\n",
       "Power Project Detail                                     56\n",
       "Banks in Organization                                    54\n",
       "OTT Service Providers & Devices                          54\n",
       "Institutional Holdings                                   54\n",
       "Email Validation                                         53\n",
       "iCalendar                                                53\n",
       "Wizard - EmailAlerts                                     51\n",
       "Global Multichannel Market Profile                       50\n",
       "Rate Case Profile                                        50\n",
       "Maps - Open Saved Map                                    49\n",
       "Segment Analysis                                         49\n",
       "RRA Rate Case History                                    49\n",
       "MergerAssumptionsManager?specific                        49\n",
       "Cable TV, DBS, and Telco Video Page File                 48\n",
       "Capital Structure                                        48\n",
       "Metals & Mining Property Briefing Book Search            47\n",
       "Insider Activity                                         46\n",
       "Peer Export to XLS                                       46\n",
       "Gas Projects in Development                              45\n",
       "RRA Commission Details                                   45\n",
       "Hourly Load Data                                         45\n",
       "Pipeline Contract Details                                45\n",
       "M&A Deal Map                                             44\n",
       "Physical Survey                                          44\n",
       "Mortgage Market Share                                    44\n",
       "Investment Advisory Details                              42\n",
       "Trend Report Created                                     42\n",
       "MergersDataProvider?active_ws_content                    41\n",
       "Global Multichannel Forecast Table                       41\n",
       "Industry Analysis                                        41\n",
       "Industry State Aggregates                                41\n",
       "Maps - Data Grid - Export to Excel                       40\n",
       "Regional Summary Statistics                              40\n",
       "Enforcement Actions                                      40\n",
       "Dashboard:European Significant Credit Institutions       38\n",
       "Power Plant Historic & Future Capacity                   37\n",
       "Upcoming Events in Utility Cases                         37\n",
       "PP Docs                                                  37\n",
       "Gas Projects Recent Updates                              37\n",
       "Recent RRA Reports                                       37\n",
       "Power Projects Recent Updates                            37\n",
       "Financial Product Rates                                  37\n",
       "Transmission Projects Recent Updates                     37\n",
       "Source Tagging Info                                      37\n",
       "Pending and Decided Rate Cases (LTM)                     37\n",
       "BVM Run Analysis                                         36\n",
       "TV Station Profile                                       36\n",
       "Financial & Operational Forecast                         36\n",
       "Private Equity Industry Overview                         35\n",
       "SNLCompanySearch                                         35\n",
       "SNL Power Forecast: Supply/Demand                        35\n",
       "Rates Console                                            35\n",
       "Mine Project Profile                                     34\n",
       "BVM Launch Application                                   34\n",
       "Maps - Screener - Export                                 33\n",
       "Events Calendar                                          33\n",
       "Industry Enforcement Actions                             33\n",
       "Ratio Dissection (MNA)                                   33\n",
       "Branch Proximity Report                                  33\n",
       "Branch Competitors Report                                32\n",
       "Cable TV, DBS, and Telco Video Page Detail               31\n",
       "Detailed Transmission Projects                           31\n",
       "Industry Benchmarks                                      31\n",
       "RRA Commission Profiles                                  31\n",
       "Pipeline Point Summary                                   31\n",
       "Performance Tree Opened                                  31\n",
       "GAAP Perspective                                         30\n",
       "Network Carriage                                         30\n",
       "Peer Chart Builder                                       30\n",
       "Depository Top Rates                                     30\n",
       "Maps - Export - PDF                                      30\n",
       "Maps - BB Map Link Through                               30\n",
       "Message                                                  30\n",
       "Operator Comparison By Market                            30\n",
       "Present and Future of Multichannel Market                29\n",
       "Mapping Silo Export                                      29\n",
       "Capacity Release by Pipeline                             29\n",
       "Branch Competitors & Pricing Report                      28\n",
       "MISO Capacity Markets                                    28\n",
       "MergersDataProvider?hhi_analysis                         28\n",
       "Publication Details                                      28\n",
       "BA Branch Navigator                                      27\n",
       "Headend by Geography                                     27\n",
       "BA MS Summary                                            27\n",
       "Internet Media Page Detail                               27\n",
       "Maps - Data Grid - Filter                                26\n",
       "MergerAnalysisWorksheetMgr?cp_company_palette            25\n",
       "Internet Media Page File                                 25\n",
       "Committee Membership                                     25\n",
       "Power Plant Map                                          25\n",
       "Load Curve                                               25\n",
       "OTC Survey                                               25\n",
       "Demographics Detail                                      25\n",
       "MergersDataProvider?detail_results                       25\n",
       "Market Scatter Chart                                     25\n",
       "Registration                                             25\n",
       "InitWorkspace                                            24\n",
       "GetWorkspace                                             24\n",
       "DetailedResults?summary_of_considerations                24\n",
       "UserCompanySearch                                        24\n",
       "ResultsSensitivityAnalysis?edit                          24\n",
       "Retail Electric Sales by State                           24\n",
       "Load And Energy Forecasts                                24\n",
       "GetUserInfo                                              24\n",
       "BranchLocations                                          24\n",
       "Annual Unit Emissions                                    24\n",
       "M&A Summary                                              23\n",
       "ViewResults?sort                                         23\n",
       "MergerDealSortingManager                                 23\n",
       "Shipper Contract Details                                 23\n",
       "Source Tagging Info (MNA)                                23\n",
       "PP Load Curve                                            23\n",
       "U.S. Multichannel Industry Benchmarks                    23\n",
       "Pipeline Contract Summary                                22\n",
       "Shipper Contract Summary                                 22\n",
       "Unit Emissions Controls                                  22\n",
       "Gas Projects Profile                                     22\n",
       "Maps - Save Map                                          22\n",
       "Industry Offerings                                       21\n",
       "Operational Capacity                                     21\n",
       "Unemployment Data                                        21\n",
       "Pipeline Recent News                                     21\n",
       "SummaryOfConsiderations?deal_statistics                  21\n",
       "MNA Deal Briefing Book Search                            21\n",
       "Operational Capacity by Power Plant                      21\n",
       "Chart Wizard Opened                                      20\n",
       "Currency Exchange Rates                                  20\n",
       "Depository Rates                                         20\n",
       "Insurance Stat Canned Report                             19\n",
       "Peer Chart Edit Series                                   19\n",
       "AddWorkbook                                              19\n",
       "Top Cable MSOs                                           19\n",
       "MergersDataProvider?deal_accretion_summary               19\n",
       "Power Plants Served                                      19\n",
       "Natural Gas Storage                                      18\n",
       "System Loads                                             18\n",
       "Forward Coal                                             18\n",
       "Retail Gas Sales by State                                18\n",
       "SNL Coal Forecast Summary                                18\n",
       "Dividends                                                18\n",
       "Institutional Ownership Detail                           18\n",
       "Peer Chart Edit Data                                     18\n",
       "Index Financials                                         18\n",
       "PP Fuel Contract Detail                                  18\n",
       "Analyst Coverage News                                    18\n",
       "Industry Country News                                    18\n",
       "ViewResults                                              17\n",
       "Contract Expiration                                      17\n",
       "RRA Landing Page                                         17\n",
       "RRA Report Search                                        17\n",
       "Debt Maturity Profile                                    17\n",
       "TV Market Overview                                       17\n",
       "ResultsSensitivityAnalysis?reset                         17\n",
       "Pipelines Owned                                          17\n",
       "Monthly Generation                                       17\n",
       "Branch Proximity Detail Report                           17\n",
       "Data Center - Price Graph                                17\n",
       "Transmission Line Profile                                17\n",
       "MergerAnalysisWorksheetMgr?cp_base_company_palette       16\n",
       "BA MS Data Report                                        16\n",
       "Project List                                             16\n",
       "Maps - Search - Asset                                    16\n",
       "Data Center - Home                                       16\n",
       "Documents Home Page                                      16\n",
       "Weekly U. S. Coal Production By Region                   16\n",
       "Project Annual Production                                16\n",
       "De Novo Banks & Thrifts                                  15\n",
       "CompanyDataManager?update                                15\n",
       "BA Market Overlap                                        15\n",
       "Capital Issues Detail                                    15\n",
       "RSS Info Page                                            15\n",
       "Maps - Export - Legend                                   15\n",
       "Package Subscribers by Network                           14\n",
       "Gas Projects                                             14\n",
       "Institutional Ownership Peer Comparison                  14\n",
       "Compensation                                             14\n",
       "Economic & Demographic Data                              13\n",
       "Maps - Export - JPEG                                     13\n",
       "Media and Communications Internet                        13\n",
       "Country Currency Exchange Rates                          13\n",
       "Multiple Commissions                                     13\n",
       "Asset Quality by Loan Type (part 1)                      13\n",
       "Coal Mine Briefing Book Search                           13\n",
       "SummaryOfConsiderations?financial_impact                 13\n",
       "Article Search Results                                   13\n",
       "Coverage Information Details                             13\n",
       "Deposit Summary Detail                                   13\n",
       "Securities Pipeline                                      13\n",
       "Historic and Future Capacity                             13\n",
       "Financial Institutions Portfolio Monitoring              13\n",
       "Articles Search                                          12\n",
       "DTH Market Summary                                       12\n",
       "Offerings League Tables                                  12\n",
       "Docs Search                                              12\n",
       "Media and Communications TV Networks                     12\n",
       "Broadcast Industry Benchmarks                            12\n",
       "Power Plant Summary Details                              12\n",
       "Network News                                             12\n",
       "Package Network by Headend                               11\n",
       "TV Network Page File                                     11\n",
       "Audit Fee League Tables                                  11\n",
       "Country Risk                                             11\n",
       "Environmental Projects                                   11\n",
       "MergerAssumptionsManager?global                          11\n",
       "Country Risk Summary                                     11\n",
       "BVM Check Acquisition Model Checkbox                     11\n",
       "Economy In Perspective                                   11\n",
       "Private Equity Investments                               11\n",
       "Failed Banks & Thrifts                                   10\n",
       "Channel Lineups by Headend                               10\n",
       "Business Profile                                         10\n",
       "Article Abstract                                         10\n",
       "Cable Market Summary                                     10\n",
       "Mine Capacity & Costs                                    10\n",
       "Power Plant Operation Summary                            10\n",
       "Mapping silo radial Analysis                             10\n",
       "Reserves/Resources & Production Chart                    10\n",
       "Wireless & Wireline Page Detail                          10\n",
       "Industry Credit Ratings                                  10\n",
       "SNL Coal Forecast: Price                                 10\n",
       "Recent News                                              10\n",
       "Maps - Demographics Tool                                 10\n",
       "Wireless & Wireline Page File                            10\n",
       "Mine Production Detail                                   10\n",
       "Media Census Home                                        10\n",
       "Maps - Export - PNG 32                                   10\n",
       "Capacity Release by Releasing Shipper                     9\n",
       "Mortgage Loan Summary                                     9\n",
       "DetailedResults?capital_ratios                            9\n",
       "Pipeline Zone Summary                                     9\n",
       "Wireless Industry Benchmarks                              9\n",
       "Interest Rate Risk                                        9\n",
       "Generic RSS Feed                                          8\n",
       "Client Request Form                                       8\n",
       "Top Industry Auditors                                     8\n",
       "TV Networks Page Detail                                   8\n",
       "SaveMergerReportSelections                                8\n",
       "Media and Communications US Multichannel                  8\n",
       "MyInteractive - Issues in Focus                           8\n",
       "Top Common Equity Bookrunners                             8\n",
       "Top M&A Financial Advisers                                8\n",
       "U.S. Government Program Participation                     8\n",
       "Coverage Information                                      8\n",
       "DetailedResults?income_statement_reconciliation_1         8\n",
       "Mapping Silo Datagrid                                     8\n",
       "Subscribers by Market                                     8\n",
       "SubdebtSchedule?load                                      8\n",
       "Property Transactions                                     8\n",
       "Offering Overview                                         8\n",
       "Mining Commodity: Metal & Mining Projects                 8\n",
       "US Multichannel Market Subscriber Summary                 8\n",
       "Statistics View of New Banks                              8\n",
       "Broadband Market Summary                                  8\n",
       "Peer Group Edit (TypeAhead)                               8\n",
       "Peer Export to PDF                                        7\n",
       "TV Station Financials                                     7\n",
       "PowerPlants Perspective                                   7\n",
       "Nuclear Status and Outage Report                          7\n",
       "Credit Ratings Subsidiaries                               7\n",
       "Package Composition                                       7\n",
       "Cable MSO Industry Benchmarks                             7\n",
       "BA Company Search                                         7\n",
       "Mapping silo business analyst export                      7\n",
       "NIM – Yield/ Cost and Volume Analysis                     7\n",
       "TV Advertising Summary                                    7\n",
       "Commodity Profile                                         7\n",
       "Discoveries & Milestones                                  7\n",
       "BAMSDemographics                                          7\n",
       "Peer Export to SNLxl                                      7\n",
       "Economy and Multichannel Affordability                    7\n",
       "SNL Power Forecast: Guidance                              7\n",
       "BA BL Map                                                 7\n",
       "ActivateWorksheet                                         7\n",
       "SubdebtSchedule?apply                                     7\n",
       "DetailedResults?balance_sheet_reconciliation              7\n",
       "Mortgage Summary                                          7\n",
       "Events: Industry Conferences                              6\n",
       "Metals & Mining Map                                       6\n",
       "Video Subscribers                                         6\n",
       "Peer Group Management                                     6\n",
       "Broadcasting Page File                                    6\n",
       "Capital OfferingBriefing Book Search                      6\n",
       "IFRS  Segment Analysis                                    6\n",
       "All Video by DMA                                          6\n",
       "Profile Page                                              6\n",
       "Mine General Comments                                     6\n",
       "Select-A-Page Search                                      6\n",
       "UpdateWorkbook                                            6\n",
       "Multimedia Technology Page File                           6\n",
       "Geology                                                   6\n",
       "DTT Market Summary                                        6\n",
       "TV Stations by Market and Affiliation                     6\n",
       "Quick Lookup                                              6\n",
       "Global Multichannel Market Briefing Book Search           6\n",
       "Fixed Wireless Summary                                    6\n",
       "IP-Video Market Summary                                   6\n",
       "Reserves and Resources                                    6\n",
       "NewsWire Popup                                            6\n",
       "Rate Case Briefing Book Search                            5\n",
       "Global Multichannel Ranking Table                         5\n",
       "Wireless License Profile                                  5\n",
       "TV Station Owners in Market                               5\n",
       "SNL Bidweek Index                                         5\n",
       "Credit Risk Exposure                                      5\n",
       "Broadcast TV Summary                                      5\n",
       "Credit Default Swap Chart                                 5\n",
       "Deal Branch List                                          5\n",
       "TARP Participants                                         5\n",
       "Global Multichannel Comparison Table                      5\n",
       "SummaryOfConsiderations?capacity_to_pay                   5\n",
       "CostSavingsPhaseinSchedule?edit                           5\n",
       "Mine Work History                                         5\n",
       "SNLCompanySearchResults?details                           5\n",
       "MergerAnalysisWorksheetMgr?delete_deal                    5\n",
       "Package Subscribers by Operator                           5\n",
       "Private Equity Transactions                               5\n",
       "RRA Report Search Result                                  5\n",
       "MyInteractive - RRA Research Notes                        5\n",
       "Private Equity Investors                                  5\n",
       "Comparable Deal Analysis                                  5\n",
       "Global Multichannel Rankings                              5\n",
       "Mine Location, Map & Claims                               5\n",
       "TV Networks                                               5\n",
       "Top Wireless Markets                                      5\n",
       "Multichannel Subscribers by Market                        5\n",
       "Global Multichannel Markets                               5\n",
       "Global Multichannel Comparison                            5\n",
       "Home Page                                                 5\n",
       "MergerReportSelections                                    5\n",
       "Thematics                                                 5\n",
       "Capital                                                   5\n",
       "SubdebtSchedule?calculate                                 5\n",
       "M&A Graph                                                 5\n",
       "U.S. Multiscreen Page File                                5\n",
       "SNL Covered Banks Headquartered in Focused Country        5\n",
       "Fossil Fuel                                               5\n",
       "Peer Chart Company Added to Group                         4\n",
       "DetailedResults?individual_deal_summary                   4\n",
       "SynergiesSchedule?load                                    4\n",
       "Industry Financial Data                                   4\n",
       "Company Flyout                                            4\n",
       "Mobile TV Summary                                         4\n",
       "All Links                                                 4\n",
       "Briefing Book Wireless License List                       4\n",
       "BAMSEditReport                                            4\n",
       "PP Load Curve Values                                      4\n",
       "CostSavingsPhaseinSchedule?load                           4\n",
       "Market Overlap Report: Comparison Company Search          4\n",
       "Rates & Yields Page                                       4\n",
       "Offering Documents                                        4\n",
       "Table Export Viewer                                       4\n",
       "DetailedResults?sensitivity_analysis                      4\n",
       "Summary Demographic Data Map                              4\n",
       "Mortgage Market Share Summary                             4\n",
       "U.S. P&C Business Overview                                4\n",
       "Media and Communications Global Multichannel              4\n",
       "Envrironmental Power Projects                             4\n",
       "API Security                                              3\n",
       "SNL Publications                                          3\n",
       "Property Ownership Structure                              3\n",
       "Operator Subscriber Growth By Market                      3\n",
       "U.S. Government Bailout Coverage                          3\n",
       "Industry Benchmarks Report                                3\n",
       "Broadcasting Page Detail                                  3\n",
       "HDTV Summary                                              3\n",
       "CompanyDataManager?load                                   3\n",
       "Commodity Top Producing Mines                             3\n",
       "Rate Case Reports                                         3\n",
       "BA Print View                                             3\n",
       "Market List                                               3\n",
       "Peer Group Edit (Execute Advanced Search)                 3\n",
       "SynergiesSchedule?edit                                    3\n",
       "Summary                                                   3\n",
       "Insider Activity Detail                                   3\n",
       "Peer Chart Company Added As Comparison                    3\n",
       "Rate Case Documents                                       3\n",
       "BA MS Map                                                 3\n",
       "Market Overlap Report                                     3\n",
       "ResultsCapitalRatios?edit                                 3\n",
       "SNL Publications Search                                   3\n",
       "Maps - Drive Time - Run Analysis                          3\n",
       "US Depository Rates                                       3\n",
       "Rate Case News                                            3\n",
       "Daily Nuclear                                             3\n",
       "Advertising Page File                                     3\n",
       "TV Network Briefing Book Search                           2\n",
       "U.S. Multiscreen Page Detail                              2\n",
       "BVM SNLxl Template                                        2\n",
       "File Uploads                                              2\n",
       "MergerAnalysisWorksheetMgr?cp_intra_ws_partner            2\n",
       "SNL Coal Forecast: Supply                                 2\n",
       "Mine Subcontractors                                       2\n",
       "DealFilterCriteria?min_market_premium                     2\n",
       "Multichannel System Ownership List                        2\n",
       "Network Change                                            2\n",
       "Consensus  Details                                        2\n",
       "Top TV Station Owners                                     2\n",
       "Private Equity Investment                                 2\n",
       "Licensed Area Detail                                      2\n",
       "Industry Financials In Perspective                        2\n",
       "Component Companies Page                                  2\n",
       "Unemployment Detail                                       2\n",
       "P&C Peer Underwriting                                     2\n",
       "DetailedResults?projected_income_statement                2\n",
       "Ownership                                                 2\n",
       "M&A US Market Share                                       2\n",
       "TV Station Transaction History                            2\n",
       "P&C Peer Highlights                                       2\n",
       "Weekly U. S. Coal Production By Region Graph              2\n",
       "Filmed Entertainment Page File                            2\n",
       "Demographic and Income Profile 3                          2\n",
       "Emissions Data Graph                                      2\n",
       "Peer Group Editing                                        2\n",
       "RRA Event Calendar                                        2\n",
       "SNL Coal Forecast Guidance                                2\n",
       "Custom Page                                               2\n",
       "DetailedResults?irr                                       2\n",
       "Reactor Power Level                                       2\n",
       "BA MO Data Report                                         2\n",
       "Income Statement                                          2\n",
       "Mine News                                                 2\n",
       "Maps - Radial Analysis - Run Analysis                     2\n",
       "Events Search                                             2\n",
       "Export Map to PDF                                         2\n",
       "SNLCompanySearchResults?sort                              2\n",
       "Load And Energy Forecasts Tabular                         1\n",
       "ImputedValuation?comparable_deals                         1\n",
       "Top Markets                                               1\n",
       "Portfolio Valuation (Summary)                             1\n",
       "Radio Station Profile                                     1\n",
       "ImputedValuationRatios                                    1\n",
       "Regulatory News                                           1\n",
       "SNL Coal Forecast: Demand                                 1\n",
       "Top Radio Station Owners                                  1\n",
       "Bank Offerings                                            1\n",
       "Financial Performance                                     1\n",
       "DetailedResults?income_statement_reconciliation_4         1\n",
       "DetailedResults?deal_value_calculation                    1\n",
       "Related Licenses                                          1\n",
       "TV Market Briefing Book Search                            1\n",
       "BA MO Map                                                 1\n",
       "System Ownership Map                                      1\n",
       "CompanyData?view_income_statement_history                 1\n",
       "Regulatory Highlights                                     1\n",
       "Metals & Mining Project News                              1\n",
       "Property Browser                                          1\n",
       "SubdebtSchedule?reset                                     1\n",
       "ImputedValuation                                          1\n",
       "Advertising Page Detail                                   1\n",
       "Vendor In Use                                             1\n",
       "Underwriter Detail Report                                 1\n",
       "Offerings League Table Report                             1\n",
       "CompanyDataManager?reset                                  1\n",
       "DetailedResults?income_statement_reconciliation_2         1\n",
       "Environmental Projects Detail                             1\n",
       "Company Demographics                                      1\n",
       "SNL Insurance Covered Companies                           1\n",
       "R&P Metrics - Project R&R Details page                    1\n",
       "Coal Mine Map                                             1\n",
       "NewsLetters Search Results                                1\n",
       "Top Tenants                                               1\n",
       "U.S. Insurance Product Filings                            1\n",
       "Mine Documents                                            1\n",
       "IP Authentication Article                                 1\n",
       "Maps - Drive Time - Generate Report                       1\n",
       "Metals & Mining Project Documents                         1\n",
       "PA HTML Printing                                          1\n",
       "NAV Estimates                                             1\n",
       "Radio Stations by Market and Format                       1\n",
       "Recent M&A Activity                                       1\n",
       "Sovereign Exposure                                        1\n",
       "Audit Fees                                                1\n",
       "Film Revenue Model                                        1\n",
       "Peer Chart HTML Printing                                  1\n",
       "Change Logs                                               1\n",
       "De Novo Statistics                                        1\n",
       "Market Performance                                        1\n",
       "RR SNL Finance: Client Entitlement Matrix                 1\n",
       "Media and Communications Broadcasting                     1\n",
       "DealCompsSelections                                       1\n",
       "BAMSDemoDetail                                            1\n",
       "ImputedValuation?imputed_value                            1\n",
       "RRA Rate Statistics                                       1\n",
       "Aggregated Production                                     1\n",
       "BA MO Summary                                             1\n",
       "BA Transaction                                            1\n",
       "Index Financial                                           1\n",
       "DetailedResults?income_statement_reconciliation_3         1\n",
       "TARP Warrants                                             1\n",
       "SNL Mine Economics                                        1\n",
       "Credit Default Swaps Curve                                1\n",
       "BVM Change Report Value                                   1\n",
       "HistoricalDealClosing?historical                          1\n",
       "Dominant Channel Number                                   1\n",
       "Weekly U. S. Coal Production By Region Historical         1\n",
       "Peer Group Edit (Advanced Search Popup)                   1\n",
       "Media and Communications Wireless & Wireline              1\n",
       "MNA History                                               1\n",
       "Package Subscribers by Operator by County                 1\n",
       "Capacity Release by Replacement Shipper                   1\n",
       "Attributable Reserves & Resources                         1\n",
       "Field Chart Created                                       1\n",
       "Wireless License Demographics                             1\n",
       "BA HHI Map                                                1\n",
       "Briefing Book Station List                                1\n",
       "U.S. Life Business Overview                               1\n",
       "Tenant Exposure                                           1\n",
       "ResultsCapitalRatios?reset                                1\n",
       "Property Map Briefing Book                                1\n",
       "Claims Statistics                                         1\n",
       "Maps - Radial Analysis - Generate Report                  1\n",
       "Social Media Alerts                                       1\n",
       "Global Multichannel Operator Analysis                     1\n",
       "Select Period                                             1\n",
       "Video Release Report                                      1\n",
       "Flush Current User Cached Context                         1\n",
       "Active Late-Stage projects                                1\n",
       "Piracy Summary                                            1\n",
       "CopyWorkbookFromUserLibrary                               1\n",
       "DetailedResults?contribution_analysis                     1\n",
       "Name: Name, dtype: int64"
      ]
     },
     "execution_count": 9,
     "metadata": {},
     "output_type": "execute_result"
    }
   ],
   "source": [
    "pcomb['Name'].value_counts()"
   ]
  },
  {
   "cell_type": "markdown",
   "metadata": {},
   "source": [
    "#### Anomaly Detection for Pages:  \n",
    "\n",
    "There is an entry in one of the top most views pages \"New User Signup: Step 3\". I am not sure if it has any meaning at all in this context. I would consider this as a part of noise. So would get rid of it.  \n",
    "During my one the attempts at outlier detection, I also came across following pages, which I think can be removed too on the similar lines of reasoning:  \n",
    "Login  \n",
    "Password  \n",
    "Settings Summary  \n",
    "New User Signup: Step 4  \n",
    "Redirector  \n",
    "Excel View  \n",
    "PDF View"
   ]
  },
  {
   "cell_type": "code",
   "execution_count": 10,
   "metadata": {
    "collapsed": true
   },
   "outputs": [],
   "source": [
    "pcomb_wo = pcomb.copy()\n",
    "pcomb_wo = pcomb_wo[pcomb_wo['Name'] != 'New User Signup: Step 3']\n",
    "pcomb_wo = pcomb_wo[~pcomb_wo['Name'].isin(['Login','Password','Settings Summary','New User Signup: Step 4','Redirector','Excel View','PDF View'])]"
   ]
  },
  {
   "cell_type": "markdown",
   "metadata": {},
   "source": [
    "### Users Analysis"
   ]
  },
  {
   "cell_type": "code",
   "execution_count": 11,
   "metadata": {},
   "outputs": [
    {
     "data": {
      "text/html": [
       "<div>\n",
       "<table border=\"1\" class=\"dataframe\">\n",
       "  <thead>\n",
       "    <tr style=\"text-align: right;\">\n",
       "      <th></th>\n",
       "      <th>userID</th>\n",
       "      <th>pageID</th>\n",
       "      <th>day</th>\n",
       "      <th>count</th>\n",
       "    </tr>\n",
       "  </thead>\n",
       "  <tbody>\n",
       "    <tr>\n",
       "      <th>28779</th>\n",
       "      <td>user550</td>\n",
       "      <td>page474</td>\n",
       "      <td>69</td>\n",
       "      <td>1500</td>\n",
       "    </tr>\n",
       "    <tr>\n",
       "      <th>3602</th>\n",
       "      <td>user1072</td>\n",
       "      <td>page726</td>\n",
       "      <td>84</td>\n",
       "      <td>675</td>\n",
       "    </tr>\n",
       "    <tr>\n",
       "      <th>3550</th>\n",
       "      <td>user1072</td>\n",
       "      <td>page519</td>\n",
       "      <td>84</td>\n",
       "      <td>675</td>\n",
       "    </tr>\n",
       "    <tr>\n",
       "      <th>3468</th>\n",
       "      <td>user1072</td>\n",
       "      <td>page182</td>\n",
       "      <td>84</td>\n",
       "      <td>675</td>\n",
       "    </tr>\n",
       "    <tr>\n",
       "      <th>3523</th>\n",
       "      <td>user1072</td>\n",
       "      <td>page429</td>\n",
       "      <td>84</td>\n",
       "      <td>675</td>\n",
       "    </tr>\n",
       "  </tbody>\n",
       "</table>\n",
       "</div>"
      ],
      "text/plain": [
       "         userID   pageID  day  count\n",
       "28779   user550  page474   69   1500\n",
       "3602   user1072  page726   84    675\n",
       "3550   user1072  page519   84    675\n",
       "3468   user1072  page182   84    675\n",
       "3523   user1072  page429   84    675"
      ]
     },
     "execution_count": 11,
     "metadata": {},
     "output_type": "execute_result"
    }
   ],
   "source": [
    "pcomb_wo.groupby(['userID','pageID','day']).agg('count').reset_index().sort(columns='time',ascending=False).rename(columns={\"time\":\"count\"}).drop(['Name'],axis=1).head()"
   ]
  },
  {
   "cell_type": "markdown",
   "metadata": {},
   "source": [
    "#### Anamoly Detection for Users"
   ]
  },
  {
   "cell_type": "markdown",
   "metadata": {},
   "source": [
    "1500 hits by one user for the same page in one day seems unconvincing for me. So I would remove it."
   ]
  },
  {
   "cell_type": "code",
   "execution_count": 12,
   "metadata": {
    "collapsed": true
   },
   "outputs": [],
   "source": [
    "pcomb_wo = pcomb_wo[~((pcomb_wo['userID']=='user550') & (pcomb_wo['pageID']=='page474') & (pcomb_wo['day']==69))]"
   ]
  },
  {
   "cell_type": "markdown",
   "metadata": {},
   "source": [
    "**Most active users**"
   ]
  },
  {
   "cell_type": "code",
   "execution_count": 13,
   "metadata": {},
   "outputs": [
    {
     "data": {
      "text/html": [
       "<div>\n",
       "<table border=\"1\" class=\"dataframe\">\n",
       "  <thead>\n",
       "    <tr style=\"text-align: right;\">\n",
       "      <th></th>\n",
       "      <th>pageID</th>\n",
       "      <th>day</th>\n",
       "      <th>time</th>\n",
       "      <th>Name</th>\n",
       "    </tr>\n",
       "    <tr>\n",
       "      <th>userID</th>\n",
       "      <th></th>\n",
       "      <th></th>\n",
       "      <th></th>\n",
       "      <th></th>\n",
       "    </tr>\n",
       "  </thead>\n",
       "  <tbody>\n",
       "    <tr>\n",
       "      <th>user480</th>\n",
       "      <td>33826</td>\n",
       "      <td>33826</td>\n",
       "      <td>33826</td>\n",
       "      <td>33826</td>\n",
       "    </tr>\n",
       "    <tr>\n",
       "      <th>user1120</th>\n",
       "      <td>33059</td>\n",
       "      <td>33059</td>\n",
       "      <td>33059</td>\n",
       "      <td>33059</td>\n",
       "    </tr>\n",
       "    <tr>\n",
       "      <th>user1129</th>\n",
       "      <td>28141</td>\n",
       "      <td>28141</td>\n",
       "      <td>28141</td>\n",
       "      <td>28141</td>\n",
       "    </tr>\n",
       "    <tr>\n",
       "      <th>user115</th>\n",
       "      <td>10994</td>\n",
       "      <td>10994</td>\n",
       "      <td>10994</td>\n",
       "      <td>10994</td>\n",
       "    </tr>\n",
       "    <tr>\n",
       "      <th>user805</th>\n",
       "      <td>10733</td>\n",
       "      <td>10733</td>\n",
       "      <td>10733</td>\n",
       "      <td>10733</td>\n",
       "    </tr>\n",
       "  </tbody>\n",
       "</table>\n",
       "</div>"
      ],
      "text/plain": [
       "          pageID    day   time   Name\n",
       "userID                               \n",
       "user480    33826  33826  33826  33826\n",
       "user1120   33059  33059  33059  33059\n",
       "user1129   28141  28141  28141  28141\n",
       "user115    10994  10994  10994  10994\n",
       "user805    10733  10733  10733  10733"
      ]
     },
     "execution_count": 13,
     "metadata": {},
     "output_type": "execute_result"
    }
   ],
   "source": [
    "pcomb_wo.groupby('userID').agg('count').sort(columns='pageID',ascending=False).head()"
   ]
  },
  {
   "cell_type": "markdown",
   "metadata": {},
   "source": [
    "**Just 15 percent of the users consitute more than 80% of the total views**"
   ]
  },
  {
   "cell_type": "code",
   "execution_count": 14,
   "metadata": {},
   "outputs": [
    {
     "data": {
      "text/plain": [
       "<matplotlib.axes._subplots.AxesSubplot at 0x121f0f650>"
      ]
     },
     "execution_count": 14,
     "metadata": {},
     "output_type": "execute_result"
    },
    {
     "data": {
      "image/png": "[encoded data removed]",
      "text/plain": [
       "<matplotlib.figure.Figure at 0x123524e50>"
      ]
     },
     "metadata": {},
     "output_type": "display_data"
    }
   ],
   "source": [
    "udf = pcomb_wo.groupby('userID').agg('count').sort(columns='pageID',ascending=False)\n",
    "udf = udf.rename(columns={\"pageID\":\"count\"})\n",
    "udf = udf.drop(['day','time'],axis=1)\n",
    "udf['cum_perc_Views'] = (udf['count'].cumsum() / udf['count'].sum()) * 100\n",
    "udf['cum_user_count']= udf.reset_index().sort(columns='cum_perc_Views')['userID'].cumsum().index + 1\n",
    "udf['cum_perc_user'] = (udf['cum_user_count']/udf['cum_user_count'].tail(1)[0])*100 \n",
    "udf = udf.drop('cum_user_count',axis=1)\n",
    "udf.reset_index().sort(columns='cum_perc_Views').head(500).plot(x='cum_perc_user',y='cum_perc_Views',figsize=(16,12),kind='line')"
   ]
  },
  {
   "cell_type": "markdown",
   "metadata": {},
   "source": [
    "** Analyzing the viewing habits of top two most active users **"
   ]
  },
  {
   "cell_type": "code",
   "execution_count": 15,
   "metadata": {},
   "outputs": [
    {
     "data": {
      "text/plain": [
       "array(['Features & Blogs', 'News: Most Popular', \"Editors' Picks\", 'News',\n",
       "       'Top News', 'Industry News', 'Issues In Focus', 'NewsWire',\n",
       "       'Events: Company Meetings', 'Latest Filings',\n",
       "       'Updated U.S. Bank Reg Financials', 'Events: Earnings Releases',\n",
       "       'Events: Conference Calls', 'Updated Company Financials',\n",
       "       'Companies and Assets', 'Corporate Profile', 'Article',\n",
       "       'Exchange Rates', 'Economic Data', 'Geographies', 'Officers',\n",
       "       'Universal Search Results', 'Officers Bio', 'Departments',\n",
       "       'Community Banker: Loans and Assets', 'Peer Analytics Report',\n",
       "       'Document Detail', 'Financial Reports', 'Credit Ratings',\n",
       "       'Corporate Structure', 'M&A History', 'Corporate Compensation',\n",
       "       'Global Bank Branch Map',\n",
       "       'Community Banker: Deposits and Other Liabilities',\n",
       "       'Demographics Data', 'MyInteractive - Features',\n",
       "       'BVM Launch Application', 'Community Banker: Asset Quality',\n",
       "       'Currency Exchange Rates', 'Press Releases', 'Features',\n",
       "       'MergersDataProvider?active_ws_content', 'M&A Deal Overview',\n",
       "       'Professionals',\n",
       "       'MergerAnalysisWorksheetMgr?cp_base_company_palette',\n",
       "       'Peer Analytics', 'File', 'BVM Run Analysis', 'GetWorkspace',\n",
       "       'AddWorkbook', 'Rates & Yields',\n",
       "       'MergerAnalysisWorksheetMgr?cp_company_palette',\n",
       "       'UserCompanySearch', 'Country Profile', 'As Reported Report',\n",
       "       'GetUserInfo', 'BranchLocations', 'Calendar Detail', 'InitWorkspace'], dtype=object)"
      ]
     },
     "execution_count": 15,
     "metadata": {},
     "output_type": "execute_result"
    }
   ],
   "source": [
    "mau = udf.reset_index().sort(columns='cum_perc_Views')\n",
    "mau = mau[mau['cum_perc_user']<=15]\n",
    "usdf = pcomb_wo[pcomb_wo['userID'].isin(mau.userID.values)]\n",
    "temp = usdf.groupby(['userID','pageID']).agg('count').reset_index().rename(columns={\"time\":\"count\"}).drop(['Name','day'],axis=1)\n",
    "x = temp[temp['userID']=='user480'].sort('count',ascending=False)\n",
    "pd.merge(x,pcomb_wo,on=['pageID','userID']).Name.unique()"
   ]
  },
  {
   "cell_type": "code",
   "execution_count": 16,
   "metadata": {},
   "outputs": [
    {
     "data": {
      "text/plain": [
       "array(['NewsWire', 'News', 'My Market Indexes', 'News: Most Popular',\n",
       "       \"Editors' Picks\", 'Top News', 'Features & Blogs', 'RRA Articles',\n",
       "       'Article', 'Knowledge Base', 'Document Detail', 'File',\n",
       "       'Departments', 'Select Services', 'Wizard - EmailAlerts',\n",
       "       'NewsWire Popup'], dtype=object)"
      ]
     },
     "execution_count": 16,
     "metadata": {},
     "output_type": "execute_result"
    }
   ],
   "source": [
    "usdf = pcomb_wo[pcomb_wo['userID'].isin(mau.userID.values)]\n",
    "temp = usdf[usdf['userID']!='user480'].groupby(['userID','pageID']).agg('count').reset_index().rename(columns={\"time\":\"count\"}).drop(['Name','day'],axis=1).sort('count',ascending=False)\n",
    "x = temp[temp['userID']=='user1120'].sort('count',ascending=False)\n",
    "pd.merge(x,pcomb_wo,on=['pageID','userID']).Name.unique()"
   ]
  },
  {
   "cell_type": "markdown",
   "metadata": {},
   "source": [
    "### Pages Analysis"
   ]
  },
  {
   "cell_type": "code",
   "execution_count": 17,
   "metadata": {},
   "outputs": [
    {
     "data": {
      "text/html": [
       "<div>\n",
       "<table border=\"1\" class=\"dataframe\">\n",
       "  <thead>\n",
       "    <tr style=\"text-align: right;\">\n",
       "      <th></th>\n",
       "      <th>Name</th>\n",
       "      <th>Views</th>\n",
       "      <th>cum_perc_Views</th>\n",
       "    </tr>\n",
       "  </thead>\n",
       "  <tbody>\n",
       "    <tr>\n",
       "      <th>0</th>\n",
       "      <td>News</td>\n",
       "      <td>61258</td>\n",
       "      <td>10.102546</td>\n",
       "    </tr>\n",
       "    <tr>\n",
       "      <th>1</th>\n",
       "      <td>Editors' Picks</td>\n",
       "      <td>61012</td>\n",
       "      <td>20.164522</td>\n",
       "    </tr>\n",
       "    <tr>\n",
       "      <th>2</th>\n",
       "      <td>News: Most Popular</td>\n",
       "      <td>61006</td>\n",
       "      <td>30.225509</td>\n",
       "    </tr>\n",
       "    <tr>\n",
       "      <th>3</th>\n",
       "      <td>Features &amp; Blogs</td>\n",
       "      <td>60944</td>\n",
       "      <td>40.276271</td>\n",
       "    </tr>\n",
       "    <tr>\n",
       "      <th>4</th>\n",
       "      <td>Top News</td>\n",
       "      <td>60854</td>\n",
       "      <td>50.312190</td>\n",
       "    </tr>\n",
       "    <tr>\n",
       "      <th>5</th>\n",
       "      <td>NewsWire</td>\n",
       "      <td>60394</td>\n",
       "      <td>60.272247</td>\n",
       "    </tr>\n",
       "    <tr>\n",
       "      <th>6</th>\n",
       "      <td>My Market Indexes</td>\n",
       "      <td>36918</td>\n",
       "      <td>66.360689</td>\n",
       "    </tr>\n",
       "    <tr>\n",
       "      <th>7</th>\n",
       "      <td>RRA Articles</td>\n",
       "      <td>36458</td>\n",
       "      <td>72.373269</td>\n",
       "    </tr>\n",
       "    <tr>\n",
       "      <th>8</th>\n",
       "      <td>Issues In Focus</td>\n",
       "      <td>24022</td>\n",
       "      <td>76.334929</td>\n",
       "    </tr>\n",
       "    <tr>\n",
       "      <th>9</th>\n",
       "      <td>Industry News</td>\n",
       "      <td>22378</td>\n",
       "      <td>80.025463</td>\n",
       "    </tr>\n",
       "    <tr>\n",
       "      <th>10</th>\n",
       "      <td>Article</td>\n",
       "      <td>10430</td>\n",
       "      <td>81.745558</td>\n",
       "    </tr>\n",
       "    <tr>\n",
       "      <th>11</th>\n",
       "      <td>Corporate Profile</td>\n",
       "      <td>8051</td>\n",
       "      <td>83.073313</td>\n",
       "    </tr>\n",
       "    <tr>\n",
       "      <th>12</th>\n",
       "      <td>News Archive Page</td>\n",
       "      <td>4626</td>\n",
       "      <td>83.836223</td>\n",
       "    </tr>\n",
       "    <tr>\n",
       "      <th>13</th>\n",
       "      <td>SNL Kagan Features</td>\n",
       "      <td>3550</td>\n",
       "      <td>84.421682</td>\n",
       "    </tr>\n",
       "    <tr>\n",
       "      <th>14</th>\n",
       "      <td>Companies and Assets</td>\n",
       "      <td>3479</td>\n",
       "      <td>84.995432</td>\n",
       "    </tr>\n",
       "    <tr>\n",
       "      <th>15</th>\n",
       "      <td>Power Plant Profile</td>\n",
       "      <td>3473</td>\n",
       "      <td>85.568192</td>\n",
       "    </tr>\n",
       "    <tr>\n",
       "      <th>16</th>\n",
       "      <td>Events: Earnings Releases</td>\n",
       "      <td>3472</td>\n",
       "      <td>86.140787</td>\n",
       "    </tr>\n",
       "    <tr>\n",
       "      <th>17</th>\n",
       "      <td>SNL Research Library</td>\n",
       "      <td>3158</td>\n",
       "      <td>86.661598</td>\n",
       "    </tr>\n",
       "    <tr>\n",
       "      <th>18</th>\n",
       "      <td>Universal Search Results</td>\n",
       "      <td>2868</td>\n",
       "      <td>87.134583</td>\n",
       "    </tr>\n",
       "    <tr>\n",
       "      <th>19</th>\n",
       "      <td>Exchange Rates</td>\n",
       "      <td>2809</td>\n",
       "      <td>87.597838</td>\n",
       "    </tr>\n",
       "    <tr>\n",
       "      <th>20</th>\n",
       "      <td>Geographies</td>\n",
       "      <td>2807</td>\n",
       "      <td>88.060762</td>\n",
       "    </tr>\n",
       "    <tr>\n",
       "      <th>21</th>\n",
       "      <td>Economic Data</td>\n",
       "      <td>2806</td>\n",
       "      <td>88.523522</td>\n",
       "    </tr>\n",
       "    <tr>\n",
       "      <th>22</th>\n",
       "      <td>Stock Chart</td>\n",
       "      <td>2650</td>\n",
       "      <td>88.960555</td>\n",
       "    </tr>\n",
       "    <tr>\n",
       "      <th>23</th>\n",
       "      <td>Financial Reports</td>\n",
       "      <td>2605</td>\n",
       "      <td>89.390166</td>\n",
       "    </tr>\n",
       "    <tr>\n",
       "      <th>24</th>\n",
       "      <td>U.S. Markets Summary</td>\n",
       "      <td>2550</td>\n",
       "      <td>89.810707</td>\n",
       "    </tr>\n",
       "    <tr>\n",
       "      <th>25</th>\n",
       "      <td>Document Detail</td>\n",
       "      <td>2521</td>\n",
       "      <td>90.226465</td>\n",
       "    </tr>\n",
       "    <tr>\n",
       "      <th>26</th>\n",
       "      <td>Rates &amp; Yields</td>\n",
       "      <td>2520</td>\n",
       "      <td>90.642059</td>\n",
       "    </tr>\n",
       "    <tr>\n",
       "      <th>27</th>\n",
       "      <td>File</td>\n",
       "      <td>2458</td>\n",
       "      <td>91.047427</td>\n",
       "    </tr>\n",
       "    <tr>\n",
       "      <th>28</th>\n",
       "      <td>SNL Market Movers</td>\n",
       "      <td>2448</td>\n",
       "      <td>91.451146</td>\n",
       "    </tr>\n",
       "    <tr>\n",
       "      <th>29</th>\n",
       "      <td>Latest Filings</td>\n",
       "      <td>1750</td>\n",
       "      <td>91.739753</td>\n",
       "    </tr>\n",
       "    <tr>\n",
       "      <th>30</th>\n",
       "      <td>Maps - Info Tool</td>\n",
       "      <td>1723</td>\n",
       "      <td>92.023907</td>\n",
       "    </tr>\n",
       "    <tr>\n",
       "      <th>31</th>\n",
       "      <td>Briefing Book Search</td>\n",
       "      <td>1286</td>\n",
       "      <td>92.235991</td>\n",
       "    </tr>\n",
       "    <tr>\n",
       "      <th>32</th>\n",
       "      <td>Updated Company Financials</td>\n",
       "      <td>1174</td>\n",
       "      <td>92.429605</td>\n",
       "    </tr>\n",
       "    <tr>\n",
       "      <th>33</th>\n",
       "      <td>Knowledge Base</td>\n",
       "      <td>1159</td>\n",
       "      <td>92.620745</td>\n",
       "    </tr>\n",
       "    <tr>\n",
       "      <th>34</th>\n",
       "      <td>Departments</td>\n",
       "      <td>1147</td>\n",
       "      <td>92.809906</td>\n",
       "    </tr>\n",
       "    <tr>\n",
       "      <th>35</th>\n",
       "      <td>Corporate Structure</td>\n",
       "      <td>1105</td>\n",
       "      <td>92.992140</td>\n",
       "    </tr>\n",
       "    <tr>\n",
       "      <th>36</th>\n",
       "      <td>Maps - BB Map CRE</td>\n",
       "      <td>998</td>\n",
       "      <td>93.156728</td>\n",
       "    </tr>\n",
       "    <tr>\n",
       "      <th>37</th>\n",
       "      <td>Maps - BB Map CRE Street View</td>\n",
       "      <td>990</td>\n",
       "      <td>93.319997</td>\n",
       "    </tr>\n",
       "    <tr>\n",
       "      <th>38</th>\n",
       "      <td>Officers</td>\n",
       "      <td>980</td>\n",
       "      <td>93.481617</td>\n",
       "    </tr>\n",
       "    <tr>\n",
       "      <th>39</th>\n",
       "      <td>Research</td>\n",
       "      <td>973</td>\n",
       "      <td>93.642082</td>\n",
       "    </tr>\n",
       "    <tr>\n",
       "      <th>40</th>\n",
       "      <td>Updated U.S. Bank Reg Financials</td>\n",
       "      <td>966</td>\n",
       "      <td>93.801393</td>\n",
       "    </tr>\n",
       "    <tr>\n",
       "      <th>41</th>\n",
       "      <td>Documents</td>\n",
       "      <td>957</td>\n",
       "      <td>93.959219</td>\n",
       "    </tr>\n",
       "    <tr>\n",
       "      <th>42</th>\n",
       "      <td>Events: Conference Calls</td>\n",
       "      <td>951</td>\n",
       "      <td>94.116056</td>\n",
       "    </tr>\n",
       "    <tr>\n",
       "      <th>43</th>\n",
       "      <td>Events: Company Meetings</td>\n",
       "      <td>942</td>\n",
       "      <td>94.271409</td>\n",
       "    </tr>\n",
       "    <tr>\n",
       "      <th>44</th>\n",
       "      <td>MyInteractive - Features</td>\n",
       "      <td>764</td>\n",
       "      <td>94.397406</td>\n",
       "    </tr>\n",
       "    <tr>\n",
       "      <th>45</th>\n",
       "      <td>CRE Property Profile</td>\n",
       "      <td>755</td>\n",
       "      <td>94.521919</td>\n",
       "    </tr>\n",
       "    <tr>\n",
       "      <th>46</th>\n",
       "      <td>M&amp;A Deal Overview</td>\n",
       "      <td>644</td>\n",
       "      <td>94.628126</td>\n",
       "    </tr>\n",
       "    <tr>\n",
       "      <th>47</th>\n",
       "      <td>Maps - BB Map CRE Info Tool</td>\n",
       "      <td>635</td>\n",
       "      <td>94.732849</td>\n",
       "    </tr>\n",
       "    <tr>\n",
       "      <th>48</th>\n",
       "      <td>SNL News</td>\n",
       "      <td>627</td>\n",
       "      <td>94.836253</td>\n",
       "    </tr>\n",
       "    <tr>\n",
       "      <th>49</th>\n",
       "      <td>Select Services</td>\n",
       "      <td>604</td>\n",
       "      <td>94.935863</td>\n",
       "    </tr>\n",
       "    <tr>\n",
       "      <th>50</th>\n",
       "      <td>PP Units</td>\n",
       "      <td>561</td>\n",
       "      <td>95.028382</td>\n",
       "    </tr>\n",
       "    <tr>\n",
       "      <th>51</th>\n",
       "      <td>Commodity Watchlist</td>\n",
       "      <td>551</td>\n",
       "      <td>95.119252</td>\n",
       "    </tr>\n",
       "    <tr>\n",
       "      <th>52</th>\n",
       "      <td>Mapping Silo Infotool</td>\n",
       "      <td>494</td>\n",
       "      <td>95.200722</td>\n",
       "    </tr>\n",
       "    <tr>\n",
       "      <th>53</th>\n",
       "      <td>Power Plants</td>\n",
       "      <td>437</td>\n",
       "      <td>95.272791</td>\n",
       "    </tr>\n",
       "    <tr>\n",
       "      <th>54</th>\n",
       "      <td>Commodity Chart</td>\n",
       "      <td>428</td>\n",
       "      <td>95.343376</td>\n",
       "    </tr>\n",
       "  </tbody>\n",
       "</table>\n",
       "</div>"
      ],
      "text/plain": [
       "                                Name  Views  cum_perc_Views\n",
       "0                               News  61258       10.102546\n",
       "1                     Editors' Picks  61012       20.164522\n",
       "2                 News: Most Popular  61006       30.225509\n",
       "3                   Features & Blogs  60944       40.276271\n",
       "4                           Top News  60854       50.312190\n",
       "5                           NewsWire  60394       60.272247\n",
       "6                  My Market Indexes  36918       66.360689\n",
       "7                       RRA Articles  36458       72.373269\n",
       "8                    Issues In Focus  24022       76.334929\n",
       "9                      Industry News  22378       80.025463\n",
       "10                           Article  10430       81.745558\n",
       "11                 Corporate Profile   8051       83.073313\n",
       "12                 News Archive Page   4626       83.836223\n",
       "13                SNL Kagan Features   3550       84.421682\n",
       "14              Companies and Assets   3479       84.995432\n",
       "15               Power Plant Profile   3473       85.568192\n",
       "16         Events: Earnings Releases   3472       86.140787\n",
       "17              SNL Research Library   3158       86.661598\n",
       "18          Universal Search Results   2868       87.134583\n",
       "19                    Exchange Rates   2809       87.597838\n",
       "20                       Geographies   2807       88.060762\n",
       "21                     Economic Data   2806       88.523522\n",
       "22                       Stock Chart   2650       88.960555\n",
       "23                 Financial Reports   2605       89.390166\n",
       "24              U.S. Markets Summary   2550       89.810707\n",
       "25                   Document Detail   2521       90.226465\n",
       "26                    Rates & Yields   2520       90.642059\n",
       "27                              File   2458       91.047427\n",
       "28                 SNL Market Movers   2448       91.451146\n",
       "29                    Latest Filings   1750       91.739753\n",
       "30                  Maps - Info Tool   1723       92.023907\n",
       "31              Briefing Book Search   1286       92.235991\n",
       "32        Updated Company Financials   1174       92.429605\n",
       "33                    Knowledge Base   1159       92.620745\n",
       "34                       Departments   1147       92.809906\n",
       "35               Corporate Structure   1105       92.992140\n",
       "36                 Maps - BB Map CRE    998       93.156728\n",
       "37     Maps - BB Map CRE Street View    990       93.319997\n",
       "38                          Officers    980       93.481617\n",
       "39                          Research    973       93.642082\n",
       "40  Updated U.S. Bank Reg Financials    966       93.801393\n",
       "41                         Documents    957       93.959219\n",
       "42          Events: Conference Calls    951       94.116056\n",
       "43          Events: Company Meetings    942       94.271409\n",
       "44          MyInteractive - Features    764       94.397406\n",
       "45              CRE Property Profile    755       94.521919\n",
       "46                 M&A Deal Overview    644       94.628126\n",
       "47       Maps - BB Map CRE Info Tool    635       94.732849\n",
       "48                          SNL News    627       94.836253\n",
       "49                   Select Services    604       94.935863\n",
       "50                          PP Units    561       95.028382\n",
       "51               Commodity Watchlist    551       95.119252\n",
       "52             Mapping Silo Infotool    494       95.200722\n",
       "53                      Power Plants    437       95.272791\n",
       "54                   Commodity Chart    428       95.343376"
      ]
     },
     "execution_count": 17,
     "metadata": {},
     "output_type": "execute_result"
    }
   ],
   "source": [
    "pageViews = pcomb_wo['Name'].value_counts()\n",
    "d = {'Name':pageViews.index,'Views':pageViews.values}\n",
    "pageViews = pd.DataFrame(data=d)\n",
    "pageViews['cum_perc_Views'] = (pageViews['Views'].cumsum() / pageViews['Views'].sum()) * 100\n",
    "pageViews.head(55)"
   ]
  },
  {
   "cell_type": "markdown",
   "metadata": {},
   "source": [
    "**Out of a total of 720 distinct page categories, top 35 most viewed constitute more than 90% of all the views**"
   ]
  },
  {
   "cell_type": "code",
   "execution_count": 18,
   "metadata": {},
   "outputs": [
    {
     "data": {
      "text/plain": [
       "<matplotlib.axes._subplots.AxesSubplot at 0x12350ed10>"
      ]
     },
     "execution_count": 18,
     "metadata": {},
     "output_type": "execute_result"
    },
    {
     "data": {
      "image/png": "[encoded data removed]",
      "text/plain": [
       "<matplotlib.figure.Figure at 0x1256f2e10>"
      ]
     },
     "metadata": {},
     "output_type": "display_data"
    }
   ],
   "source": [
    "xticks = [x for x in range(35)]\n",
    "pageViews.head(35).plot(x='Name',y='cum_perc_Views',kind='line',figsize=(16,12),xticks = xticks,rot=90,fontsize=12)"
   ]
  },
  {
   "cell_type": "markdown",
   "metadata": {},
   "source": [
    "### Breakdown of top 35 most viewed pages:\n",
    "\n",
    "A cursory inspection tells us that the pages can be categorized into one of the following: \n",
    "\n",
    "**News**  \n",
    "\n",
    "This may include all the pages related to news, opinions, blogs, articles, specifically:  \n",
    "News  \n",
    "Editors' Picks  \n",
    "News: Most Popular  \n",
    "Features & Blogs  \n",
    "Top News  \n",
    "NewsWire  \n",
    "RRA Articles  \n",
    "Issues In Focus  \n",
    "Industry News  \n",
    "Article  \n",
    "Events: Earnings Releases  \n",
    "News Archive Page  \n",
    "Latest Filings  \n",
    "US Markets Summary  \n",
    "SNL Market Movers  \n",
    "\n",
    "**Individual Portfolio**  \n",
    "\n",
    "This can include all the pages related to an end user's personalized experience on the platform, specifically:  \n",
    "My Market Indexes  \n",
    "Corporate Profile  \n",
    "Stock Chart  \n",
    "Document Detail  \n",
    "Power Plant Profile  \n",
    "\n",
    "**Research**  \n",
    "\n",
    "This can include all the pages related to search performed, any specific research done, specifically:  \n",
    "Universal Search Results  \n",
    "SNL Research Library  \n",
    "Briefing Book Search  \n",
    "Knowledge Base  \n",
    "\n",
    "**Others**  \n",
    "\n",
    "This can include the rest of the pages, specifically:  \n",
    "Financial Reports  \n",
    "SNL Kagan Features  \n",
    "Companies and Assets  \n",
    "Exchange Rates  \n",
    "Geographies  \n",
    "Economic Data  \n",
    "Rates & Yields  \n",
    "File  \n",
    "Maps - Info Tool  \n",
    "Departments  \n",
    "Updated Company Financials"
   ]
  },
  {
   "cell_type": "code",
   "execution_count": 19,
   "metadata": {},
   "outputs": [
    {
     "data": {
      "image/png": "[encoded data removed]",
      "text/plain": [
       "<matplotlib.figure.Figure at 0x1256f2d90>"
      ]
     },
     "metadata": {},
     "output_type": "display_data"
    }
   ],
   "source": [
    "nv = pageViews.loc[pageViews['Name'].isin(['News','Editors\\' Picks','News: Most Popular','Features & Blogs',\n",
    "                                     'Top News','NewsWire','RRA Articles','Issues In Focus','Industry News','Article',\n",
    "                                     'Events: Earnings Releases','News Archive Page','Latest Filings'\n",
    "                                      ,'US Markets Summary','SNL Market Movers']),'Views'].sum(axis=0)\n",
    "ipv = pageViews.loc[pageViews['Name'].isin(['My Market Indexes','Corporate Profile','Stock Chart','Document Detail',\n",
    "                                            'Power Plant Profile']),'Views'].sum(axis=0)\n",
    "rv = pageViews.loc[pageViews['Name'].isin(['Universal Search Results','SNL Research Library','Briefing Book Search'\n",
    "                                          ,'Knowledge Base']),'Views'].sum(axis=0)\n",
    "ov = pageViews.loc[pageViews['Name'].isin(['Financial Reports','SNL Kagan Features','Companies and Assets'\n",
    "                                          ,'Exchange Rates','Geographies','Economic Data','Rates & Yields',\n",
    "                                          'File','Maps - Info Tool','Departments','Updated Company Financials'\n",
    "                                          ]),'Views'].sum(axis=0)  \n",
    "\n",
    "# Data to plot\n",
    "\n",
    "labels = ['News','Individual Portfolio','Research','Others']\n",
    "Views = [nv, ipv, rv, ov]\n",
    "colors = ['gold', 'yellowgreen', 'lightcoral', 'lightskyblue']\n",
    "explode = (0.1, 0, 0, 0)  # explode 1st slice\n",
    " \n",
    "# Plot\n",
    "mpl.rcParams['font.size'] = 14.0\n",
    "\n",
    "patches, texts, autotexts  = plt.pie(Views, explode=explode, labels=labels, colors=colors,\n",
    "        autopct='%1.1f%%', shadow=True)\n",
    "texts[0].set_fontsize(14)\n",
    "texts[1].set_fontsize(14)\n",
    "texts[2].set_fontsize(14)\n",
    "texts[3].set_fontsize(14)\n",
    "\n",
    "plt.axis('equal')\n",
    "fig = plt.gcf()\n",
    "fig.set_size_inches(7,7) \n",
    "plt.show()"
   ]
  },
  {
   "cell_type": "markdown",
   "metadata": {},
   "source": [
    "**More than 500 page categories contribute to less than 1 percent of views**"
   ]
  },
  {
   "cell_type": "code",
   "execution_count": 20,
   "metadata": {},
   "outputs": [
    {
     "data": {
      "text/plain": [
       "(509, 3)"
      ]
     },
     "execution_count": 20,
     "metadata": {},
     "output_type": "execute_result"
    }
   ],
   "source": [
    "pageViews[pageViews.cum_perc_Views > 99].shape"
   ]
  },
  {
   "cell_type": "markdown",
   "metadata": {},
   "source": [
    "### Most viewed pages viewership based on time of the day"
   ]
  },
  {
   "cell_type": "code",
   "execution_count": 61,
   "metadata": {},
   "outputs": [
    {
     "data": {
      "image/png": "[encoded data removed]",
      "text/plain": [
       "<matplotlib.figure.Figure at 0x10fbe1e50>"
      ]
     },
     "metadata": {},
     "output_type": "display_data"
    },
    {
     "data": {
      "text/plain": [
       "<ggplot: (311040585)>"
      ]
     },
     "execution_count": 61,
     "metadata": {},
     "output_type": "execute_result"
    }
   ],
   "source": [
    "mvp = pageViews['Name'].head(30)\n",
    "uvdf = pd.DataFrame(pcomb_wo.loc[pcomb_wo['Name'].isin(mvp.values),['userID','time','Name']])\n",
    "uvdf = uvdf.loc[uvdf['userID'].isin(mau['userID']),:]\n",
    "uvdf['time'] = pd.to_datetime(uvdf['time'],format= '%H:%M:%S' ).dt.hour\n",
    "uvdfN = uvdf.groupby(['Name','time']).agg('count').reset_index()\n",
    "uvdfN = uvdfN.rename(columns={\"userID\":\"active_members_count\"})\n",
    "p = ggplot(aes(x='time', y='Name', color='active_members_count'), data=uvdfN) + \\\n",
    "    geom_point() + \\\n",
    "    scale_color_gradient(low = 'white', high = 'black')   \n",
    "\n",
    "t = theme_bw()\n",
    "t._rcParams['font.size'] = 20 # Legend font size\n",
    "t._rcParams['xtick.labelsize'] = 15 # xaxis tick label size\n",
    "t._rcParams['ytick.labelsize'] = 10 # yaxis tick label size\n",
    "t._rcParams['axes.labelsize'] = 15  # axis label size\n",
    "p + t    "
   ]
  },
  {
   "cell_type": "code",
   "execution_count": 23,
   "metadata": {
    "collapsed": true
   },
   "outputs": [],
   "source": [
    "del uvdf"
   ]
  },
  {
   "cell_type": "markdown",
   "metadata": {},
   "source": [
    "### Most of the views happen in PM"
   ]
  },
  {
   "cell_type": "code",
   "execution_count": 24,
   "metadata": {},
   "outputs": [
    {
     "data": {
      "text/plain": [
       "<matplotlib.axes._subplots.AxesSubplot at 0x123ab1550>"
      ]
     },
     "execution_count": 24,
     "metadata": {},
     "output_type": "execute_result"
    },
    {
     "data": {
      "image/png": "[encoded data removed]",
      "text/plain": [
       "<matplotlib.figure.Figure at 0x123524f10>"
      ]
     },
     "metadata": {},
     "output_type": "display_data"
    }
   ],
   "source": [
    "p = pd.to_datetime(pcomb_wo['time'],format= '%H:%M:%S' ).dt.hour\n",
    "tsViews = p.value_counts()\n",
    "d = {'HourOfDay':tsViews.index,'Views':tsViews.values}\n",
    "tsViews = pd.DataFrame(data=d)\n",
    "tsViews['views_by_hr'] = (tsViews.sort_values('HourOfDay')['Views']/tsViews['Views'].sum())*100\n",
    "tsViews.sort_values('HourOfDay',axis=0).plot(x='HourOfDay',y='views_by_hr',kind='bar',figsize=(12,8))"
   ]
  },
  {
   "cell_type": "markdown",
   "metadata": {},
   "source": [
    "### Views by day"
   ]
  },
  {
   "cell_type": "code",
   "execution_count": 25,
   "metadata": {},
   "outputs": [
    {
     "data": {
      "text/plain": [
       "<matplotlib.axes._subplots.AxesSubplot at 0x123a71890>"
      ]
     },
     "execution_count": 25,
     "metadata": {},
     "output_type": "execute_result"
    },
    {
     "data": {
      "image/png": "[encoded data removed]",
      "text/plain": [
       "<matplotlib.figure.Figure at 0x122bb85d0>"
      ]
     },
     "metadata": {},
     "output_type": "display_data"
    }
   ],
   "source": [
    "ViewsByDay = pcomb_wo['day'].value_counts()\n",
    "d = {'Day':ViewsByDay.index,'Views':ViewsByDay.values}\n",
    "ViewsByDay = pd.DataFrame(data=d)\n",
    "ViewsByDay['Views_by_day'] = (ViewsByDay.sort_values('Day')['Views'] / ViewsByDay['Views'].sum()) * 100\n",
    "ViewsByDay.sort_values('Day').plot(x='Day',y='Views_by_day',kind='line',figsize=(16,12))"
   ]
  },
  {
   "cell_type": "markdown",
   "metadata": {},
   "source": [
    "The trend here is as expected. The peaks may be pointing to the middle of the week while the valleys pointing to week ends.  \n",
    "Also there is an increasing trend visible, with a \"bump\" showing up every 3 weeks or so, starting the 2nd week. "
   ]
  },
  {
   "cell_type": "markdown",
   "metadata": {},
   "source": [
    "**News page individual analysis**"
   ]
  },
  {
   "cell_type": "code",
   "execution_count": 26,
   "metadata": {},
   "outputs": [
    {
     "data": {
      "text/plain": [
       "<matplotlib.axes._subplots.AxesSubplot at 0x122c70790>"
      ]
     },
     "execution_count": 26,
     "metadata": {},
     "output_type": "execute_result"
    },
    {
     "data": {
      "image/png": "[encoded data removed]",
      "text/plain": [
       "<matplotlib.figure.Figure at 0x123a731d0>"
      ]
     },
     "metadata": {},
     "output_type": "display_data"
    }
   ],
   "source": [
    "temp = pcomb_wo.copy()\n",
    "temp['timeInHr']= pd.to_datetime(temp['time'],format='%H:%M:%S').dt.hour.astype(int)\n",
    "temp = temp.drop('time',axis=1)\n",
    "tempgr = temp.groupby(['Name','timeInHr']).agg('count')\n",
    "s = tempgr.loc['News','userID'].sort_values(ascending=False)\n",
    "d = {'count':s.values, 'timeInHr':s.index}\n",
    "NewsStats = pd.DataFrame(data=d)\n",
    "NewsStats.sort(columns='timeInHr').plot(x='timeInHr',y='count',kind='bar',figsize=(16,12))"
   ]
  },
  {
   "cell_type": "markdown",
   "metadata": {},
   "source": [
    "**Exchange Rate page individual analysis**"
   ]
  },
  {
   "cell_type": "code",
   "execution_count": 27,
   "metadata": {},
   "outputs": [
    {
     "data": {
      "text/plain": [
       "<matplotlib.axes._subplots.AxesSubplot at 0x123962b90>"
      ]
     },
     "execution_count": 27,
     "metadata": {},
     "output_type": "execute_result"
    },
    {
     "data": {
      "image/png": "[encoded data removed]",
      "text/plain": [
       "<matplotlib.figure.Figure at 0x122bccf50>"
      ]
     },
     "metadata": {},
     "output_type": "display_data"
    }
   ],
   "source": [
    "s = tempgr.loc['Exchange Rates','userID'].sort_values(ascending=False)\n",
    "d = {'count':s.values, 'timeInHr':s.index}\n",
    "ERStats = pd.DataFrame(data=d)\n",
    "ERStats.sort(columns='timeInHr').plot(x='timeInHr',y='count',kind='bar',figsize=(16,12))"
   ]
  },
  {
   "cell_type": "markdown",
   "metadata": {},
   "source": [
    "### Finding most similar page to a page, say page 595 "
   ]
  },
  {
   "cell_type": "markdown",
   "metadata": {},
   "source": [
    "**Manual approach**"
   ]
  },
  {
   "cell_type": "markdown",
   "metadata": {},
   "source": [
    "I performed a visual analysis to find the most similar page to a given page.  \n",
    "This returned a simple popularity based model.  \n",
    "That is all the of the matches found were nothing but the most viewed in the entire dataset.   \n",
    "Following is what this analysis yielded for **page 595**  \n",
    "Page 710  \n",
    "Page 75  \n",
    "Page 49  \n",
    "Page 308  \n",
    "Page 650  \n",
    "Page 638  \n",
    "Page 133  \n",
    "Page 544  \n",
    "\n",
    "Looking at their names, these turn out to be following :  \n",
    "News  \n",
    "NewsWire  \n",
    "Top News  \n",
    "News: Most Popular  \n",
    "Features & Blogs  \n",
    "Editors' Picks  \n",
    "RRA Articles  \n",
    "My Market Indexes\n",
    "  \n",
    "As expected, all were equal in similarity  to Physical Survey "
   ]
  },
  {
   "cell_type": "code",
   "execution_count": 28,
   "metadata": {},
   "outputs": [
    {
     "data": {
      "text/plain": [
       "array(['News', 'NewsWire', 'Top News', 'News: Most Popular',\n",
       "       'Features & Blogs', \"Editors' Picks\", 'RRA Articles',\n",
       "       'My Market Indexes'], dtype=object)"
      ]
     },
     "execution_count": 28,
     "metadata": {},
     "output_type": "execute_result"
    }
   ],
   "source": [
    "pcomb.loc[pcomb['pageID'].isin(['page710','page75','page49','page308','page650','page638','page133','page544']),'Name'].unique()"
   ]
  },
  {
   "cell_type": "markdown",
   "metadata": {},
   "source": [
    "**Change of approach: Using Graphlab**\n",
    "\n",
    "Using Graphlab's unified interface for training recommender models that chooses the Item Similarity method (that ranks an item according to its similarity to other items observed for the user in question), following are the most similar pages found to page595 (Physical Survey) and in that order:  \n",
    "page505 : OTC Survey  \n",
    "page605 : Forward Coal  \n",
    "page597 : Energy Markets Coal Summary  \n",
    "page696 : SNL Coal Forecast: Price   \n",
    "page65  : MISO Capacity Markets\n"
   ]
  },
  {
   "cell_type": "code",
   "execution_count": 29,
   "metadata": {},
   "outputs": [
    {
     "data": {
      "text/html": [
       "<pre>Recsys training: model = item_similarity</pre>"
      ],
      "text/plain": [
       "Recsys training: model = item_similarity"
      ]
     },
     "metadata": {},
     "output_type": "display_data"
    },
    {
     "data": {
      "text/html": [
       "<pre>Warning: Ignoring columns day, time, Name;</pre>"
      ],
      "text/plain": [
       "Warning: Ignoring columns day, time, Name;"
      ]
     },
     "metadata": {},
     "output_type": "display_data"
    },
    {
     "data": {
      "text/html": [
       "<pre>    To use one of these as a target column, set target = <column_name></pre>"
      ],
      "text/plain": [
       "    To use one of these as a target column, set target = <column_name>"
      ]
     },
     "metadata": {},
     "output_type": "display_data"
    },
    {
     "data": {
      "text/html": [
       "<pre>    and use a method that allows the use of a target.</pre>"
      ],
      "text/plain": [
       "    and use a method that allows the use of a target."
      ]
     },
     "metadata": {},
     "output_type": "display_data"
    },
    {
     "data": {
      "text/html": [
       "<pre>Preparing data set.</pre>"
      ],
      "text/plain": [
       "Preparing data set."
      ]
     },
     "metadata": {},
     "output_type": "display_data"
    },
    {
     "data": {
      "text/html": [
       "<pre>    Data has 606362 observations with 1130 users and 733 items.</pre>"
      ],
      "text/plain": [
       "    Data has 606362 observations with 1130 users and 733 items."
      ]
     },
     "metadata": {},
     "output_type": "display_data"
    },
    {
     "data": {
      "text/html": [
       "<pre>    Data prepared in: 0.416145s</pre>"
      ],
      "text/plain": [
       "    Data prepared in: 0.416145s"
      ]
     },
     "metadata": {},
     "output_type": "display_data"
    },
    {
     "data": {
      "text/html": [
       "<pre>Training model from provided data.</pre>"
      ],
      "text/plain": [
       "Training model from provided data."
      ]
     },
     "metadata": {},
     "output_type": "display_data"
    },
    {
     "data": {
      "text/html": [
       "<pre>Gathering per-item and per-user statistics.</pre>"
      ],
      "text/plain": [
       "Gathering per-item and per-user statistics."
      ]
     },
     "metadata": {},
     "output_type": "display_data"
    },
    {
     "data": {
      "text/html": [
       "<pre>+--------------------------------+------------+</pre>"
      ],
      "text/plain": [
       "+--------------------------------+------------+"
      ]
     },
     "metadata": {},
     "output_type": "display_data"
    },
    {
     "data": {
      "text/html": [
       "<pre>| Elapsed Time (Item Statistics) | % Complete |</pre>"
      ],
      "text/plain": [
       "| Elapsed Time (Item Statistics) | % Complete |"
      ]
     },
     "metadata": {},
     "output_type": "display_data"
    },
    {
     "data": {
      "text/html": [
       "<pre>+--------------------------------+------------+</pre>"
      ],
      "text/plain": [
       "+--------------------------------+------------+"
      ]
     },
     "metadata": {},
     "output_type": "display_data"
    },
    {
     "data": {
      "text/html": [
       "<pre>| 1.392ms                        | 88.25      |</pre>"
      ],
      "text/plain": [
       "| 1.392ms                        | 88.25      |"
      ]
     },
     "metadata": {},
     "output_type": "display_data"
    },
    {
     "data": {
      "text/html": [
       "<pre>| 1.743ms                        | 100        |</pre>"
      ],
      "text/plain": [
       "| 1.743ms                        | 100        |"
      ]
     },
     "metadata": {},
     "output_type": "display_data"
    },
    {
     "data": {
      "text/html": [
       "<pre>+--------------------------------+------------+</pre>"
      ],
      "text/plain": [
       "+--------------------------------+------------+"
      ]
     },
     "metadata": {},
     "output_type": "display_data"
    },
    {
     "data": {
      "text/html": [
       "<pre>Setting up lookup tables.</pre>"
      ],
      "text/plain": [
       "Setting up lookup tables."
      ]
     },
     "metadata": {},
     "output_type": "display_data"
    },
    {
     "data": {
      "text/html": [
       "<pre>Processing data in one pass using dense lookup tables.</pre>"
      ],
      "text/plain": [
       "Processing data in one pass using dense lookup tables."
      ]
     },
     "metadata": {},
     "output_type": "display_data"
    },
    {
     "data": {
      "text/html": [
       "<pre>+-------------------------------------+------------------+-----------------+</pre>"
      ],
      "text/plain": [
       "+-------------------------------------+------------------+-----------------+"
      ]
     },
     "metadata": {},
     "output_type": "display_data"
    },
    {
     "data": {
      "text/html": [
       "<pre>| Elapsed Time (Constructing Lookups) | Total % Complete | Items Processed |</pre>"
      ],
      "text/plain": [
       "| Elapsed Time (Constructing Lookups) | Total % Complete | Items Processed |"
      ]
     },
     "metadata": {},
     "output_type": "display_data"
    },
    {
     "data": {
      "text/html": [
       "<pre>+-------------------------------------+------------------+-----------------+</pre>"
      ],
      "text/plain": [
       "+-------------------------------------+------------------+-----------------+"
      ]
     },
     "metadata": {},
     "output_type": "display_data"
    },
    {
     "data": {
      "text/html": [
       "<pre>| 4.834ms                             | 0                | 0               |</pre>"
      ],
      "text/plain": [
       "| 4.834ms                             | 0                | 0               |"
      ]
     },
     "metadata": {},
     "output_type": "display_data"
    },
    {
     "data": {
      "text/html": [
       "<pre>| 17.106ms                            | 100              | 733             |</pre>"
      ],
      "text/plain": [
       "| 17.106ms                            | 100              | 733             |"
      ]
     },
     "metadata": {},
     "output_type": "display_data"
    },
    {
     "data": {
      "text/html": [
       "<pre>+-------------------------------------+------------------+-----------------+</pre>"
      ],
      "text/plain": [
       "+-------------------------------------+------------------+-----------------+"
      ]
     },
     "metadata": {},
     "output_type": "display_data"
    },
    {
     "data": {
      "text/html": [
       "<pre>Finalizing lookup tables.</pre>"
      ],
      "text/plain": [
       "Finalizing lookup tables."
      ]
     },
     "metadata": {},
     "output_type": "display_data"
    },
    {
     "data": {
      "text/html": [
       "<pre>Generating candidate set for working with new users.</pre>"
      ],
      "text/plain": [
       "Generating candidate set for working with new users."
      ]
     },
     "metadata": {},
     "output_type": "display_data"
    },
    {
     "data": {
      "text/html": [
       "<pre>Finished training in 1.12045s</pre>"
      ],
      "text/plain": [
       "Finished training in 1.12045s"
      ]
     },
     "metadata": {},
     "output_type": "display_data"
    }
   ],
   "source": [
    "sf = gl.SFrame(pcomb_wo)\n",
    "model = gl.recommender.create(sf, user_id='userID', item_id='pageID',ranking=False)"
   ]
  },
  {
   "cell_type": "markdown",
   "metadata": {},
   "source": [
    "** Let's get some more details printed **"
   ]
  },
  {
   "cell_type": "code",
   "execution_count": 37,
   "metadata": {},
   "outputs": [
    {
     "data": {
      "text/plain": [
       "{'degree_approximation_threshold': 4096,\n",
       " 'item_id': 'pageID',\n",
       " 'max_data_passes': 4096,\n",
       " 'max_item_neighborhood_size': 64,\n",
       " 'nearest_neighbors_interaction_proportion_threshold': 0.05,\n",
       " 'seed_item_set_size': 50,\n",
       " 'similarity_type': 'jaccard',\n",
       " 'sparse_density_estimation_sample_size': 4096,\n",
       " 'target': None,\n",
       " 'target_memory_usage': 8589934592,\n",
       " 'threshold': 0.001,\n",
       " 'training_method': 'auto',\n",
       " 'user_id': 'userID'}"
      ]
     },
     "execution_count": 37,
     "metadata": {},
     "output_type": "execute_result"
    }
   ],
   "source": [
    "model.get_current_options()"
   ]
  },
  {
   "cell_type": "markdown",
   "metadata": {},
   "source": [
    "**Pages found**"
   ]
  },
  {
   "cell_type": "code",
   "execution_count": 30,
   "metadata": {},
   "outputs": [
    {
     "data": {
      "text/html": [
       "<div style=\"max-height:1000px;max-width:1500px;overflow:auto;\"><table frame=\"box\" rules=\"cols\">\n",
       "    <tr>\n",
       "        <th style=\"padding-left: 1em; padding-right: 1em; text-align: center\">pageID</th>\n",
       "        <th style=\"padding-left: 1em; padding-right: 1em; text-align: center\">similar</th>\n",
       "        <th style=\"padding-left: 1em; padding-right: 1em; text-align: center\">score</th>\n",
       "        <th style=\"padding-left: 1em; padding-right: 1em; text-align: center\">rank</th>\n",
       "    </tr>\n",
       "    <tr>\n",
       "        <td style=\"padding-left: 1em; padding-right: 1em; text-align: center; vertical-align: top\">page595</td>\n",
       "        <td style=\"padding-left: 1em; padding-right: 1em; text-align: center; vertical-align: top\">page505</td>\n",
       "        <td style=\"padding-left: 1em; padding-right: 1em; text-align: center; vertical-align: top\">0.625</td>\n",
       "        <td style=\"padding-left: 1em; padding-right: 1em; text-align: center; vertical-align: top\">1</td>\n",
       "    </tr>\n",
       "    <tr>\n",
       "        <td style=\"padding-left: 1em; padding-right: 1em; text-align: center; vertical-align: top\">page595</td>\n",
       "        <td style=\"padding-left: 1em; padding-right: 1em; text-align: center; vertical-align: top\">page605</td>\n",
       "        <td style=\"padding-left: 1em; padding-right: 1em; text-align: center; vertical-align: top\">0.444444417953</td>\n",
       "        <td style=\"padding-left: 1em; padding-right: 1em; text-align: center; vertical-align: top\">2</td>\n",
       "    </tr>\n",
       "    <tr>\n",
       "        <td style=\"padding-left: 1em; padding-right: 1em; text-align: center; vertical-align: top\">page595</td>\n",
       "        <td style=\"padding-left: 1em; padding-right: 1em; text-align: center; vertical-align: top\">page597</td>\n",
       "        <td style=\"padding-left: 1em; padding-right: 1em; text-align: center; vertical-align: top\">0.300000011921</td>\n",
       "        <td style=\"padding-left: 1em; padding-right: 1em; text-align: center; vertical-align: top\">3</td>\n",
       "    </tr>\n",
       "    <tr>\n",
       "        <td style=\"padding-left: 1em; padding-right: 1em; text-align: center; vertical-align: top\">page595</td>\n",
       "        <td style=\"padding-left: 1em; padding-right: 1em; text-align: center; vertical-align: top\">page696</td>\n",
       "        <td style=\"padding-left: 1em; padding-right: 1em; text-align: center; vertical-align: top\">0.25</td>\n",
       "        <td style=\"padding-left: 1em; padding-right: 1em; text-align: center; vertical-align: top\">4</td>\n",
       "    </tr>\n",
       "    <tr>\n",
       "        <td style=\"padding-left: 1em; padding-right: 1em; text-align: center; vertical-align: top\">page595</td>\n",
       "        <td style=\"padding-left: 1em; padding-right: 1em; text-align: center; vertical-align: top\">page65</td>\n",
       "        <td style=\"padding-left: 1em; padding-right: 1em; text-align: center; vertical-align: top\">0.199999988079</td>\n",
       "        <td style=\"padding-left: 1em; padding-right: 1em; text-align: center; vertical-align: top\">5</td>\n",
       "    </tr>\n",
       "</table>\n",
       "[5 rows x 4 columns]<br/>\n",
       "</div>"
      ],
      "text/plain": [
       "Columns:\n",
       "\tpageID\tstr\n",
       "\tsimilar\tstr\n",
       "\tscore\tfloat\n",
       "\trank\tint\n",
       "\n",
       "Rows: 5\n",
       "\n",
       "Data:\n",
       "+---------+---------+----------------+------+\n",
       "|  pageID | similar |     score      | rank |\n",
       "+---------+---------+----------------+------+\n",
       "| page595 | page505 |     0.625      |  1   |\n",
       "| page595 | page605 | 0.444444417953 |  2   |\n",
       "| page595 | page597 | 0.300000011921 |  3   |\n",
       "| page595 | page696 |      0.25      |  4   |\n",
       "| page595 |  page65 | 0.199999988079 |  5   |\n",
       "+---------+---------+----------------+------+\n",
       "[5 rows x 4 columns]"
      ]
     },
     "execution_count": 30,
     "metadata": {},
     "output_type": "execute_result"
    }
   ],
   "source": [
    "model.get_similar_items(['page595'],k=5)"
   ]
  },
  {
   "cell_type": "markdown",
   "metadata": {},
   "source": [
    "**Understanding the similarity**"
   ]
  },
  {
   "cell_type": "code",
   "execution_count": 31,
   "metadata": {},
   "outputs": [
    {
     "name": "stdout",
     "output_type": "stream",
     "text": [
      "['user341' 'user41' 'user428' 'user679' 'user699']\n",
      "['user341' 'user41' 'user679' 'user820']\n",
      "['user341' 'user41' 'user428' 'user679' 'user699' 'user820']\n"
     ]
    }
   ],
   "source": [
    "it1 = pcomb_wo.loc[(pcomb_wo['pageID'] == 'page595'),'userID'].unique()\n",
    "it2 = pcomb_wo.loc[(pcomb_wo['pageID'] == 'page505'),'userID'].unique()\n",
    "print(np.intersect1d(it1,it2))\n",
    "it2 = pcomb_wo.loc[(pcomb_wo['pageID'] == 'page605'),'userID'].unique()\n",
    "print(np.intersect1d(it1,it2))\n",
    "it2 = pcomb_wo.loc[(pcomb_wo['pageID'] == 'page597'),'userID'].unique()\n",
    "print(np.intersect1d(it1,it2))"
   ]
  },
  {
   "cell_type": "markdown",
   "metadata": {},
   "source": [
    "** The result displayed below proves that pages that have the closest number visits for every matching user to the page 595 are declared most similar to the page 595 **"
   ]
  },
  {
   "cell_type": "code",
   "execution_count": 32,
   "metadata": {},
   "outputs": [
    {
     "name": "stdout",
     "output_type": "stream",
     "text": [
      "    userID  day\n",
      "0  user341   23\n",
      "1   user41    1\n",
      "2  user428    2\n",
      "3  user679    5\n",
      "4  user699   10\n",
      "5  user820    3\n",
      "     userID  day\n",
      "0  user1121    1\n",
      "1   user341    8\n",
      "2    user41    8\n",
      "3   user428    2\n",
      "4   user634    1\n",
      "5   user679    4\n",
      "6   user699    1\n",
      "    userID  day\n",
      "0  user341    7\n",
      "1   user41    1\n",
      "2  user634    1\n",
      "3  user679    4\n",
      "4  user727    3\n",
      "5  user820    1\n",
      "6  user976    1\n",
      "    userID  day\n",
      "0   user41    1\n",
      "1  user712    1\n",
      "2  user727    2\n",
      "3  user820    6\n",
      "     userID  day\n",
      "0  user1004    9\n",
      "1   user129    3\n",
      "2   user186    3\n",
      "3   user428    1\n",
      "4   user820    2\n",
      "5   user856   10\n"
     ]
    }
   ],
   "source": [
    "print pcomb_wo.loc[(pcomb_wo['pageID']=='page595'),['userID','day']].groupby('userID').agg('count').reset_index().sort(columns='userID')\n",
    "print pcomb_wo.loc[(pcomb_wo['pageID']=='page505'),['userID','day']].groupby('userID').agg('count').reset_index().sort(columns='userID') #23\n",
    "print pcomb_wo.loc[(pcomb_wo['pageID']=='page605'),['userID','day']].groupby('userID').agg('count').reset_index().sort(columns='userID') #19\n",
    "print pcomb_wo.loc[(pcomb_wo['pageID']=='page696'),['userID','day']].groupby('userID').agg('count').reset_index().sort(columns='userID') #19\n",
    "print pcomb_wo.loc[(pcomb_wo['pageID']=='page65'),['userID','day']].groupby('userID').agg('count').reset_index().sort(columns='userID') #19"
   ]
  },
  {
   "cell_type": "code",
   "execution_count": 33,
   "metadata": {},
   "outputs": [
    {
     "data": {
      "text/html": [
       "<div>\n",
       "<table border=\"1\" class=\"dataframe\">\n",
       "  <thead>\n",
       "    <tr style=\"text-align: right;\">\n",
       "      <th></th>\n",
       "      <th>pageID</th>\n",
       "      <th>Name</th>\n",
       "    </tr>\n",
       "  </thead>\n",
       "  <tbody>\n",
       "    <tr>\n",
       "      <th>608445</th>\n",
       "      <td>page597</td>\n",
       "      <td>Energy Markets Coal Summary</td>\n",
       "    </tr>\n",
       "    <tr>\n",
       "      <th>613145</th>\n",
       "      <td>page65</td>\n",
       "      <td>MISO Capacity Markets</td>\n",
       "    </tr>\n",
       "    <tr>\n",
       "      <th>615445</th>\n",
       "      <td>page505</td>\n",
       "      <td>OTC Survey</td>\n",
       "    </tr>\n",
       "    <tr>\n",
       "      <th>615474</th>\n",
       "      <td>page605</td>\n",
       "      <td>Forward Coal</td>\n",
       "    </tr>\n",
       "    <tr>\n",
       "      <th>615929</th>\n",
       "      <td>page696</td>\n",
       "      <td>SNL Coal Forecast: Price</td>\n",
       "    </tr>\n",
       "  </tbody>\n",
       "</table>\n",
       "</div>"
      ],
      "text/plain": [
       "         pageID                         Name\n",
       "608445  page597  Energy Markets Coal Summary\n",
       "613145   page65        MISO Capacity Markets\n",
       "615445  page505                   OTC Survey\n",
       "615474  page605                 Forward Coal\n",
       "615929  page696     SNL Coal Forecast: Price"
      ]
     },
     "execution_count": 33,
     "metadata": {},
     "output_type": "execute_result"
    }
   ],
   "source": [
    "pcomb_wo.loc[pcomb_wo['pageID'].isin(['page505','page605','page597','page696','page65']),['pageID','Name']].drop_duplicates('Name')"
   ]
  },
  {
   "cell_type": "markdown",
   "metadata": {},
   "source": [
    "### To obtain other pages that a user say user482 may like"
   ]
  },
  {
   "cell_type": "code",
   "execution_count": 35,
   "metadata": {},
   "outputs": [
    {
     "data": {
      "text/html": [
       "<div>\n",
       "<table border=\"1\" class=\"dataframe\">\n",
       "  <thead>\n",
       "    <tr style=\"text-align: right;\">\n",
       "      <th></th>\n",
       "      <th>day</th>\n",
       "    </tr>\n",
       "    <tr>\n",
       "      <th>pageID</th>\n",
       "      <th></th>\n",
       "    </tr>\n",
       "  </thead>\n",
       "  <tbody>\n",
       "    <tr>\n",
       "      <th>page431</th>\n",
       "      <td>2</td>\n",
       "    </tr>\n",
       "    <tr>\n",
       "      <th>page133</th>\n",
       "      <td>1</td>\n",
       "    </tr>\n",
       "    <tr>\n",
       "      <th>page170</th>\n",
       "      <td>1</td>\n",
       "    </tr>\n",
       "    <tr>\n",
       "      <th>page219</th>\n",
       "      <td>1</td>\n",
       "    </tr>\n",
       "    <tr>\n",
       "      <th>page308</th>\n",
       "      <td>1</td>\n",
       "    </tr>\n",
       "    <tr>\n",
       "      <th>page360</th>\n",
       "      <td>1</td>\n",
       "    </tr>\n",
       "    <tr>\n",
       "      <th>page45</th>\n",
       "      <td>1</td>\n",
       "    </tr>\n",
       "    <tr>\n",
       "      <th>page49</th>\n",
       "      <td>1</td>\n",
       "    </tr>\n",
       "    <tr>\n",
       "      <th>page575</th>\n",
       "      <td>1</td>\n",
       "    </tr>\n",
       "    <tr>\n",
       "      <th>page638</th>\n",
       "      <td>1</td>\n",
       "    </tr>\n",
       "    <tr>\n",
       "      <th>page650</th>\n",
       "      <td>1</td>\n",
       "    </tr>\n",
       "    <tr>\n",
       "      <th>page697</th>\n",
       "      <td>1</td>\n",
       "    </tr>\n",
       "    <tr>\n",
       "      <th>page75</th>\n",
       "      <td>1</td>\n",
       "    </tr>\n",
       "  </tbody>\n",
       "</table>\n",
       "</div>"
      ],
      "text/plain": [
       "         day\n",
       "pageID      \n",
       "page431    2\n",
       "page133    1\n",
       "page170    1\n",
       "page219    1\n",
       "page308    1\n",
       "page360    1\n",
       "page45     1\n",
       "page49     1\n",
       "page575    1\n",
       "page638    1\n",
       "page650    1\n",
       "page697    1\n",
       "page75     1"
      ]
     },
     "execution_count": 35,
     "metadata": {},
     "output_type": "execute_result"
    }
   ],
   "source": [
    "pcomb_wo.loc[pcomb_wo['userID']=='user482',['pageID','day']].groupby('pageID').agg('count').sort(columns='day',ascending=False)"
   ]
  },
  {
   "cell_type": "markdown",
   "metadata": {},
   "source": [
    "** Clearly any page that is similar to page431 should be our top choice here**"
   ]
  },
  {
   "cell_type": "code",
   "execution_count": 36,
   "metadata": {},
   "outputs": [
    {
     "data": {
      "text/html": [
       "<div style=\"max-height:1000px;max-width:1500px;overflow:auto;\"><table frame=\"box\" rules=\"cols\">\n",
       "    <tr>\n",
       "        <th style=\"padding-left: 1em; padding-right: 1em; text-align: center\">pageID</th>\n",
       "        <th style=\"padding-left: 1em; padding-right: 1em; text-align: center\">similar</th>\n",
       "        <th style=\"padding-left: 1em; padding-right: 1em; text-align: center\">score</th>\n",
       "        <th style=\"padding-left: 1em; padding-right: 1em; text-align: center\">rank</th>\n",
       "    </tr>\n",
       "    <tr>\n",
       "        <td style=\"padding-left: 1em; padding-right: 1em; text-align: center; vertical-align: top\">page431</td>\n",
       "        <td style=\"padding-left: 1em; padding-right: 1em; text-align: center; vertical-align: top\">page324</td>\n",
       "        <td style=\"padding-left: 1em; padding-right: 1em; text-align: center; vertical-align: top\">0.222222208977</td>\n",
       "        <td style=\"padding-left: 1em; padding-right: 1em; text-align: center; vertical-align: top\">1</td>\n",
       "    </tr>\n",
       "    <tr>\n",
       "        <td style=\"padding-left: 1em; padding-right: 1em; text-align: center; vertical-align: top\">page431</td>\n",
       "        <td style=\"padding-left: 1em; padding-right: 1em; text-align: center; vertical-align: top\">page514</td>\n",
       "        <td style=\"padding-left: 1em; padding-right: 1em; text-align: center; vertical-align: top\">0.157894730568</td>\n",
       "        <td style=\"padding-left: 1em; padding-right: 1em; text-align: center; vertical-align: top\">2</td>\n",
       "    </tr>\n",
       "    <tr>\n",
       "        <td style=\"padding-left: 1em; padding-right: 1em; text-align: center; vertical-align: top\">page431</td>\n",
       "        <td style=\"padding-left: 1em; padding-right: 1em; text-align: center; vertical-align: top\">page347</td>\n",
       "        <td style=\"padding-left: 1em; padding-right: 1em; text-align: center; vertical-align: top\">0.153846144676</td>\n",
       "        <td style=\"padding-left: 1em; padding-right: 1em; text-align: center; vertical-align: top\">3</td>\n",
       "    </tr>\n",
       "    <tr>\n",
       "        <td style=\"padding-left: 1em; padding-right: 1em; text-align: center; vertical-align: top\">page431</td>\n",
       "        <td style=\"padding-left: 1em; padding-right: 1em; text-align: center; vertical-align: top\">page342</td>\n",
       "        <td style=\"padding-left: 1em; padding-right: 1em; text-align: center; vertical-align: top\">0.14814811945</td>\n",
       "        <td style=\"padding-left: 1em; padding-right: 1em; text-align: center; vertical-align: top\">4</td>\n",
       "    </tr>\n",
       "    <tr>\n",
       "        <td style=\"padding-left: 1em; padding-right: 1em; text-align: center; vertical-align: top\">page431</td>\n",
       "        <td style=\"padding-left: 1em; padding-right: 1em; text-align: center; vertical-align: top\">page169</td>\n",
       "        <td style=\"padding-left: 1em; padding-right: 1em; text-align: center; vertical-align: top\">0.14814811945</td>\n",
       "        <td style=\"padding-left: 1em; padding-right: 1em; text-align: center; vertical-align: top\">5</td>\n",
       "    </tr>\n",
       "</table>\n",
       "[5 rows x 4 columns]<br/>\n",
       "</div>"
      ],
      "text/plain": [
       "Columns:\n",
       "\tpageID\tstr\n",
       "\tsimilar\tstr\n",
       "\tscore\tfloat\n",
       "\trank\tint\n",
       "\n",
       "Rows: 5\n",
       "\n",
       "Data:\n",
       "+---------+---------+----------------+------+\n",
       "|  pageID | similar |     score      | rank |\n",
       "+---------+---------+----------------+------+\n",
       "| page431 | page324 | 0.222222208977 |  1   |\n",
       "| page431 | page514 | 0.157894730568 |  2   |\n",
       "| page431 | page347 | 0.153846144676 |  3   |\n",
       "| page431 | page342 | 0.14814811945  |  4   |\n",
       "| page431 | page169 | 0.14814811945  |  5   |\n",
       "+---------+---------+----------------+------+\n",
       "[5 rows x 4 columns]"
      ]
     },
     "execution_count": 36,
     "metadata": {},
     "output_type": "execute_result"
    }
   ],
   "source": [
    "model.get_similar_items(['page431'],k=5)"
   ]
  },
  {
   "cell_type": "markdown",
   "metadata": {},
   "source": [
    "** Let's try to verify this using GraphLab ** "
   ]
  },
  {
   "cell_type": "code",
   "execution_count": 40,
   "metadata": {},
   "outputs": [
    {
     "data": {
      "text/html": [
       "<div style=\"max-height:1000px;max-width:1500px;overflow:auto;\"><table frame=\"box\" rules=\"cols\">\n",
       "    <tr>\n",
       "        <th style=\"padding-left: 1em; padding-right: 1em; text-align: center\">userID</th>\n",
       "        <th style=\"padding-left: 1em; padding-right: 1em; text-align: center\">pageID</th>\n",
       "        <th style=\"padding-left: 1em; padding-right: 1em; text-align: center\">score</th>\n",
       "        <th style=\"padding-left: 1em; padding-right: 1em; text-align: center\">rank</th>\n",
       "    </tr>\n",
       "    <tr>\n",
       "        <td style=\"padding-left: 1em; padding-right: 1em; text-align: center; vertical-align: top\">user482</td>\n",
       "        <td style=\"padding-left: 1em; padding-right: 1em; text-align: center; vertical-align: top\">page729</td>\n",
       "        <td style=\"padding-left: 1em; padding-right: 1em; text-align: center; vertical-align: top\">0.339865409411</td>\n",
       "        <td style=\"padding-left: 1em; padding-right: 1em; text-align: center; vertical-align: top\">1</td>\n",
       "    </tr>\n",
       "    <tr>\n",
       "        <td style=\"padding-left: 1em; padding-right: 1em; text-align: center; vertical-align: top\">user482</td>\n",
       "        <td style=\"padding-left: 1em; padding-right: 1em; text-align: center; vertical-align: top\">page544</td>\n",
       "        <td style=\"padding-left: 1em; padding-right: 1em; text-align: center; vertical-align: top\">0.271658530602</td>\n",
       "        <td style=\"padding-left: 1em; padding-right: 1em; text-align: center; vertical-align: top\">2</td>\n",
       "    </tr>\n",
       "    <tr>\n",
       "        <td style=\"padding-left: 1em; padding-right: 1em; text-align: center; vertical-align: top\">user482</td>\n",
       "        <td style=\"padding-left: 1em; padding-right: 1em; text-align: center; vertical-align: top\">page710</td>\n",
       "        <td style=\"padding-left: 1em; padding-right: 1em; text-align: center; vertical-align: top\">0.26848929662</td>\n",
       "        <td style=\"padding-left: 1em; padding-right: 1em; text-align: center; vertical-align: top\">3</td>\n",
       "    </tr>\n",
       "    <tr>\n",
       "        <td style=\"padding-left: 1em; padding-right: 1em; text-align: center; vertical-align: top\">user482</td>\n",
       "        <td style=\"padding-left: 1em; padding-right: 1em; text-align: center; vertical-align: top\">page726</td>\n",
       "        <td style=\"padding-left: 1em; padding-right: 1em; text-align: center; vertical-align: top\">0.258735432075</td>\n",
       "        <td style=\"padding-left: 1em; padding-right: 1em; text-align: center; vertical-align: top\">4</td>\n",
       "    </tr>\n",
       "    <tr>\n",
       "        <td style=\"padding-left: 1em; padding-right: 1em; text-align: center; vertical-align: top\">user482</td>\n",
       "        <td style=\"padding-left: 1em; padding-right: 1em; text-align: center; vertical-align: top\">page13</td>\n",
       "        <td style=\"padding-left: 1em; padding-right: 1em; text-align: center; vertical-align: top\">0.228441586861</td>\n",
       "        <td style=\"padding-left: 1em; padding-right: 1em; text-align: center; vertical-align: top\">5</td>\n",
       "    </tr>\n",
       "    <tr>\n",
       "        <td style=\"padding-left: 1em; padding-right: 1em; text-align: center; vertical-align: top\">user482</td>\n",
       "        <td style=\"padding-left: 1em; padding-right: 1em; text-align: center; vertical-align: top\">page741</td>\n",
       "        <td style=\"padding-left: 1em; padding-right: 1em; text-align: center; vertical-align: top\">0.173348165475</td>\n",
       "        <td style=\"padding-left: 1em; padding-right: 1em; text-align: center; vertical-align: top\">6</td>\n",
       "    </tr>\n",
       "    <tr>\n",
       "        <td style=\"padding-left: 1em; padding-right: 1em; text-align: center; vertical-align: top\">user482</td>\n",
       "        <td style=\"padding-left: 1em; padding-right: 1em; text-align: center; vertical-align: top\">page580</td>\n",
       "        <td style=\"padding-left: 1em; padding-right: 1em; text-align: center; vertical-align: top\">0.163384859379</td>\n",
       "        <td style=\"padding-left: 1em; padding-right: 1em; text-align: center; vertical-align: top\">7</td>\n",
       "    </tr>\n",
       "    <tr>\n",
       "        <td style=\"padding-left: 1em; padding-right: 1em; text-align: center; vertical-align: top\">user482</td>\n",
       "        <td style=\"padding-left: 1em; padding-right: 1em; text-align: center; vertical-align: top\">page158</td>\n",
       "        <td style=\"padding-left: 1em; padding-right: 1em; text-align: center; vertical-align: top\">0.153633521153</td>\n",
       "        <td style=\"padding-left: 1em; padding-right: 1em; text-align: center; vertical-align: top\">8</td>\n",
       "    </tr>\n",
       "    <tr>\n",
       "        <td style=\"padding-left: 1em; padding-right: 1em; text-align: center; vertical-align: top\">user482</td>\n",
       "        <td style=\"padding-left: 1em; padding-right: 1em; text-align: center; vertical-align: top\">page19</td>\n",
       "        <td style=\"padding-left: 1em; padding-right: 1em; text-align: center; vertical-align: top\">0.153120815754</td>\n",
       "        <td style=\"padding-left: 1em; padding-right: 1em; text-align: center; vertical-align: top\">9</td>\n",
       "    </tr>\n",
       "    <tr>\n",
       "        <td style=\"padding-left: 1em; padding-right: 1em; text-align: center; vertical-align: top\">user482</td>\n",
       "        <td style=\"padding-left: 1em; padding-right: 1em; text-align: center; vertical-align: top\">page635</td>\n",
       "        <td style=\"padding-left: 1em; padding-right: 1em; text-align: center; vertical-align: top\">0.151837729491</td>\n",
       "        <td style=\"padding-left: 1em; padding-right: 1em; text-align: center; vertical-align: top\">10</td>\n",
       "    </tr>\n",
       "</table>\n",
       "[14 rows x 4 columns]<br/>Note: Only the head of the SFrame is printed.<br/>You can use print_rows(num_rows=m, num_columns=n) to print more rows and columns.\n",
       "</div>"
      ],
      "text/plain": [
       "Columns:\n",
       "\tuserID\tstr\n",
       "\tpageID\tstr\n",
       "\tscore\tfloat\n",
       "\trank\tint\n",
       "\n",
       "Rows: 14\n",
       "\n",
       "Data:\n",
       "+---------+---------+----------------+------+\n",
       "|  userID |  pageID |     score      | rank |\n",
       "+---------+---------+----------------+------+\n",
       "| user482 | page729 | 0.339865409411 |  1   |\n",
       "| user482 | page544 | 0.271658530602 |  2   |\n",
       "| user482 | page710 | 0.26848929662  |  3   |\n",
       "| user482 | page726 | 0.258735432075 |  4   |\n",
       "| user482 |  page13 | 0.228441586861 |  5   |\n",
       "| user482 | page741 | 0.173348165475 |  6   |\n",
       "| user482 | page580 | 0.163384859379 |  7   |\n",
       "| user482 | page158 | 0.153633521153 |  8   |\n",
       "| user482 |  page19 | 0.153120815754 |  9   |\n",
       "| user482 | page635 | 0.151837729491 |  10  |\n",
       "+---------+---------+----------------+------+\n",
       "[14 rows x 4 columns]\n",
       "Note: Only the head of the SFrame is printed.\n",
       "You can use print_rows(num_rows=m, num_columns=n) to print more rows and columns."
      ]
     },
     "execution_count": 40,
     "metadata": {},
     "output_type": "execute_result"
    }
   ],
   "source": [
    "model.recommend(users=['user482'], k=14)"
   ]
  },
  {
   "cell_type": "markdown",
   "metadata": {},
   "source": [
    "From the APIs, \"the item_similarity_recommender will return the most similar items according to the user-chosen similarity.\" Hence we have a different set of recommendations here than the one found through observation.\n",
    "\n",
    "My final answer would be to take the top-k from both the approaches."
   ]
  },
  {
   "cell_type": "markdown",
   "metadata": {},
   "source": [
    "**Understanding similarity**"
   ]
  },
  {
   "cell_type": "code",
   "execution_count": null,
   "metadata": {
    "collapsed": true
   },
   "outputs": [],
   "source": [
    "it1 = pcomb_wo.loc[(pcomb_wo['userID'] == 'user482'),'pageID'].unique()\n",
    "it2 = pcomb_wo.loc[(pcomb_wo['userID'] == 'user1103'),'pageID'].unique()\n",
    "print len(np.intersect1d(it1,it2))\n",
    "it2 = pcomb_wo.loc[(pcomb_wo['userID'] == 'user716'),'pageID'].unique()\n",
    "print len(np.intersect1d(it1,it2))\n",
    "com = np.intersect1d(it1,it2)\n",
    "it2 = pcomb_wo.loc[(pcomb_wo['userID'] == 'user898'),'pageID'].unique()\n",
    "com2 = np.intersect1d(it1,it2)\n",
    "print len(com2)\n",
    "it2 = pcomb_wo.loc[(pcomb_wo['userID'] == 'user231'),'pageID'].unique()\n",
    "com2 = np.intersect1d(it1,it2)\n",
    "print len(com2)\n",
    "it2 = pcomb_wo.loc[(pcomb_wo['userID'] == 'user37'),'pageID'].unique()    \n",
    "com2 = np.intersect1d(it1,it2)\n",
    "print len(com2)"
   ]
  },
  {
   "cell_type": "markdown",
   "metadata": {},
   "source": [
    "## End of Project"
   ]
  },
  {
   "cell_type": "markdown",
   "metadata": {},
   "source": [
    "**********************************************************"
   ]
  },
  {
   "cell_type": "markdown",
   "metadata": {},
   "source": [
    "**Rough Section. Can be ignored**"
   ]
  },
  {
   "cell_type": "code",
   "execution_count": null,
   "metadata": {
    "collapsed": true
   },
   "outputs": [],
   "source": [
    "#pusage_dt = pusage.copy()\n",
    "#pusage_dt['timeTS'] = pd.to_datetime(pusage['time'],format= '%H:%M:%S' ).dt.time\n",
    "#pusage_dt = pusage_dt.drop('time',axis=1)\n",
    "#mo = pcomb_wo.groupby(['userID','pageID','day']).agg('count').reset_index().sort(columns='time',ascending=False).rename(columns={\"time\":\"count\"}).drop(['Name'],axis=1)\n",
    "#common = pd.merge(pcomb_wo,upo,on=['pageID','userID','day'])\n",
    "#df1.loc[~df1.set_index(list(df1.columns)).index.isin(df2.set_index(list(df2.columns)).index)]\n",
    "#pcomb_wo = pcomb_wo.loc[~pcomb_wo.set_index(list(pcomb_wo.columns)).index.isin(common.set_index(list(common.columns)).index)]\n",
    "#pcomb_wo[pcomb_wo['pageID']=='page135'] #Weekly U. S. Coal Production By Region\n",
    "#pcomb_wo[pcomb_wo['pageID']=='page65'] #MISO Capacity Markets\n",
    "#usdfN = usdf.groupby(['day','userID']).agg('count').reset_index().sort(columns='time',ascending=False).rename(columns={\"time\":\"count\"}).drop(['Name','pageID'],axis=1)\n",
    "#usdfN = usdfN.sort(columns='day')\n",
    "#usdfN.head()\n",
    "#.reset_index().sort(columns='time',ascending=False).rename(columns={\"time\":\"count\"}).drop(['Name'],axis=1)\n",
    "\n",
    "#onehot = pd.get_dummies(temp['userID'])\n",
    "#temp = temp.drop(['userID'],axis=1)\n",
    "#temp = temp.join(onehot)\n",
    "#onehot = pd.get_dummies(temp['pageID'])\n",
    "#temp = temp.drop(['pageID'],axis=1)\n",
    "#temp = temp.join(onehot)\n",
    "#pca = PCA(n_components=2)\n",
    "#pca.fit(temp)\n",
    "#redtemp = pca.transform(temp)\n",
    "#redtemp = pd.DataFrame(redtemp,columns=['Dimension 1', 'Dimension 2']) \n",
    "#pca.explained_variance_ratio_\n",
    "#clusterer = GMM(n_components=2)\n",
    "#clusterer.fit(redtemp)\n",
    "#preds = clusterer.predict(redtemp)\n",
    "#centers = clusterer.means_\n",
    "#true_centers = pca.inverse_transform(centers)\n",
    "#true_centers = pd.DataFrame(np.round(true_centers), columns = temp.keys())\n",
    "#true_centers.index = segments\n",
    "#model = gl.kmeans.create(tsf, num_clusters=3)\n",
    "#clusterer = GMM(n_components=3)\n",
    "#clusterer.fit(temp)\n",
    "#preds = clusterer.predict(temp)\n",
    "#centers = clusterer.means_\n",
    "#kclusterer = KMeans(n_clusters=3)\n",
    "#preds = kclusterer.fit_predict(temp)\n",
    "#centers = kclusterer.cluster_centers_\n",
    "#centers\n",
    "#print pcomb_wo.loc[pcomb_wo['pageID']=='page322','Name'].unique()\n",
    "#print pcomb_wo.loc[pcomb_wo['pageID']=='page95','Name'].unique()\n",
    "#print pcomb_wo.loc[pcomb_wo['pageID']=='page499','Name'].unique()\n",
    "\n",
    "#\n",
    "#uvdf = uvdf.loc[uvdf['userID'].isin(mau),:]\n",
    "#uvdf['time'] = pd.to_datetime(uvdf['time'],format= '%H:%M:%S' ).dt.hour\n",
    "#uvdfN = uvdf.groupby(['Name','time']).agg('count').reset_index()\n",
    "#uvdfN = uvdfN.rename(columns={\"userID\":\"active_members_count\"})\n",
    "#uvdfN.head()\n",
    "#p = ggplot(aes(x='time', y='Name', color='active_members_count'), data=uvdfN) + \\\n",
    "#    geom_point() + \\\n",
    "#    scale_color_gradient(low = 'white', high = 'black')   \n",
    "\n",
    "#t = theme_bw()\n",
    "#t._rcParams['figure.figsize'] = 20,20 # Legend font size\n",
    "#t._rcParams['font.size'] = 20 # Legend font size\n",
    "#t._rcParams['xtick.labelsize'] = 15 # xaxis tick label size\n",
    "#t._rcParams['ytick.labelsize'] = 10 # yaxis tick label size\n",
    "#t._rcParams['axes.labelsize'] = 15  # axis label size\n",
    "#p + t    \n",
    "\n",
    "#df_time = pcomb_wo.copy()\n",
    "#df_time['timeInHr'] = pd.to_datetime(pusage['time'],format= '%H:%M:%S' ).dt.hour\n",
    "#df_time = df_time.drop('time',axis=1)\n",
    "#sf_time = gl.SFrame(df_time.head(100))\n",
    "#m = gl.toolkits.anomaly_detection.create(sf_time,verbose=False)\n",
    "#m['scores']\n",
    "\n",
    "#ple = preprocessing.LabelEncoder()\n",
    "#ple.fit(list(temp['pageID'].values))\n",
    "#temp['pageID'] = ple.transform(list(temp['pageID'].values))\n",
    "#ule = preprocessing.LabelEncoder()\n",
    "#ule.fit(list(temp['userID'].values))\n",
    "#temp['userID'] = ule.transform(list(temp['userID'].values))\n",
    "#print temp.shape"
   ]
  }
 ],
 "metadata": {
  "kernelspec": {
   "display_name": "Python 2",
   "language": "python",
   "name": "python2"
  },
  "language_info": {
   "codemirror_mode": {
    "name": "ipython",
    "version": 2
   },
   "file_extension": ".py",
   "mimetype": "text/x-python",
   "name": "python",
   "nbconvert_exporter": "python",
   "pygments_lexer": "ipython2",
   "version": "2.7.13"
  }
 },
 "nbformat": 4,
 "nbformat_minor": 2
}
